{
 "cells": [
  {
   "cell_type": "markdown",
   "id": "066f9e1c",
   "metadata": {},
   "source": [
    "* 데이터 수집       \n",
    "http://data.seoul.go.kr/dataList/OA-1170/S/1/datasetView.do"
   ]
  },
  {
   "cell_type": "code",
   "execution_count": 3,
   "id": "ce5fcecb",
   "metadata": {},
   "outputs": [],
   "source": [
    "import pandas as pd\n",
    "import matplotlib.pyplot as plt"
   ]
  },
  {
   "cell_type": "code",
   "execution_count": 4,
   "id": "8ea0d76a",
   "metadata": {},
   "outputs": [],
   "source": [
    "# 그래프를 노트북 안에 그리기 위해 설정\n",
    "%matplotlib inline\n",
    "\n",
    "# 필요한 패키지와 라이브러리 가져온다.\n",
    "import matplotlib as mpl\n",
    "import matplotlib.pyplot as plt\n",
    "import matplotlib.font_manager as fm\n",
    "\n",
    "# 그래프에서 마이너스 폰트 깨지는 문제에 대한 대처\n",
    "mpl.rcParams['axes.unicode_minus'] = False\n",
    "\n",
    "# 폰트 지정하기\n",
    "plt.rcParams['font.family'] = 'NanumBarunGothic'"
   ]
  },
  {
   "cell_type": "markdown",
   "id": "c085428f",
   "metadata": {},
   "source": [
    "# 데이터 수집"
   ]
  },
  {
   "cell_type": "markdown",
   "id": "edde5825",
   "metadata": {},
   "source": [
    "## 데이터프레임 생성\n",
    "* csv 파일을 데이터프레임으로 만들기\n",
    "* encoding='cp949'"
   ]
  },
  {
   "cell_type": "code",
   "execution_count": 5,
   "id": "df5141a0",
   "metadata": {},
   "outputs": [],
   "source": [
    "df = pd.read_csv('data/생필품 농수축산물 가격 정보(2021년1월_6월).csv', encoding='cp949')"
   ]
  },
  {
   "cell_type": "code",
   "execution_count": 6,
   "id": "060cf52d",
   "metadata": {
    "scrolled": false
   },
   "outputs": [
    {
     "data": {
      "text/html": [
       "<div>\n",
       "<style scoped>\n",
       "    .dataframe tbody tr th:only-of-type {\n",
       "        vertical-align: middle;\n",
       "    }\n",
       "\n",
       "    .dataframe tbody tr th {\n",
       "        vertical-align: top;\n",
       "    }\n",
       "\n",
       "    .dataframe thead th {\n",
       "        text-align: right;\n",
       "    }\n",
       "</style>\n",
       "<table border=\"1\" class=\"dataframe\">\n",
       "  <thead>\n",
       "    <tr style=\"text-align: right;\">\n",
       "      <th></th>\n",
       "      <th>일련번호</th>\n",
       "      <th>시장/마트 번호</th>\n",
       "      <th>시장/마트 이름</th>\n",
       "      <th>품목 번호</th>\n",
       "      <th>품목 이름</th>\n",
       "      <th>실판매규격</th>\n",
       "      <th>가격(원)</th>\n",
       "      <th>년도-월</th>\n",
       "      <th>비고</th>\n",
       "      <th>시장유형 구분(시장/마트) 코드</th>\n",
       "      <th>시장유형 구분(시장/마트) 이름</th>\n",
       "      <th>자치구 코드</th>\n",
       "      <th>자치구 이름</th>\n",
       "      <th>점검일자</th>\n",
       "    </tr>\n",
       "  </thead>\n",
       "  <tbody>\n",
       "    <tr>\n",
       "      <th>0</th>\n",
       "      <td>1673336</td>\n",
       "      <td>2</td>\n",
       "      <td>신세계백화점</td>\n",
       "      <td>133</td>\n",
       "      <td>무(세척무)</td>\n",
       "      <td>1개</td>\n",
       "      <td>2980</td>\n",
       "      <td>2021-06</td>\n",
       "      <td>국내산,세척무</td>\n",
       "      <td>2</td>\n",
       "      <td>대형마트</td>\n",
       "      <td>140000</td>\n",
       "      <td>중구</td>\n",
       "      <td>2021-06-24</td>\n",
       "    </tr>\n",
       "    <tr>\n",
       "      <th>1</th>\n",
       "      <td>1667985</td>\n",
       "      <td>228</td>\n",
       "      <td>방배종합시장</td>\n",
       "      <td>23</td>\n",
       "      <td>상추</td>\n",
       "      <td>1봉150g</td>\n",
       "      <td>1500</td>\n",
       "      <td>2021-06</td>\n",
       "      <td>국내산</td>\n",
       "      <td>1</td>\n",
       "      <td>전통시장</td>\n",
       "      <td>650000</td>\n",
       "      <td>서초구</td>\n",
       "      <td>2021-06-24</td>\n",
       "    </tr>\n",
       "    <tr>\n",
       "      <th>2</th>\n",
       "      <td>1666935</td>\n",
       "      <td>1</td>\n",
       "      <td>통인시장</td>\n",
       "      <td>266</td>\n",
       "      <td>고등어(생물,국산)</td>\n",
       "      <td>1마리</td>\n",
       "      <td>4000</td>\n",
       "      <td>2021-06</td>\n",
       "      <td>국내산,생물</td>\n",
       "      <td>1</td>\n",
       "      <td>전통시장</td>\n",
       "      <td>110000</td>\n",
       "      <td>종로구</td>\n",
       "      <td>2021-06-24</td>\n",
       "    </tr>\n",
       "    <tr>\n",
       "      <th>3</th>\n",
       "      <td>1671116</td>\n",
       "      <td>25</td>\n",
       "      <td>방학동도깨비시장</td>\n",
       "      <td>268</td>\n",
       "      <td>고등어(냉동,국산)</td>\n",
       "      <td>350g</td>\n",
       "      <td>2500</td>\n",
       "      <td>2021-06</td>\n",
       "      <td>국내산</td>\n",
       "      <td>1</td>\n",
       "      <td>전통시장</td>\n",
       "      <td>320000</td>\n",
       "      <td>도봉구</td>\n",
       "      <td>2021-06-24</td>\n",
       "    </tr>\n",
       "    <tr>\n",
       "      <th>4</th>\n",
       "      <td>1667066</td>\n",
       "      <td>6</td>\n",
       "      <td>이마트 용산점</td>\n",
       "      <td>171</td>\n",
       "      <td>달걀(10개)</td>\n",
       "      <td>15구</td>\n",
       "      <td>5980</td>\n",
       "      <td>2021-06</td>\n",
       "      <td>낭이생생대란</td>\n",
       "      <td>2</td>\n",
       "      <td>대형마트</td>\n",
       "      <td>170000</td>\n",
       "      <td>용산구</td>\n",
       "      <td>2021-06-24</td>\n",
       "    </tr>\n",
       "    <tr>\n",
       "      <th>...</th>\n",
       "      <td>...</td>\n",
       "      <td>...</td>\n",
       "      <td>...</td>\n",
       "      <td>...</td>\n",
       "      <td>...</td>\n",
       "      <td>...</td>\n",
       "      <td>...</td>\n",
       "      <td>...</td>\n",
       "      <td>...</td>\n",
       "      <td>...</td>\n",
       "      <td>...</td>\n",
       "      <td>...</td>\n",
       "      <td>...</td>\n",
       "      <td>...</td>\n",
       "    </tr>\n",
       "    <tr>\n",
       "      <th>42694</th>\n",
       "      <td>1636118</td>\n",
       "      <td>226</td>\n",
       "      <td>롯데마트 구로점</td>\n",
       "      <td>171</td>\n",
       "      <td>달걀(10개)</td>\n",
       "      <td>10개(600g)</td>\n",
       "      <td>2990</td>\n",
       "      <td>2021-01</td>\n",
       "      <td>국내산,특란</td>\n",
       "      <td>2</td>\n",
       "      <td>대형마트</td>\n",
       "      <td>530000</td>\n",
       "      <td>구로구</td>\n",
       "      <td>2021-01-21</td>\n",
       "    </tr>\n",
       "    <tr>\n",
       "      <th>42695</th>\n",
       "      <td>1636108</td>\n",
       "      <td>226</td>\n",
       "      <td>롯데마트 구로점</td>\n",
       "      <td>27</td>\n",
       "      <td>배</td>\n",
       "      <td>1개 (600g)</td>\n",
       "      <td>1590</td>\n",
       "      <td>2021-01</td>\n",
       "      <td>국내산,신고</td>\n",
       "      <td>2</td>\n",
       "      <td>대형마트</td>\n",
       "      <td>530000</td>\n",
       "      <td>구로구</td>\n",
       "      <td>2021-01-21</td>\n",
       "    </tr>\n",
       "    <tr>\n",
       "      <th>42696</th>\n",
       "      <td>1636114</td>\n",
       "      <td>226</td>\n",
       "      <td>롯데마트 구로점</td>\n",
       "      <td>312</td>\n",
       "      <td>애호박</td>\n",
       "      <td>1개 (300g)</td>\n",
       "      <td>2790</td>\n",
       "      <td>2021-01</td>\n",
       "      <td>국내산,청원</td>\n",
       "      <td>2</td>\n",
       "      <td>대형마트</td>\n",
       "      <td>530000</td>\n",
       "      <td>구로구</td>\n",
       "      <td>2021-01-21</td>\n",
       "    </tr>\n",
       "    <tr>\n",
       "      <th>42697</th>\n",
       "      <td>1636113</td>\n",
       "      <td>226</td>\n",
       "      <td>롯데마트 구로점</td>\n",
       "      <td>22</td>\n",
       "      <td>오이</td>\n",
       "      <td>1개 (200g)</td>\n",
       "      <td>1190</td>\n",
       "      <td>2021-01</td>\n",
       "      <td>국내산,백오이</td>\n",
       "      <td>2</td>\n",
       "      <td>대형마트</td>\n",
       "      <td>530000</td>\n",
       "      <td>구로구</td>\n",
       "      <td>2021-01-21</td>\n",
       "    </tr>\n",
       "    <tr>\n",
       "      <th>42698</th>\n",
       "      <td>1636121</td>\n",
       "      <td>226</td>\n",
       "      <td>롯데마트 구로점</td>\n",
       "      <td>302</td>\n",
       "      <td>명태</td>\n",
       "      <td>1마리(600g)</td>\n",
       "      <td>1670</td>\n",
       "      <td>2021-01</td>\n",
       "      <td>수입산,코다리,냉동</td>\n",
       "      <td>2</td>\n",
       "      <td>대형마트</td>\n",
       "      <td>530000</td>\n",
       "      <td>구로구</td>\n",
       "      <td>2021-01-21</td>\n",
       "    </tr>\n",
       "  </tbody>\n",
       "</table>\n",
       "<p>42699 rows × 14 columns</p>\n",
       "</div>"
      ],
      "text/plain": [
       "          일련번호  시장/마트 번호  시장/마트 이름  품목 번호       품목 이름      실판매규격  가격(원)  \\\n",
       "0      1673336         2    신세계백화점    133      무(세척무)         1개   2980   \n",
       "1      1667985       228    방배종합시장     23          상추     1봉150g   1500   \n",
       "2      1666935         1      통인시장    266  고등어(생물,국산)        1마리   4000   \n",
       "3      1671116        25  방학동도깨비시장    268  고등어(냉동,국산)       350g   2500   \n",
       "4      1667066         6   이마트 용산점    171     달걀(10개)        15구   5980   \n",
       "...        ...       ...       ...    ...         ...        ...    ...   \n",
       "42694  1636118       226  롯데마트 구로점    171     달걀(10개)  10개(600g)   2990   \n",
       "42695  1636108       226  롯데마트 구로점     27           배  1개 (600g)   1590   \n",
       "42696  1636114       226  롯데마트 구로점    312         애호박  1개 (300g)   2790   \n",
       "42697  1636113       226  롯데마트 구로점     22          오이  1개 (200g)   1190   \n",
       "42698  1636121       226  롯데마트 구로점    302          명태  1마리(600g)   1670   \n",
       "\n",
       "          년도-월          비고  시장유형 구분(시장/마트) 코드 시장유형 구분(시장/마트) 이름  자치구 코드  \\\n",
       "0      2021-06     국내산,세척무                  2              대형마트  140000   \n",
       "1      2021-06         국내산                  1              전통시장  650000   \n",
       "2      2021-06      국내산,생물                  1              전통시장  110000   \n",
       "3      2021-06         국내산                  1              전통시장  320000   \n",
       "4      2021-06      낭이생생대란                  2              대형마트  170000   \n",
       "...        ...         ...                ...               ...     ...   \n",
       "42694  2021-01      국내산,특란                  2              대형마트  530000   \n",
       "42695  2021-01      국내산,신고                  2              대형마트  530000   \n",
       "42696  2021-01      국내산,청원                  2              대형마트  530000   \n",
       "42697  2021-01     국내산,백오이                  2              대형마트  530000   \n",
       "42698  2021-01  수입산,코다리,냉동                  2              대형마트  530000   \n",
       "\n",
       "      자치구 이름        점검일자  \n",
       "0         중구  2021-06-24  \n",
       "1        서초구  2021-06-24  \n",
       "2        종로구  2021-06-24  \n",
       "3        도봉구  2021-06-24  \n",
       "4        용산구  2021-06-24  \n",
       "...      ...         ...  \n",
       "42694    구로구  2021-01-21  \n",
       "42695    구로구  2021-01-21  \n",
       "42696    구로구  2021-01-21  \n",
       "42697    구로구  2021-01-21  \n",
       "42698    구로구  2021-01-21  \n",
       "\n",
       "[42699 rows x 14 columns]"
      ]
     },
     "execution_count": 6,
     "metadata": {},
     "output_type": "execute_result"
    }
   ],
   "source": [
    "df"
   ]
  },
  {
   "cell_type": "markdown",
   "id": "b3604c1e",
   "metadata": {},
   "source": [
    "## 결측치 확인"
   ]
  },
  {
   "cell_type": "code",
   "execution_count": 7,
   "id": "879bb932",
   "metadata": {
    "scrolled": false
   },
   "outputs": [
    {
     "data": {
      "text/plain": [
       "일련번호                   0\n",
       "시장/마트 번호               0\n",
       "시장/마트 이름               0\n",
       "품목 번호                  0\n",
       "품목 이름                  0\n",
       "실판매규격                  0\n",
       "가격(원)                  0\n",
       "년도-월                   0\n",
       "비고                   274\n",
       "시장유형 구분(시장/마트) 코드      0\n",
       "시장유형 구분(시장/마트) 이름      0\n",
       "자치구 코드                 0\n",
       "자치구 이름                 0\n",
       "점검일자                   0\n",
       "dtype: int64"
      ]
     },
     "execution_count": 7,
     "metadata": {},
     "output_type": "execute_result"
    }
   ],
   "source": [
    "df.isnull().sum()"
   ]
  },
  {
   "cell_type": "markdown",
   "id": "19176e77",
   "metadata": {},
   "source": [
    "## 자료형 확인"
   ]
  },
  {
   "cell_type": "code",
   "execution_count": 8,
   "id": "c0224112",
   "metadata": {
    "scrolled": false
   },
   "outputs": [
    {
     "data": {
      "text/plain": [
       "일련번호                  int64\n",
       "시장/마트 번호              int64\n",
       "시장/마트 이름             object\n",
       "품목 번호                 int64\n",
       "품목 이름                object\n",
       "실판매규격                object\n",
       "가격(원)                 int64\n",
       "년도-월                 object\n",
       "비고                   object\n",
       "시장유형 구분(시장/마트) 코드     int64\n",
       "시장유형 구분(시장/마트) 이름    object\n",
       "자치구 코드                int64\n",
       "자치구 이름               object\n",
       "점검일자                 object\n",
       "dtype: object"
      ]
     },
     "execution_count": 8,
     "metadata": {},
     "output_type": "execute_result"
    }
   ],
   "source": [
    "df.dtypes"
   ]
  },
  {
   "cell_type": "markdown",
   "id": "008c6787",
   "metadata": {},
   "source": [
    "# 데이터 확인"
   ]
  },
  {
   "cell_type": "markdown",
   "id": "36459f0a",
   "metadata": {},
   "source": [
    "## 컬럼별 데이터 확인"
   ]
  },
  {
   "cell_type": "code",
   "execution_count": 9,
   "id": "86e88a84",
   "metadata": {
    "scrolled": true
   },
   "outputs": [
    {
     "data": {
      "text/plain": [
       "102"
      ]
     },
     "execution_count": 9,
     "metadata": {},
     "output_type": "execute_result"
    }
   ],
   "source": [
    "df['시장/마트 번호'].nunique()"
   ]
  },
  {
   "cell_type": "markdown",
   "id": "ec699832",
   "metadata": {},
   "source": [
    "## 시장/마트 목록"
   ]
  },
  {
   "cell_type": "code",
   "execution_count": 10,
   "id": "ec19d1a8",
   "metadata": {},
   "outputs": [
    {
     "data": {
      "text/plain": [
       "102"
      ]
     },
     "execution_count": 10,
     "metadata": {},
     "output_type": "execute_result"
    }
   ],
   "source": [
    "df['시장/마트 이름'].nunique()"
   ]
  },
  {
   "cell_type": "code",
   "execution_count": 11,
   "id": "cda3e7b0",
   "metadata": {},
   "outputs": [
    {
     "data": {
      "text/plain": [
       "array(['신세계백화점', '방배종합시장', '통인시장', '방학동도깨비시장', '이마트 용산점', '용문시장',\n",
       "       'NC백화점 불광점', '관악신사시장(신림4동)', '영천시장', '고척근린시장', '이마트 여의도점',\n",
       "       '현대백화점 미아점', '롯데백화점', '이마트 가양점', '홈플러스 동대문점', '송화시장', '영등포전통시장',\n",
       "       '홈플러스 등촌점', '후암시장', '경동시장', '롯데마트 강변점', '롯데백화점 노원점', '롯데백화점 청량리점',\n",
       "       '홈플러스 영등포점', '우림시장', '청량리종합시장', '농협 하나로마트 용산점', '이마트 자양점',\n",
       "       '롯데백화점 미아점', '자양골목시장', '수유재래시장', '홈플러스 중계점', '금남시장', '인왕시장',\n",
       "       '원당종합시장', '목3동시장', '신영시장', '이마트 왕십리점', '뉴코아아울렛 강남점', '망원시장',\n",
       "       '마천중앙시장', '신세계백화점 강남점', '롯데백화점 영등포점', '남성시장', '마포농수산물시장',\n",
       "       '이마트 창동점', '공릉동 도깨비시장', '홈플러스 면목점', '이마트 청계점', '이마트 성수점',\n",
       "       '홈플러스 방학점', '이마트 역삼점', '남구로시장', '이마트 은평점', '뚝도시장', '롯데백화점 강남점',\n",
       "       '노룬산골목시장', '현대백화점 신촌점', '홈플러스 목동점', '태평백화점', '대조시장', '남문시장',\n",
       "       '광장시장', '대림중앙시장', '남대문시장', '하나로클럽 양재점', '현대시장', '상계중앙시장',\n",
       "       '농협하나로마트 신촌점', '이마트 신도림점', '신창시장', '롯데백화점 잠실점', '이마트 목동점',\n",
       "       '홈플러스 잠실점', '대림시장', '홈플러스 시흥점', '암사종합시장', '이마트 상봉점', '숭인시장',\n",
       "       '둔촌역전통시장', '홈플러스 월드컵점', '도곡시장', '신원시장(신림1동)', '돈암제일시장', '청담삼익시장',\n",
       "       '롯데백화점 관악점', '세이브 마트', '화곡본동시장', '롯데마트 서울역점', '방이시장', '장위골목시장',\n",
       "       '롯데슈퍼', '이마트 미아점', '이마트 명일점', '홈플러스 강동점', '서울중앙시장', '홈플러스 독산점',\n",
       "       '동원시장', '하나로클럽 미아점', 'NC백화점 신구로점', '이마트 에브리데이 창동점', '롯데마트 구로점'],\n",
       "      dtype=object)"
      ]
     },
     "execution_count": 11,
     "metadata": {},
     "output_type": "execute_result"
    }
   ],
   "source": [
    "# 시장/마트 목록\n",
    "df['시장/마트 이름'].unique()"
   ]
  },
  {
   "cell_type": "code",
   "execution_count": 12,
   "id": "8c936595",
   "metadata": {
    "scrolled": true
   },
   "outputs": [],
   "source": [
    "# 시장/마트 목록\n",
    "df_market = df[['시장/마트 번호','시장/마트 이름','자치구 이름','시장유형 구분(시장/마트) 이름']].drop_duplicates()"
   ]
  },
  {
   "cell_type": "code",
   "execution_count": 13,
   "id": "e60ddc17",
   "metadata": {
    "scrolled": false
   },
   "outputs": [
    {
     "data": {
      "text/html": [
       "<div>\n",
       "<style scoped>\n",
       "    .dataframe tbody tr th:only-of-type {\n",
       "        vertical-align: middle;\n",
       "    }\n",
       "\n",
       "    .dataframe tbody tr th {\n",
       "        vertical-align: top;\n",
       "    }\n",
       "\n",
       "    .dataframe thead th {\n",
       "        text-align: right;\n",
       "    }\n",
       "</style>\n",
       "<table border=\"1\" class=\"dataframe\">\n",
       "  <thead>\n",
       "    <tr style=\"text-align: right;\">\n",
       "      <th></th>\n",
       "      <th>시장/마트 번호</th>\n",
       "      <th>시장/마트 이름</th>\n",
       "      <th>자치구 이름</th>\n",
       "      <th>시장유형 구분(시장/마트) 이름</th>\n",
       "    </tr>\n",
       "  </thead>\n",
       "  <tbody>\n",
       "    <tr>\n",
       "      <th>0</th>\n",
       "      <td>2</td>\n",
       "      <td>신세계백화점</td>\n",
       "      <td>중구</td>\n",
       "      <td>대형마트</td>\n",
       "    </tr>\n",
       "    <tr>\n",
       "      <th>1</th>\n",
       "      <td>228</td>\n",
       "      <td>방배종합시장</td>\n",
       "      <td>서초구</td>\n",
       "      <td>전통시장</td>\n",
       "    </tr>\n",
       "    <tr>\n",
       "      <th>2</th>\n",
       "      <td>1</td>\n",
       "      <td>통인시장</td>\n",
       "      <td>종로구</td>\n",
       "      <td>전통시장</td>\n",
       "    </tr>\n",
       "    <tr>\n",
       "      <th>3</th>\n",
       "      <td>25</td>\n",
       "      <td>방학동도깨비시장</td>\n",
       "      <td>도봉구</td>\n",
       "      <td>전통시장</td>\n",
       "    </tr>\n",
       "    <tr>\n",
       "      <th>4</th>\n",
       "      <td>6</td>\n",
       "      <td>이마트 용산점</td>\n",
       "      <td>용산구</td>\n",
       "      <td>대형마트</td>\n",
       "    </tr>\n",
       "    <tr>\n",
       "      <th>...</th>\n",
       "      <td>...</td>\n",
       "      <td>...</td>\n",
       "      <td>...</td>\n",
       "      <td>...</td>\n",
       "    </tr>\n",
       "    <tr>\n",
       "      <th>5339</th>\n",
       "      <td>91</td>\n",
       "      <td>동원시장</td>\n",
       "      <td>중랑구</td>\n",
       "      <td>전통시장</td>\n",
       "    </tr>\n",
       "    <tr>\n",
       "      <th>5341</th>\n",
       "      <td>206</td>\n",
       "      <td>하나로클럽 미아점</td>\n",
       "      <td>강북구</td>\n",
       "      <td>대형마트</td>\n",
       "    </tr>\n",
       "    <tr>\n",
       "      <th>6609</th>\n",
       "      <td>227</td>\n",
       "      <td>NC백화점 신구로점</td>\n",
       "      <td>구로구</td>\n",
       "      <td>대형마트</td>\n",
       "    </tr>\n",
       "    <tr>\n",
       "      <th>21043</th>\n",
       "      <td>225</td>\n",
       "      <td>이마트 에브리데이 창동점</td>\n",
       "      <td>도봉구</td>\n",
       "      <td>대형마트</td>\n",
       "    </tr>\n",
       "    <tr>\n",
       "      <th>42682</th>\n",
       "      <td>226</td>\n",
       "      <td>롯데마트 구로점</td>\n",
       "      <td>구로구</td>\n",
       "      <td>대형마트</td>\n",
       "    </tr>\n",
       "  </tbody>\n",
       "</table>\n",
       "<p>102 rows × 4 columns</p>\n",
       "</div>"
      ],
      "text/plain": [
       "       시장/마트 번호       시장/마트 이름 자치구 이름 시장유형 구분(시장/마트) 이름\n",
       "0             2         신세계백화점     중구              대형마트\n",
       "1           228         방배종합시장    서초구              전통시장\n",
       "2             1           통인시장    종로구              전통시장\n",
       "3            25       방학동도깨비시장    도봉구              전통시장\n",
       "4             6        이마트 용산점    용산구              대형마트\n",
       "...         ...            ...    ...               ...\n",
       "5339         91           동원시장    중랑구              전통시장\n",
       "5341        206      하나로클럽 미아점    강북구              대형마트\n",
       "6609        227     NC백화점 신구로점    구로구              대형마트\n",
       "21043       225  이마트 에브리데이 창동점    도봉구              대형마트\n",
       "42682       226       롯데마트 구로점    구로구              대형마트\n",
       "\n",
       "[102 rows x 4 columns]"
      ]
     },
     "execution_count": 13,
     "metadata": {},
     "output_type": "execute_result"
    }
   ],
   "source": [
    "df_market"
   ]
  },
  {
   "cell_type": "code",
   "execution_count": 14,
   "id": "d7b55ef4",
   "metadata": {
    "scrolled": false
   },
   "outputs": [
    {
     "data": {
      "text/plain": [
       "중구      6\n",
       "도봉구     5\n",
       "관악구     5\n",
       "구로구     5\n",
       "영등포구    5\n",
       "노원구     4\n",
       "금천구     4\n",
       "강남구     4\n",
       "송파구     4\n",
       "마포구     4\n",
       "양천구     4\n",
       "성동구     4\n",
       "강북구     4\n",
       "중랑구     4\n",
       "동대문구    4\n",
       "광진구     4\n",
       "서초구     4\n",
       "강서구     4\n",
       "성북구     4\n",
       "서대문구    4\n",
       "은평구     4\n",
       "용산구     4\n",
       "강동구     4\n",
       "동작구     2\n",
       "종로구     2\n",
       "Name: 자치구 이름, dtype: int64"
      ]
     },
     "execution_count": 14,
     "metadata": {},
     "output_type": "execute_result"
    }
   ],
   "source": [
    "# 자치구 별 시장/마트 갯수\n",
    "df_market['자치구 이름'].value_counts()"
   ]
  },
  {
   "cell_type": "code",
   "execution_count": 15,
   "id": "a11d8fc8",
   "metadata": {
    "scrolled": false
   },
   "outputs": [
    {
     "data": {
      "text/html": [
       "<div>\n",
       "<style scoped>\n",
       "    .dataframe tbody tr th:only-of-type {\n",
       "        vertical-align: middle;\n",
       "    }\n",
       "\n",
       "    .dataframe tbody tr th {\n",
       "        vertical-align: top;\n",
       "    }\n",
       "\n",
       "    .dataframe thead th {\n",
       "        text-align: right;\n",
       "    }\n",
       "</style>\n",
       "<table border=\"1\" class=\"dataframe\">\n",
       "  <thead>\n",
       "    <tr style=\"text-align: right;\">\n",
       "      <th></th>\n",
       "      <th>시장/마트 번호</th>\n",
       "      <th>시장/마트 이름</th>\n",
       "      <th>자치구 이름</th>\n",
       "      <th>시장유형 구분(시장/마트) 이름</th>\n",
       "    </tr>\n",
       "  </thead>\n",
       "  <tbody>\n",
       "    <tr>\n",
       "      <th>0</th>\n",
       "      <td>2</td>\n",
       "      <td>신세계백화점</td>\n",
       "      <td>중구</td>\n",
       "      <td>대형마트</td>\n",
       "    </tr>\n",
       "    <tr>\n",
       "      <th>21</th>\n",
       "      <td>56</td>\n",
       "      <td>롯데백화점</td>\n",
       "      <td>중구</td>\n",
       "      <td>대형마트</td>\n",
       "    </tr>\n",
       "    <tr>\n",
       "      <th>257</th>\n",
       "      <td>60</td>\n",
       "      <td>이마트 청계점</td>\n",
       "      <td>중구</td>\n",
       "      <td>대형마트</td>\n",
       "    </tr>\n",
       "    <tr>\n",
       "      <th>576</th>\n",
       "      <td>11</td>\n",
       "      <td>남대문시장</td>\n",
       "      <td>중구</td>\n",
       "      <td>전통시장</td>\n",
       "    </tr>\n",
       "    <tr>\n",
       "      <th>3799</th>\n",
       "      <td>8</td>\n",
       "      <td>롯데마트 서울역점</td>\n",
       "      <td>중구</td>\n",
       "      <td>대형마트</td>\n",
       "    </tr>\n",
       "    <tr>\n",
       "      <th>4920</th>\n",
       "      <td>199</td>\n",
       "      <td>서울중앙시장</td>\n",
       "      <td>중구</td>\n",
       "      <td>전통시장</td>\n",
       "    </tr>\n",
       "  </tbody>\n",
       "</table>\n",
       "</div>"
      ],
      "text/plain": [
       "      시장/마트 번호   시장/마트 이름 자치구 이름 시장유형 구분(시장/마트) 이름\n",
       "0            2     신세계백화점     중구              대형마트\n",
       "21          56      롯데백화점     중구              대형마트\n",
       "257         60    이마트 청계점     중구              대형마트\n",
       "576         11      남대문시장     중구              전통시장\n",
       "3799         8  롯데마트 서울역점     중구              대형마트\n",
       "4920       199     서울중앙시장     중구              전통시장"
      ]
     },
     "execution_count": 15,
     "metadata": {},
     "output_type": "execute_result"
    }
   ],
   "source": [
    "# 자치구 이름으로 시장/마트 확인\n",
    "df_market[df_market['자치구 이름']=='중구']"
   ]
  },
  {
   "cell_type": "markdown",
   "id": "524b5001",
   "metadata": {},
   "source": [
    "## 품목 목록"
   ]
  },
  {
   "cell_type": "code",
   "execution_count": 16,
   "id": "2bdb440c",
   "metadata": {
    "scrolled": false
   },
   "outputs": [],
   "source": [
    "# 품목 목록\n",
    "df_items =df[['품목 번호','품목 이름']].drop_duplicates()\n",
    "df_items = df_items.sort_values('품목 이름')"
   ]
  },
  {
   "cell_type": "code",
   "execution_count": 17,
   "id": "04adc4c6",
   "metadata": {
    "scrolled": false
   },
   "outputs": [
    {
     "data": {
      "text/html": [
       "<div>\n",
       "<style scoped>\n",
       "    .dataframe tbody tr th:only-of-type {\n",
       "        vertical-align: middle;\n",
       "    }\n",
       "\n",
       "    .dataframe tbody tr th {\n",
       "        vertical-align: top;\n",
       "    }\n",
       "\n",
       "    .dataframe thead th {\n",
       "        text-align: right;\n",
       "    }\n",
       "</style>\n",
       "<table border=\"1\" class=\"dataframe\">\n",
       "  <thead>\n",
       "    <tr style=\"text-align: right;\">\n",
       "      <th></th>\n",
       "      <th>품목 번호</th>\n",
       "      <th>품목 이름</th>\n",
       "    </tr>\n",
       "  </thead>\n",
       "  <tbody>\n",
       "    <tr>\n",
       "      <th>222</th>\n",
       "      <td>13</td>\n",
       "      <td>고등어</td>\n",
       "    </tr>\n",
       "    <tr>\n",
       "      <th>135</th>\n",
       "      <td>304</td>\n",
       "      <td>고등어</td>\n",
       "    </tr>\n",
       "    <tr>\n",
       "      <th>15781</th>\n",
       "      <td>316</td>\n",
       "      <td>고등어(30cm,국산)</td>\n",
       "    </tr>\n",
       "    <tr>\n",
       "      <th>1550</th>\n",
       "      <td>318</td>\n",
       "      <td>고등어(30cm,수입산)</td>\n",
       "    </tr>\n",
       "    <tr>\n",
       "      <th>3</th>\n",
       "      <td>268</td>\n",
       "      <td>고등어(냉동,국산)</td>\n",
       "    </tr>\n",
       "    <tr>\n",
       "      <th>4834</th>\n",
       "      <td>269</td>\n",
       "      <td>고등어(냉동,수입산)</td>\n",
       "    </tr>\n",
       "    <tr>\n",
       "      <th>2</th>\n",
       "      <td>266</td>\n",
       "      <td>고등어(생물,국산)</td>\n",
       "    </tr>\n",
       "    <tr>\n",
       "      <th>1341</th>\n",
       "      <td>267</td>\n",
       "      <td>고등어(생물,수입산)</td>\n",
       "    </tr>\n",
       "    <tr>\n",
       "      <th>3984</th>\n",
       "      <td>314</td>\n",
       "      <td>냉동참조기(20cm,국산)</td>\n",
       "    </tr>\n",
       "    <tr>\n",
       "      <th>3706</th>\n",
       "      <td>313</td>\n",
       "      <td>냉동참조기(20cm,수입)</td>\n",
       "    </tr>\n",
       "    <tr>\n",
       "      <th>768</th>\n",
       "      <td>17</td>\n",
       "      <td>달걀</td>\n",
       "    </tr>\n",
       "    <tr>\n",
       "      <th>4</th>\n",
       "      <td>171</td>\n",
       "      <td>달걀(10개)</td>\n",
       "    </tr>\n",
       "    <tr>\n",
       "      <th>860</th>\n",
       "      <td>321</td>\n",
       "      <td>달걀(15개)</td>\n",
       "    </tr>\n",
       "    <tr>\n",
       "      <th>11</th>\n",
       "      <td>320</td>\n",
       "      <td>달걀(30개)</td>\n",
       "    </tr>\n",
       "    <tr>\n",
       "      <th>18573</th>\n",
       "      <td>134</td>\n",
       "      <td>달걀(왕란)</td>\n",
       "    </tr>\n",
       "    <tr>\n",
       "      <th>5280</th>\n",
       "      <td>181</td>\n",
       "      <td>달걀(왕란)</td>\n",
       "    </tr>\n",
       "    <tr>\n",
       "      <th>45</th>\n",
       "      <td>18</td>\n",
       "      <td>닭고기</td>\n",
       "    </tr>\n",
       "    <tr>\n",
       "      <th>16</th>\n",
       "      <td>283</td>\n",
       "      <td>닭고기(육계)</td>\n",
       "    </tr>\n",
       "    <tr>\n",
       "      <th>583</th>\n",
       "      <td>275</td>\n",
       "      <td>닭고기(중간)</td>\n",
       "    </tr>\n",
       "    <tr>\n",
       "      <th>487</th>\n",
       "      <td>138</td>\n",
       "      <td>닭고기(토종닭)</td>\n",
       "    </tr>\n",
       "    <tr>\n",
       "      <th>226</th>\n",
       "      <td>288</td>\n",
       "      <td>동태</td>\n",
       "    </tr>\n",
       "    <tr>\n",
       "      <th>53</th>\n",
       "      <td>285</td>\n",
       "      <td>돼지고기</td>\n",
       "    </tr>\n",
       "    <tr>\n",
       "      <th>1501</th>\n",
       "      <td>52</td>\n",
       "      <td>돼지고기(삼겹살)</td>\n",
       "    </tr>\n",
       "    <tr>\n",
       "      <th>34</th>\n",
       "      <td>99</td>\n",
       "      <td>돼지고기(생삼겹살)</td>\n",
       "    </tr>\n",
       "    <tr>\n",
       "      <th>22</th>\n",
       "      <td>202</td>\n",
       "      <td>돼지고기(생삼겹살)</td>\n",
       "    </tr>\n",
       "    <tr>\n",
       "      <th>23</th>\n",
       "      <td>302</td>\n",
       "      <td>명태</td>\n",
       "    </tr>\n",
       "    <tr>\n",
       "      <th>555</th>\n",
       "      <td>315</td>\n",
       "      <td>명태(45cm,수입산)</td>\n",
       "    </tr>\n",
       "    <tr>\n",
       "      <th>19167</th>\n",
       "      <td>263</td>\n",
       "      <td>명태(냉동,국산)</td>\n",
       "    </tr>\n",
       "    <tr>\n",
       "      <th>54</th>\n",
       "      <td>264</td>\n",
       "      <td>명태(냉동,수입산)</td>\n",
       "    </tr>\n",
       "    <tr>\n",
       "      <th>32</th>\n",
       "      <td>152</td>\n",
       "      <td>명태(러시아,냉동)</td>\n",
       "    </tr>\n",
       "  </tbody>\n",
       "</table>\n",
       "</div>"
      ],
      "text/plain": [
       "       품목 번호           품목 이름\n",
       "222       13             고등어\n",
       "135      304             고등어\n",
       "15781    316    고등어(30cm,국산)\n",
       "1550     318   고등어(30cm,수입산)\n",
       "3        268      고등어(냉동,국산)\n",
       "4834     269     고등어(냉동,수입산)\n",
       "2        266      고등어(생물,국산)\n",
       "1341     267     고등어(생물,수입산)\n",
       "3984     314  냉동참조기(20cm,국산)\n",
       "3706     313  냉동참조기(20cm,수입)\n",
       "768       17              달걀\n",
       "4        171         달걀(10개)\n",
       "860      321         달걀(15개)\n",
       "11       320         달걀(30개)\n",
       "18573    134          달걀(왕란)\n",
       "5280     181          달걀(왕란)\n",
       "45        18             닭고기\n",
       "16       283         닭고기(육계)\n",
       "583      275         닭고기(중간)\n",
       "487      138        닭고기(토종닭)\n",
       "226      288              동태\n",
       "53       285            돼지고기\n",
       "1501      52       돼지고기(삼겹살)\n",
       "34        99      돼지고기(생삼겹살)\n",
       "22       202      돼지고기(생삼겹살)\n",
       "23       302              명태\n",
       "555      315    명태(45cm,수입산)\n",
       "19167    263       명태(냉동,국산)\n",
       "54       264      명태(냉동,수입산)\n",
       "32       152      명태(러시아,냉동)"
      ]
     },
     "execution_count": 17,
     "metadata": {},
     "output_type": "execute_result"
    }
   ],
   "source": [
    "# 품목 이름 (30개씩 확인)\n",
    "df_items[:30]"
   ]
  },
  {
   "cell_type": "code",
   "execution_count": 18,
   "id": "da97aba8",
   "metadata": {
    "scrolled": false
   },
   "outputs": [
    {
     "data": {
      "text/html": [
       "<div>\n",
       "<style scoped>\n",
       "    .dataframe tbody tr th:only-of-type {\n",
       "        vertical-align: middle;\n",
       "    }\n",
       "\n",
       "    .dataframe tbody tr th {\n",
       "        vertical-align: top;\n",
       "    }\n",
       "\n",
       "    .dataframe thead th {\n",
       "        text-align: right;\n",
       "    }\n",
       "</style>\n",
       "<table border=\"1\" class=\"dataframe\">\n",
       "  <thead>\n",
       "    <tr style=\"text-align: right;\">\n",
       "      <th></th>\n",
       "      <th>품목 번호</th>\n",
       "      <th>품목 이름</th>\n",
       "    </tr>\n",
       "  </thead>\n",
       "  <tbody>\n",
       "    <tr>\n",
       "      <th>2457</th>\n",
       "      <td>265</td>\n",
       "      <td>명태(생물,수입산)</td>\n",
       "    </tr>\n",
       "    <tr>\n",
       "      <th>1019</th>\n",
       "      <td>184</td>\n",
       "      <td>명태(일본산,냉동)</td>\n",
       "    </tr>\n",
       "    <tr>\n",
       "      <th>79</th>\n",
       "      <td>25</td>\n",
       "      <td>무</td>\n",
       "    </tr>\n",
       "    <tr>\n",
       "      <th>103</th>\n",
       "      <td>308</td>\n",
       "      <td>무(1kg)</td>\n",
       "    </tr>\n",
       "    <tr>\n",
       "      <th>0</th>\n",
       "      <td>133</td>\n",
       "      <td>무(세척무)</td>\n",
       "    </tr>\n",
       "    <tr>\n",
       "      <th>33</th>\n",
       "      <td>282</td>\n",
       "      <td>무(세척무)</td>\n",
       "    </tr>\n",
       "    <tr>\n",
       "      <th>2432</th>\n",
       "      <td>274</td>\n",
       "      <td>무(세척무, 중)</td>\n",
       "    </tr>\n",
       "    <tr>\n",
       "      <th>157</th>\n",
       "      <td>27</td>\n",
       "      <td>배</td>\n",
       "    </tr>\n",
       "    <tr>\n",
       "      <th>56</th>\n",
       "      <td>276</td>\n",
       "      <td>배(신고)</td>\n",
       "    </tr>\n",
       "    <tr>\n",
       "      <th>4268</th>\n",
       "      <td>248</td>\n",
       "      <td>배(신고),중급(대)</td>\n",
       "    </tr>\n",
       "    <tr>\n",
       "      <th>14</th>\n",
       "      <td>306</td>\n",
       "      <td>배(신고, 600g)</td>\n",
       "    </tr>\n",
       "    <tr>\n",
       "      <th>1820</th>\n",
       "      <td>284</td>\n",
       "      <td>배(중품)</td>\n",
       "    </tr>\n",
       "    <tr>\n",
       "      <th>15</th>\n",
       "      <td>26</td>\n",
       "      <td>배추</td>\n",
       "    </tr>\n",
       "    <tr>\n",
       "      <th>9</th>\n",
       "      <td>307</td>\n",
       "      <td>배추(2.5~3kg)</td>\n",
       "    </tr>\n",
       "    <tr>\n",
       "      <th>1529</th>\n",
       "      <td>125</td>\n",
       "      <td>배추(국산)</td>\n",
       "    </tr>\n",
       "    <tr>\n",
       "      <th>2466</th>\n",
       "      <td>175</td>\n",
       "      <td>배추(중간)</td>\n",
       "    </tr>\n",
       "    <tr>\n",
       "      <th>1159</th>\n",
       "      <td>271</td>\n",
       "      <td>배추(중간)</td>\n",
       "    </tr>\n",
       "    <tr>\n",
       "      <th>58</th>\n",
       "      <td>28</td>\n",
       "      <td>사과</td>\n",
       "    </tr>\n",
       "    <tr>\n",
       "      <th>446</th>\n",
       "      <td>50</td>\n",
       "      <td>사과(부사)</td>\n",
       "    </tr>\n",
       "    <tr>\n",
       "      <th>4802</th>\n",
       "      <td>237</td>\n",
       "      <td>사과(부사),중급(대)</td>\n",
       "    </tr>\n",
       "    <tr>\n",
       "      <th>4556</th>\n",
       "      <td>244</td>\n",
       "      <td>사과(부사),중급(대)</td>\n",
       "    </tr>\n",
       "    <tr>\n",
       "      <th>12</th>\n",
       "      <td>305</td>\n",
       "      <td>사과(부사, 300g)</td>\n",
       "    </tr>\n",
       "    <tr>\n",
       "      <th>1</th>\n",
       "      <td>23</td>\n",
       "      <td>상추</td>\n",
       "    </tr>\n",
       "    <tr>\n",
       "      <th>35</th>\n",
       "      <td>310</td>\n",
       "      <td>상추(100g)</td>\n",
       "    </tr>\n",
       "    <tr>\n",
       "      <th>97</th>\n",
       "      <td>278</td>\n",
       "      <td>쇠고기</td>\n",
       "    </tr>\n",
       "    <tr>\n",
       "      <th>533</th>\n",
       "      <td>82</td>\n",
       "      <td>쇠고기(육우,불고기)</td>\n",
       "    </tr>\n",
       "    <tr>\n",
       "      <th>8</th>\n",
       "      <td>58</td>\n",
       "      <td>쇠고기(한우,불고기)</td>\n",
       "    </tr>\n",
       "    <tr>\n",
       "      <th>339</th>\n",
       "      <td>131</td>\n",
       "      <td>쇠고기(한우1등급)</td>\n",
       "    </tr>\n",
       "    <tr>\n",
       "      <th>6</th>\n",
       "      <td>312</td>\n",
       "      <td>애호박</td>\n",
       "    </tr>\n",
       "    <tr>\n",
       "      <th>7</th>\n",
       "      <td>24</td>\n",
       "      <td>양파</td>\n",
       "    </tr>\n",
       "  </tbody>\n",
       "</table>\n",
       "</div>"
      ],
      "text/plain": [
       "      품목 번호         품목 이름\n",
       "2457    265    명태(생물,수입산)\n",
       "1019    184    명태(일본산,냉동)\n",
       "79       25             무\n",
       "103     308        무(1kg)\n",
       "0       133        무(세척무)\n",
       "33      282        무(세척무)\n",
       "2432    274     무(세척무, 중)\n",
       "157      27             배\n",
       "56      276         배(신고)\n",
       "4268    248   배(신고),중급(대)\n",
       "14      306   배(신고, 600g)\n",
       "1820    284         배(중품)\n",
       "15       26            배추\n",
       "9       307   배추(2.5~3kg)\n",
       "1529    125        배추(국산)\n",
       "2466    175        배추(중간)\n",
       "1159    271        배추(중간)\n",
       "58       28            사과\n",
       "446      50        사과(부사)\n",
       "4802    237  사과(부사),중급(대)\n",
       "4556    244  사과(부사),중급(대)\n",
       "12      305  사과(부사, 300g)\n",
       "1        23            상추\n",
       "35      310      상추(100g)\n",
       "97      278           쇠고기\n",
       "533      82   쇠고기(육우,불고기)\n",
       "8        58   쇠고기(한우,불고기)\n",
       "339     131    쇠고기(한우1등급)\n",
       "6       312           애호박\n",
       "7        24            양파"
      ]
     },
     "execution_count": 18,
     "metadata": {},
     "output_type": "execute_result"
    }
   ],
   "source": [
    "df_items[30:60]"
   ]
  },
  {
   "cell_type": "code",
   "execution_count": 19,
   "id": "16d2b2b8",
   "metadata": {
    "scrolled": false
   },
   "outputs": [
    {
     "data": {
      "text/html": [
       "<div>\n",
       "<style scoped>\n",
       "    .dataframe tbody tr th:only-of-type {\n",
       "        vertical-align: middle;\n",
       "    }\n",
       "\n",
       "    .dataframe tbody tr th {\n",
       "        vertical-align: top;\n",
       "    }\n",
       "\n",
       "    .dataframe thead th {\n",
       "        text-align: right;\n",
       "    }\n",
       "</style>\n",
       "<table border=\"1\" class=\"dataframe\">\n",
       "  <thead>\n",
       "    <tr style=\"text-align: right;\">\n",
       "      <th></th>\n",
       "      <th>품목 번호</th>\n",
       "      <th>품목 이름</th>\n",
       "    </tr>\n",
       "  </thead>\n",
       "  <tbody>\n",
       "    <tr>\n",
       "      <th>10</th>\n",
       "      <td>309</td>\n",
       "      <td>양파(1.5kg망)</td>\n",
       "    </tr>\n",
       "    <tr>\n",
       "      <th>2191</th>\n",
       "      <td>272</td>\n",
       "      <td>양파(작은망)</td>\n",
       "    </tr>\n",
       "    <tr>\n",
       "      <th>5</th>\n",
       "      <td>22</td>\n",
       "      <td>오이</td>\n",
       "    </tr>\n",
       "    <tr>\n",
       "      <th>21</th>\n",
       "      <td>311</td>\n",
       "      <td>오이(다다기)</td>\n",
       "    </tr>\n",
       "    <tr>\n",
       "      <th>31</th>\n",
       "      <td>253</td>\n",
       "      <td>오징어</td>\n",
       "    </tr>\n",
       "    <tr>\n",
       "      <th>2620</th>\n",
       "      <td>54</td>\n",
       "      <td>오징어(냉동)</td>\n",
       "    </tr>\n",
       "    <tr>\n",
       "      <th>441</th>\n",
       "      <td>256</td>\n",
       "      <td>오징어(냉동,국산)</td>\n",
       "    </tr>\n",
       "    <tr>\n",
       "      <th>6813</th>\n",
       "      <td>257</td>\n",
       "      <td>오징어(냉동,수입산)</td>\n",
       "    </tr>\n",
       "    <tr>\n",
       "      <th>36</th>\n",
       "      <td>254</td>\n",
       "      <td>오징어(생물,국산)</td>\n",
       "    </tr>\n",
       "    <tr>\n",
       "      <th>2567</th>\n",
       "      <td>255</td>\n",
       "      <td>오징어(생물,수입산)</td>\n",
       "    </tr>\n",
       "    <tr>\n",
       "      <th>19</th>\n",
       "      <td>303</td>\n",
       "      <td>조기</td>\n",
       "    </tr>\n",
       "    <tr>\n",
       "      <th>389</th>\n",
       "      <td>144</td>\n",
       "      <td>조기(국산,냉동)</td>\n",
       "    </tr>\n",
       "    <tr>\n",
       "      <th>30</th>\n",
       "      <td>136</td>\n",
       "      <td>조기(국산,생물)</td>\n",
       "    </tr>\n",
       "    <tr>\n",
       "      <th>114</th>\n",
       "      <td>259</td>\n",
       "      <td>조기(냉동,국산)</td>\n",
       "    </tr>\n",
       "    <tr>\n",
       "      <th>177</th>\n",
       "      <td>260</td>\n",
       "      <td>조기(냉동,수입산)</td>\n",
       "    </tr>\n",
       "    <tr>\n",
       "      <th>1479</th>\n",
       "      <td>258</td>\n",
       "      <td>조기(생물,국산)</td>\n",
       "    </tr>\n",
       "    <tr>\n",
       "      <th>1397</th>\n",
       "      <td>261</td>\n",
       "      <td>조기(생물,수입산)</td>\n",
       "    </tr>\n",
       "    <tr>\n",
       "      <th>5348</th>\n",
       "      <td>135</td>\n",
       "      <td>조기(중국산,생물)</td>\n",
       "    </tr>\n",
       "    <tr>\n",
       "      <th>649</th>\n",
       "      <td>277</td>\n",
       "      <td>호박</td>\n",
       "    </tr>\n",
       "    <tr>\n",
       "      <th>18</th>\n",
       "      <td>119</td>\n",
       "      <td>호박(인큐베이터)</td>\n",
       "    </tr>\n",
       "    <tr>\n",
       "      <th>1898</th>\n",
       "      <td>118</td>\n",
       "      <td>호박(인큐베이터),중간</td>\n",
       "    </tr>\n",
       "  </tbody>\n",
       "</table>\n",
       "</div>"
      ],
      "text/plain": [
       "      품목 번호         품목 이름\n",
       "10      309    양파(1.5kg망)\n",
       "2191    272       양파(작은망)\n",
       "5        22            오이\n",
       "21      311       오이(다다기)\n",
       "31      253           오징어\n",
       "2620     54       오징어(냉동)\n",
       "441     256    오징어(냉동,국산)\n",
       "6813    257   오징어(냉동,수입산)\n",
       "36      254    오징어(생물,국산)\n",
       "2567    255   오징어(생물,수입산)\n",
       "19      303            조기\n",
       "389     144     조기(국산,냉동)\n",
       "30      136     조기(국산,생물)\n",
       "114     259     조기(냉동,국산)\n",
       "177     260    조기(냉동,수입산)\n",
       "1479    258     조기(생물,국산)\n",
       "1397    261    조기(생물,수입산)\n",
       "5348    135    조기(중국산,생물)\n",
       "649     277            호박\n",
       "18      119     호박(인큐베이터)\n",
       "1898    118  호박(인큐베이터),중간"
      ]
     },
     "execution_count": 19,
     "metadata": {},
     "output_type": "execute_result"
    }
   ],
   "source": [
    "df_items[60:]"
   ]
  },
  {
   "cell_type": "markdown",
   "id": "4be13db2",
   "metadata": {},
   "source": [
    "## 자치구 목록"
   ]
  },
  {
   "cell_type": "code",
   "execution_count": 20,
   "id": "f26f9d72",
   "metadata": {
    "scrolled": false
   },
   "outputs": [
    {
     "data": {
      "text/plain": [
       "(25, 2)"
      ]
     },
     "execution_count": 20,
     "metadata": {},
     "output_type": "execute_result"
    }
   ],
   "source": [
    "df_gu = df[['자치구 코드','자치구 이름']].drop_duplicates()\n",
    "df_gu.shape"
   ]
  },
  {
   "cell_type": "markdown",
   "id": "e00cef46",
   "metadata": {},
   "source": [
    "## 시장 유형"
   ]
  },
  {
   "cell_type": "code",
   "execution_count": 21,
   "id": "9df74625",
   "metadata": {
    "scrolled": false
   },
   "outputs": [
    {
     "data": {
      "text/html": [
       "<div>\n",
       "<style scoped>\n",
       "    .dataframe tbody tr th:only-of-type {\n",
       "        vertical-align: middle;\n",
       "    }\n",
       "\n",
       "    .dataframe tbody tr th {\n",
       "        vertical-align: top;\n",
       "    }\n",
       "\n",
       "    .dataframe thead th {\n",
       "        text-align: right;\n",
       "    }\n",
       "</style>\n",
       "<table border=\"1\" class=\"dataframe\">\n",
       "  <thead>\n",
       "    <tr style=\"text-align: right;\">\n",
       "      <th></th>\n",
       "      <th>시장유형 구분(시장/마트) 코드</th>\n",
       "      <th>시장유형 구분(시장/마트) 이름</th>\n",
       "    </tr>\n",
       "  </thead>\n",
       "  <tbody>\n",
       "    <tr>\n",
       "      <th>0</th>\n",
       "      <td>2</td>\n",
       "      <td>대형마트</td>\n",
       "    </tr>\n",
       "    <tr>\n",
       "      <th>1</th>\n",
       "      <td>1</td>\n",
       "      <td>전통시장</td>\n",
       "    </tr>\n",
       "  </tbody>\n",
       "</table>\n",
       "</div>"
      ],
      "text/plain": [
       "   시장유형 구분(시장/마트) 코드 시장유형 구분(시장/마트) 이름\n",
       "0                  2              대형마트\n",
       "1                  1              전통시장"
      ]
     },
     "execution_count": 21,
     "metadata": {},
     "output_type": "execute_result"
    }
   ],
   "source": [
    "df_gubun = df[['시장유형 구분(시장/마트) 코드','시장유형 구분(시장/마트) 이름']].drop_duplicates()\n",
    "df_gubun"
   ]
  },
  {
   "cell_type": "markdown",
   "id": "2210d9da",
   "metadata": {},
   "source": [
    "# 삼겹살 가격 분석"
   ]
  },
  {
   "cell_type": "markdown",
   "id": "e06a943a",
   "metadata": {},
   "source": [
    "## 삼겹살 데이터\n",
    "* 특정 문자열이 포함되어있는지 확인 : .str.contains(문자열)"
   ]
  },
  {
   "cell_type": "code",
   "execution_count": 22,
   "id": "dbc6a707",
   "metadata": {
    "scrolled": true
   },
   "outputs": [
    {
     "data": {
      "text/html": [
       "<div>\n",
       "<style scoped>\n",
       "    .dataframe tbody tr th:only-of-type {\n",
       "        vertical-align: middle;\n",
       "    }\n",
       "\n",
       "    .dataframe tbody tr th {\n",
       "        vertical-align: top;\n",
       "    }\n",
       "\n",
       "    .dataframe thead th {\n",
       "        text-align: right;\n",
       "    }\n",
       "</style>\n",
       "<table border=\"1\" class=\"dataframe\">\n",
       "  <thead>\n",
       "    <tr style=\"text-align: right;\">\n",
       "      <th></th>\n",
       "      <th>일련번호</th>\n",
       "      <th>시장/마트 번호</th>\n",
       "      <th>시장/마트 이름</th>\n",
       "      <th>품목 번호</th>\n",
       "      <th>품목 이름</th>\n",
       "      <th>실판매규격</th>\n",
       "      <th>가격(원)</th>\n",
       "      <th>년도-월</th>\n",
       "      <th>비고</th>\n",
       "      <th>시장유형 구분(시장/마트) 코드</th>\n",
       "      <th>시장유형 구분(시장/마트) 이름</th>\n",
       "      <th>자치구 코드</th>\n",
       "      <th>자치구 이름</th>\n",
       "      <th>점검일자</th>\n",
       "    </tr>\n",
       "  </thead>\n",
       "  <tbody>\n",
       "    <tr>\n",
       "      <th>22</th>\n",
       "      <td>1668431</td>\n",
       "      <td>16</td>\n",
       "      <td>현대백화점 미아점</td>\n",
       "      <td>202</td>\n",
       "      <td>돼지고기(생삼겹살)</td>\n",
       "      <td>600g (100g 4,280원)</td>\n",
       "      <td>25680</td>\n",
       "      <td>2021-06</td>\n",
       "      <td>선진포크</td>\n",
       "      <td>2</td>\n",
       "      <td>대형마트</td>\n",
       "      <td>290000</td>\n",
       "      <td>성북구</td>\n",
       "      <td>2021-06-24</td>\n",
       "    </tr>\n",
       "    <tr>\n",
       "      <th>47</th>\n",
       "      <td>1670116</td>\n",
       "      <td>98</td>\n",
       "      <td>롯데백화점 노원점</td>\n",
       "      <td>99</td>\n",
       "      <td>돼지고기(생삼겹살)</td>\n",
       "      <td>600g</td>\n",
       "      <td>26940</td>\n",
       "      <td>2021-06</td>\n",
       "      <td>한돈</td>\n",
       "      <td>2</td>\n",
       "      <td>대형마트</td>\n",
       "      <td>350000</td>\n",
       "      <td>노원구</td>\n",
       "      <td>2021-06-24</td>\n",
       "    </tr>\n",
       "    <tr>\n",
       "      <th>76</th>\n",
       "      <td>1674090</td>\n",
       "      <td>42</td>\n",
       "      <td>이마트 가양점</td>\n",
       "      <td>99</td>\n",
       "      <td>돼지고기(생삼겹살)</td>\n",
       "      <td>600g</td>\n",
       "      <td>15480</td>\n",
       "      <td>2021-06</td>\n",
       "      <td>국내산,생삼겹살</td>\n",
       "      <td>2</td>\n",
       "      <td>대형마트</td>\n",
       "      <td>500000</td>\n",
       "      <td>강서구</td>\n",
       "      <td>2021-06-24</td>\n",
       "    </tr>\n",
       "    <tr>\n",
       "      <th>86</th>\n",
       "      <td>1668834</td>\n",
       "      <td>42</td>\n",
       "      <td>이마트 가양점</td>\n",
       "      <td>99</td>\n",
       "      <td>돼지고기(생삼겹살)</td>\n",
       "      <td>600g</td>\n",
       "      <td>14880</td>\n",
       "      <td>2021-06</td>\n",
       "      <td>국내산,생삼겹살</td>\n",
       "      <td>2</td>\n",
       "      <td>대형마트</td>\n",
       "      <td>500000</td>\n",
       "      <td>강서구</td>\n",
       "      <td>2021-06-24</td>\n",
       "    </tr>\n",
       "    <tr>\n",
       "      <th>146</th>\n",
       "      <td>1667684</td>\n",
       "      <td>42</td>\n",
       "      <td>이마트 가양점</td>\n",
       "      <td>99</td>\n",
       "      <td>돼지고기(생삼겹살)</td>\n",
       "      <td>600g</td>\n",
       "      <td>14880</td>\n",
       "      <td>2021-06</td>\n",
       "      <td>국내산,생삼겹살</td>\n",
       "      <td>2</td>\n",
       "      <td>대형마트</td>\n",
       "      <td>500000</td>\n",
       "      <td>강서구</td>\n",
       "      <td>2021-06-24</td>\n",
       "    </tr>\n",
       "    <tr>\n",
       "      <th>...</th>\n",
       "      <td>...</td>\n",
       "      <td>...</td>\n",
       "      <td>...</td>\n",
       "      <td>...</td>\n",
       "      <td>...</td>\n",
       "      <td>...</td>\n",
       "      <td>...</td>\n",
       "      <td>...</td>\n",
       "      <td>...</td>\n",
       "      <td>...</td>\n",
       "      <td>...</td>\n",
       "      <td>...</td>\n",
       "      <td>...</td>\n",
       "      <td>...</td>\n",
       "    </tr>\n",
       "    <tr>\n",
       "      <th>6439</th>\n",
       "      <td>1668261</td>\n",
       "      <td>100</td>\n",
       "      <td>홈플러스 중계점</td>\n",
       "      <td>99</td>\n",
       "      <td>돼지고기(생삼겹살)</td>\n",
       "      <td>600g</td>\n",
       "      <td>22140</td>\n",
       "      <td>2021-06</td>\n",
       "      <td>한돈</td>\n",
       "      <td>2</td>\n",
       "      <td>대형마트</td>\n",
       "      <td>350000</td>\n",
       "      <td>노원구</td>\n",
       "      <td>2021-06-24</td>\n",
       "    </tr>\n",
       "    <tr>\n",
       "      <th>6514</th>\n",
       "      <td>1674124</td>\n",
       "      <td>40</td>\n",
       "      <td>홈플러스 등촌점</td>\n",
       "      <td>99</td>\n",
       "      <td>돼지고기(생삼겹살)</td>\n",
       "      <td>600g</td>\n",
       "      <td>14940</td>\n",
       "      <td>2021-06</td>\n",
       "      <td>국내산,생삼겹살</td>\n",
       "      <td>2</td>\n",
       "      <td>대형마트</td>\n",
       "      <td>500000</td>\n",
       "      <td>강서구</td>\n",
       "      <td>2021-06-24</td>\n",
       "    </tr>\n",
       "    <tr>\n",
       "      <th>6700</th>\n",
       "      <td>1671992</td>\n",
       "      <td>16</td>\n",
       "      <td>현대백화점 미아점</td>\n",
       "      <td>202</td>\n",
       "      <td>돼지고기(생삼겹살)</td>\n",
       "      <td>600g (100g 4,280원)</td>\n",
       "      <td>25680</td>\n",
       "      <td>2021-06</td>\n",
       "      <td>도드람</td>\n",
       "      <td>2</td>\n",
       "      <td>대형마트</td>\n",
       "      <td>290000</td>\n",
       "      <td>성북구</td>\n",
       "      <td>2021-06-24</td>\n",
       "    </tr>\n",
       "    <tr>\n",
       "      <th>6721</th>\n",
       "      <td>1670048</td>\n",
       "      <td>16</td>\n",
       "      <td>현대백화점 미아점</td>\n",
       "      <td>202</td>\n",
       "      <td>돼지고기(생삼겹살)</td>\n",
       "      <td>600g (100g 4,280원)</td>\n",
       "      <td>25680</td>\n",
       "      <td>2021-06</td>\n",
       "      <td>선진포크</td>\n",
       "      <td>2</td>\n",
       "      <td>대형마트</td>\n",
       "      <td>290000</td>\n",
       "      <td>성북구</td>\n",
       "      <td>2021-06-24</td>\n",
       "    </tr>\n",
       "    <tr>\n",
       "      <th>6763</th>\n",
       "      <td>1674900</td>\n",
       "      <td>16</td>\n",
       "      <td>현대백화점 미아점</td>\n",
       "      <td>202</td>\n",
       "      <td>돼지고기(생삼겹살)</td>\n",
       "      <td>600g (100g 4,280원)</td>\n",
       "      <td>25680</td>\n",
       "      <td>2021-06</td>\n",
       "      <td>선진포크</td>\n",
       "      <td>2</td>\n",
       "      <td>대형마트</td>\n",
       "      <td>290000</td>\n",
       "      <td>성북구</td>\n",
       "      <td>2021-06-24</td>\n",
       "    </tr>\n",
       "  </tbody>\n",
       "</table>\n",
       "<p>224 rows × 14 columns</p>\n",
       "</div>"
      ],
      "text/plain": [
       "         일련번호  시장/마트 번호   시장/마트 이름  품목 번호       품목 이름               실판매규격  \\\n",
       "22    1668431        16  현대백화점 미아점    202  돼지고기(생삼겹살)  600g (100g 4,280원)   \n",
       "47    1670116        98  롯데백화점 노원점     99  돼지고기(생삼겹살)                600g   \n",
       "76    1674090        42    이마트 가양점     99  돼지고기(생삼겹살)                600g   \n",
       "86    1668834        42    이마트 가양점     99  돼지고기(생삼겹살)                600g   \n",
       "146   1667684        42    이마트 가양점     99  돼지고기(생삼겹살)                600g   \n",
       "...       ...       ...        ...    ...         ...                 ...   \n",
       "6439  1668261       100   홈플러스 중계점     99  돼지고기(생삼겹살)                600g   \n",
       "6514  1674124        40   홈플러스 등촌점     99  돼지고기(생삼겹살)                600g   \n",
       "6700  1671992        16  현대백화점 미아점    202  돼지고기(생삼겹살)  600g (100g 4,280원)   \n",
       "6721  1670048        16  현대백화점 미아점    202  돼지고기(생삼겹살)  600g (100g 4,280원)   \n",
       "6763  1674900        16  현대백화점 미아점    202  돼지고기(생삼겹살)  600g (100g 4,280원)   \n",
       "\n",
       "      가격(원)     년도-월        비고  시장유형 구분(시장/마트) 코드 시장유형 구분(시장/마트) 이름  자치구 코드  \\\n",
       "22    25680  2021-06      선진포크                  2              대형마트  290000   \n",
       "47    26940  2021-06        한돈                  2              대형마트  350000   \n",
       "76    15480  2021-06  국내산,생삼겹살                  2              대형마트  500000   \n",
       "86    14880  2021-06  국내산,생삼겹살                  2              대형마트  500000   \n",
       "146   14880  2021-06  국내산,생삼겹살                  2              대형마트  500000   \n",
       "...     ...      ...       ...                ...               ...     ...   \n",
       "6439  22140  2021-06        한돈                  2              대형마트  350000   \n",
       "6514  14940  2021-06  국내산,생삼겹살                  2              대형마트  500000   \n",
       "6700  25680  2021-06       도드람                  2              대형마트  290000   \n",
       "6721  25680  2021-06      선진포크                  2              대형마트  290000   \n",
       "6763  25680  2021-06      선진포크                  2              대형마트  290000   \n",
       "\n",
       "     자치구 이름        점검일자  \n",
       "22      성북구  2021-06-24  \n",
       "47      노원구  2021-06-24  \n",
       "76      강서구  2021-06-24  \n",
       "86      강서구  2021-06-24  \n",
       "146     강서구  2021-06-24  \n",
       "...     ...         ...  \n",
       "6439    노원구  2021-06-24  \n",
       "6514    강서구  2021-06-24  \n",
       "6700    성북구  2021-06-24  \n",
       "6721    성북구  2021-06-24  \n",
       "6763    성북구  2021-06-24  \n",
       "\n",
       "[224 rows x 14 columns]"
      ]
     },
     "execution_count": 22,
     "metadata": {},
     "output_type": "execute_result"
    }
   ],
   "source": [
    "# 삼겹살이 포함되어있는 데이터 & 2021-06 데이터 이용 & 600g\n",
    "df_sam = df[ (df['품목 이름'].str.contains('삼겹살')) & (df['년도-월']=='2021-06') & (df['실판매규격'].str.contains('600g')) ]\n",
    "df_sam"
   ]
  },
  {
   "cell_type": "code",
   "execution_count": 23,
   "id": "0079c393",
   "metadata": {},
   "outputs": [
    {
     "data": {
      "text/plain": [
       "16842.723214285714"
      ]
     },
     "execution_count": 23,
     "metadata": {},
     "output_type": "execute_result"
    }
   ],
   "source": [
    "# 삼겹살 600g의 평균 가격은?\n",
    "df_sam['가격(원)'].mean()"
   ]
  },
  {
   "cell_type": "code",
   "execution_count": 24,
   "id": "6fe6958e",
   "metadata": {},
   "outputs": [
    {
     "data": {
      "text/plain": [
       "35890"
      ]
     },
     "execution_count": 24,
     "metadata": {},
     "output_type": "execute_result"
    }
   ],
   "source": [
    "# 삼겹살 600g의 최고 가격은?\n",
    "df_sam['가격(원)'].max()"
   ]
  },
  {
   "cell_type": "code",
   "execution_count": 25,
   "id": "9a62ca22",
   "metadata": {
    "scrolled": false
   },
   "outputs": [
    {
     "data": {
      "text/html": [
       "<div>\n",
       "<style scoped>\n",
       "    .dataframe tbody tr th:only-of-type {\n",
       "        vertical-align: middle;\n",
       "    }\n",
       "\n",
       "    .dataframe tbody tr th {\n",
       "        vertical-align: top;\n",
       "    }\n",
       "\n",
       "    .dataframe thead th {\n",
       "        text-align: right;\n",
       "    }\n",
       "</style>\n",
       "<table border=\"1\" class=\"dataframe\">\n",
       "  <thead>\n",
       "    <tr style=\"text-align: right;\">\n",
       "      <th></th>\n",
       "      <th>일련번호</th>\n",
       "      <th>시장/마트 번호</th>\n",
       "      <th>시장/마트 이름</th>\n",
       "      <th>품목 번호</th>\n",
       "      <th>품목 이름</th>\n",
       "      <th>실판매규격</th>\n",
       "      <th>가격(원)</th>\n",
       "      <th>년도-월</th>\n",
       "      <th>비고</th>\n",
       "      <th>시장유형 구분(시장/마트) 코드</th>\n",
       "      <th>시장유형 구분(시장/마트) 이름</th>\n",
       "      <th>자치구 코드</th>\n",
       "      <th>자치구 이름</th>\n",
       "      <th>점검일자</th>\n",
       "    </tr>\n",
       "  </thead>\n",
       "  <tbody>\n",
       "    <tr>\n",
       "      <th>3645</th>\n",
       "      <td>1667404</td>\n",
       "      <td>27</td>\n",
       "      <td>이마트 창동점</td>\n",
       "      <td>99</td>\n",
       "      <td>돼지고기(생삼겹살)</td>\n",
       "      <td>600g</td>\n",
       "      <td>2720</td>\n",
       "      <td>2021-06</td>\n",
       "      <td>국내산</td>\n",
       "      <td>2</td>\n",
       "      <td>대형마트</td>\n",
       "      <td>320000</td>\n",
       "      <td>도봉구</td>\n",
       "      <td>2021-06-24</td>\n",
       "    </tr>\n",
       "    <tr>\n",
       "      <th>4052</th>\n",
       "      <td>1667438</td>\n",
       "      <td>28</td>\n",
       "      <td>홈플러스 방학점</td>\n",
       "      <td>99</td>\n",
       "      <td>돼지고기(생삼겹살)</td>\n",
       "      <td>600g</td>\n",
       "      <td>1690</td>\n",
       "      <td>2021-06</td>\n",
       "      <td>국내산</td>\n",
       "      <td>2</td>\n",
       "      <td>대형마트</td>\n",
       "      <td>320000</td>\n",
       "      <td>도봉구</td>\n",
       "      <td>2021-06-24</td>\n",
       "    </tr>\n",
       "  </tbody>\n",
       "</table>\n",
       "</div>"
      ],
      "text/plain": [
       "         일련번호  시장/마트 번호  시장/마트 이름  품목 번호       품목 이름 실판매규격  가격(원)     년도-월  \\\n",
       "3645  1667404        27   이마트 창동점     99  돼지고기(생삼겹살)  600g   2720  2021-06   \n",
       "4052  1667438        28  홈플러스 방학점     99  돼지고기(생삼겹살)  600g   1690  2021-06   \n",
       "\n",
       "       비고  시장유형 구분(시장/마트) 코드 시장유형 구분(시장/마트) 이름  자치구 코드 자치구 이름        점검일자  \n",
       "3645  국내산                  2              대형마트  320000    도봉구  2021-06-24  \n",
       "4052  국내산                  2              대형마트  320000    도봉구  2021-06-24  "
      ]
     },
     "execution_count": 25,
     "metadata": {},
     "output_type": "execute_result"
    }
   ],
   "source": [
    "df_sam[df_sam['가격(원)']<5000]"
   ]
  },
  {
   "cell_type": "code",
   "execution_count": 26,
   "id": "7afe6858",
   "metadata": {},
   "outputs": [
    {
     "data": {
      "text/plain": [
       "1690"
      ]
     },
     "execution_count": 26,
     "metadata": {},
     "output_type": "execute_result"
    }
   ],
   "source": [
    "# 삼겹살 600g의 최저 가격은?\n",
    "df_sam['가격(원)'].min()"
   ]
  },
  {
   "cell_type": "markdown",
   "id": "3a28f4d4",
   "metadata": {},
   "source": [
    "## 우리동네 삼겹살 가격"
   ]
  },
  {
   "cell_type": "code",
   "execution_count": 27,
   "id": "212a55a1",
   "metadata": {},
   "outputs": [
    {
     "name": "stdout",
     "output_type": "stream",
     "text": [
      "구이름:송파구\n"
     ]
    }
   ],
   "source": [
    "gu = input('구이름:')"
   ]
  },
  {
   "cell_type": "code",
   "execution_count": 28,
   "id": "8b7f69c5",
   "metadata": {
    "scrolled": false
   },
   "outputs": [
    {
     "data": {
      "text/html": [
       "<div>\n",
       "<style scoped>\n",
       "    .dataframe tbody tr th:only-of-type {\n",
       "        vertical-align: middle;\n",
       "    }\n",
       "\n",
       "    .dataframe tbody tr th {\n",
       "        vertical-align: top;\n",
       "    }\n",
       "\n",
       "    .dataframe thead th {\n",
       "        text-align: right;\n",
       "    }\n",
       "</style>\n",
       "<table border=\"1\" class=\"dataframe\">\n",
       "  <thead>\n",
       "    <tr style=\"text-align: right;\">\n",
       "      <th></th>\n",
       "      <th>시장/마트 이름</th>\n",
       "      <th>품목 이름</th>\n",
       "      <th>실판매규격</th>\n",
       "      <th>가격(원)</th>\n",
       "    </tr>\n",
       "  </thead>\n",
       "  <tbody>\n",
       "    <tr>\n",
       "      <th>3711</th>\n",
       "      <td>마천중앙시장</td>\n",
       "      <td>돼지고기(생삼겹살)</td>\n",
       "      <td>600g</td>\n",
       "      <td>15000</td>\n",
       "    </tr>\n",
       "    <tr>\n",
       "      <th>3744</th>\n",
       "      <td>마천중앙시장</td>\n",
       "      <td>돼지고기(생삼겹살)</td>\n",
       "      <td>600g</td>\n",
       "      <td>12800</td>\n",
       "    </tr>\n",
       "    <tr>\n",
       "      <th>3811</th>\n",
       "      <td>방이시장</td>\n",
       "      <td>돼지고기(생삼겹살)</td>\n",
       "      <td>600g</td>\n",
       "      <td>12000</td>\n",
       "    </tr>\n",
       "    <tr>\n",
       "      <th>3855</th>\n",
       "      <td>방이시장</td>\n",
       "      <td>돼지고기(생삼겹살)</td>\n",
       "      <td>600g</td>\n",
       "      <td>17000</td>\n",
       "    </tr>\n",
       "    <tr>\n",
       "      <th>3956</th>\n",
       "      <td>롯데백화점 잠실점</td>\n",
       "      <td>돼지고기(생삼겹살)</td>\n",
       "      <td>600g</td>\n",
       "      <td>29880</td>\n",
       "    </tr>\n",
       "    <tr>\n",
       "      <th>4043</th>\n",
       "      <td>롯데백화점 잠실점</td>\n",
       "      <td>돼지고기(생삼겹살)</td>\n",
       "      <td>600g</td>\n",
       "      <td>35890</td>\n",
       "    </tr>\n",
       "    <tr>\n",
       "      <th>4145</th>\n",
       "      <td>홈플러스 잠실점</td>\n",
       "      <td>돼지고기(생삼겹살)</td>\n",
       "      <td>600g</td>\n",
       "      <td>12000</td>\n",
       "    </tr>\n",
       "    <tr>\n",
       "      <th>4158</th>\n",
       "      <td>홈플러스 잠실점</td>\n",
       "      <td>돼지고기(생삼겹살)</td>\n",
       "      <td>600g</td>\n",
       "      <td>11940</td>\n",
       "    </tr>\n",
       "    <tr>\n",
       "      <th>4198</th>\n",
       "      <td>홈플러스 잠실점</td>\n",
       "      <td>돼지고기(생삼겹살)</td>\n",
       "      <td>600g</td>\n",
       "      <td>19920</td>\n",
       "    </tr>\n",
       "    <tr>\n",
       "      <th>4217</th>\n",
       "      <td>홈플러스 잠실점</td>\n",
       "      <td>돼지고기(생삼겹살)</td>\n",
       "      <td>600g</td>\n",
       "      <td>10740</td>\n",
       "    </tr>\n",
       "  </tbody>\n",
       "</table>\n",
       "</div>"
      ],
      "text/plain": [
       "       시장/마트 이름       품목 이름 실판매규격  가격(원)\n",
       "3711     마천중앙시장  돼지고기(생삼겹살)  600g  15000\n",
       "3744     마천중앙시장  돼지고기(생삼겹살)  600g  12800\n",
       "3811       방이시장  돼지고기(생삼겹살)  600g  12000\n",
       "3855       방이시장  돼지고기(생삼겹살)  600g  17000\n",
       "3956  롯데백화점 잠실점  돼지고기(생삼겹살)  600g  29880\n",
       "4043  롯데백화점 잠실점  돼지고기(생삼겹살)  600g  35890\n",
       "4145   홈플러스 잠실점  돼지고기(생삼겹살)  600g  12000\n",
       "4158   홈플러스 잠실점  돼지고기(생삼겹살)  600g  11940\n",
       "4198   홈플러스 잠실점  돼지고기(생삼겹살)  600g  19920\n",
       "4217   홈플러스 잠실점  돼지고기(생삼겹살)  600g  10740"
      ]
     },
     "execution_count": 28,
     "metadata": {},
     "output_type": "execute_result"
    }
   ],
   "source": [
    "# 우리구 삼겹살 가격\n",
    "df_sam_gu = df_sam[df_sam['자치구 이름']==gu][['시장/마트 이름','품목 이름','실판매규격','가격(원)']].drop_duplicates()\n",
    "df_sam_gu"
   ]
  },
  {
   "cell_type": "code",
   "execution_count": 30,
   "id": "7268542e",
   "metadata": {},
   "outputs": [
    {
     "data": {
      "image/png": "[encoded data removed]",
      "text/plain": [
       "<Figure size 640x480 with 1 Axes>"
      ]
     },
     "metadata": {},
     "output_type": "display_data"
    }
   ],
   "source": [
    "# 시각화\n",
    "import matplotlib.pyplot as plt\n",
    "plt.rcParams['font.family'] = 'Malgun Gothic'\n",
    "\n",
    "x = df_sam_gu['시장/마트 이름']\n",
    "y = df_sam_gu['가격(원)']\n",
    "\n",
    "plt.scatter(x,y)\n",
    "plt.title(gu+' 삼겹살 가격')\n",
    "plt.grid(True)\n",
    "plt.show()"
   ]
  },
  {
   "cell_type": "markdown",
   "id": "193234c2",
   "metadata": {},
   "source": [
    "## 마트 지점별 삼겹살 가격"
   ]
  },
  {
   "cell_type": "code",
   "execution_count": 38,
   "id": "fd6799f3",
   "metadata": {},
   "outputs": [
    {
     "name": "stdout",
     "output_type": "stream",
     "text": [
      "시장/마트이름:백화점\n"
     ]
    }
   ],
   "source": [
    "mart = input('시장/마트이름:')"
   ]
  },
  {
   "cell_type": "code",
   "execution_count": 39,
   "id": "925dc6d1",
   "metadata": {
    "scrolled": false
   },
   "outputs": [],
   "source": [
    "# 마트 지점별 삼겹살 가격\n",
    "df_sam_mart = df_sam[df_sam['시장/마트 이름'].str.contains(mart)][['시장/마트 이름','품목 이름','실판매규격','가격(원)']].drop_duplicates()"
   ]
  },
  {
   "cell_type": "code",
   "execution_count": 40,
   "id": "49703291",
   "metadata": {},
   "outputs": [
    {
     "data": {
      "image/png": "[encoded data removed]",
      "text/plain": [
       "<Figure size 640x480 with 1 Axes>"
      ]
     },
     "metadata": {},
     "output_type": "display_data"
    }
   ],
   "source": [
    "# 시각화\n",
    "import matplotlib.pyplot as plt\n",
    "plt.rcParams['font.family'] = 'Malgun Gothic'\n",
    "\n",
    "x = df_sam_mart['시장/마트 이름']\n",
    "y = df_sam_mart['가격(원)']\n",
    "\n",
    "plt.scatter(x,y)\n",
    "plt.grid(True)\n",
    "plt.title(mart+ ' 삼겹살 가격')\n",
    "plt.xticks(rotation=45)\n",
    "plt.show()"
   ]
  },
  {
   "cell_type": "markdown",
   "id": "23a0ce1f",
   "metadata": {},
   "source": [
    "# 달걀 가격 분석"
   ]
  },
  {
   "cell_type": "markdown",
   "id": "a078ddb1",
   "metadata": {},
   "source": [
    "## 달걀 데이터"
   ]
  },
  {
   "cell_type": "code",
   "execution_count": 42,
   "id": "f7f8ddc4",
   "metadata": {
    "scrolled": false
   },
   "outputs": [],
   "source": [
    "# 2021-06 데이터 이용\n",
    "df_egg = df[(df['품목 이름'].str.contains('달걀')) & (df['년도-월']=='2021-06') & (df['실판매규격'].str.contains('30개')) & (df['가격(원)']>0)]"
   ]
  },
  {
   "cell_type": "code",
   "execution_count": 43,
   "id": "d798b72d",
   "metadata": {},
   "outputs": [
    {
     "data": {
      "text/plain": [
       "9442.334426229509"
      ]
     },
     "execution_count": 43,
     "metadata": {},
     "output_type": "execute_result"
    }
   ],
   "source": [
    "# 달걀 30구 평균 가격\n",
    "df_egg['가격(원)'].mean()"
   ]
  },
  {
   "cell_type": "code",
   "execution_count": 44,
   "id": "acff11c6",
   "metadata": {
    "scrolled": true
   },
   "outputs": [
    {
     "data": {
      "text/plain": [
       "75000"
      ]
     },
     "execution_count": 44,
     "metadata": {},
     "output_type": "execute_result"
    }
   ],
   "source": [
    "# 달걀 최고 가격\n",
    "df_egg['가격(원)'].max()"
   ]
  },
  {
   "cell_type": "code",
   "execution_count": 45,
   "id": "28e7bd2e",
   "metadata": {},
   "outputs": [
    {
     "data": {
      "text/html": [
       "<div>\n",
       "<style scoped>\n",
       "    .dataframe tbody tr th:only-of-type {\n",
       "        vertical-align: middle;\n",
       "    }\n",
       "\n",
       "    .dataframe tbody tr th {\n",
       "        vertical-align: top;\n",
       "    }\n",
       "\n",
       "    .dataframe thead th {\n",
       "        text-align: right;\n",
       "    }\n",
       "</style>\n",
       "<table border=\"1\" class=\"dataframe\">\n",
       "  <thead>\n",
       "    <tr style=\"text-align: right;\">\n",
       "      <th></th>\n",
       "      <th>일련번호</th>\n",
       "      <th>시장/마트 번호</th>\n",
       "      <th>시장/마트 이름</th>\n",
       "      <th>품목 번호</th>\n",
       "      <th>품목 이름</th>\n",
       "      <th>실판매규격</th>\n",
       "      <th>가격(원)</th>\n",
       "      <th>년도-월</th>\n",
       "      <th>비고</th>\n",
       "      <th>시장유형 구분(시장/마트) 코드</th>\n",
       "      <th>시장유형 구분(시장/마트) 이름</th>\n",
       "      <th>자치구 코드</th>\n",
       "      <th>자치구 이름</th>\n",
       "      <th>점검일자</th>\n",
       "    </tr>\n",
       "  </thead>\n",
       "  <tbody>\n",
       "    <tr>\n",
       "      <th>414</th>\n",
       "      <td>1669381</td>\n",
       "      <td>108</td>\n",
       "      <td>남구로시장</td>\n",
       "      <td>320</td>\n",
       "      <td>달걀(30개)</td>\n",
       "      <td>30개(1.5kg)</td>\n",
       "      <td>75000</td>\n",
       "      <td>2021-06</td>\n",
       "      <td>국내산,특란</td>\n",
       "      <td>1</td>\n",
       "      <td>전통시장</td>\n",
       "      <td>530000</td>\n",
       "      <td>구로구</td>\n",
       "      <td>2021-06-24</td>\n",
       "    </tr>\n",
       "  </tbody>\n",
       "</table>\n",
       "</div>"
      ],
      "text/plain": [
       "        일련번호  시장/마트 번호 시장/마트 이름  품목 번호    품목 이름       실판매규격  가격(원)     년도-월  \\\n",
       "414  1669381       108    남구로시장    320  달걀(30개)  30개(1.5kg)  75000  2021-06   \n",
       "\n",
       "         비고  시장유형 구분(시장/마트) 코드 시장유형 구분(시장/마트) 이름  자치구 코드 자치구 이름        점검일자  \n",
       "414  국내산,특란                  1              전통시장  530000    구로구  2021-06-24  "
      ]
     },
     "execution_count": 45,
     "metadata": {},
     "output_type": "execute_result"
    }
   ],
   "source": [
    "df_egg[df_egg['가격(원)']>20000]"
   ]
  },
  {
   "cell_type": "code",
   "execution_count": 46,
   "id": "5d8d8191",
   "metadata": {
    "scrolled": false
   },
   "outputs": [
    {
     "data": {
      "text/html": [
       "<div>\n",
       "<style scoped>\n",
       "    .dataframe tbody tr th:only-of-type {\n",
       "        vertical-align: middle;\n",
       "    }\n",
       "\n",
       "    .dataframe tbody tr th {\n",
       "        vertical-align: top;\n",
       "    }\n",
       "\n",
       "    .dataframe thead th {\n",
       "        text-align: right;\n",
       "    }\n",
       "</style>\n",
       "<table border=\"1\" class=\"dataframe\">\n",
       "  <thead>\n",
       "    <tr style=\"text-align: right;\">\n",
       "      <th></th>\n",
       "      <th>일련번호</th>\n",
       "      <th>시장/마트 번호</th>\n",
       "      <th>시장/마트 이름</th>\n",
       "      <th>품목 번호</th>\n",
       "      <th>품목 이름</th>\n",
       "      <th>실판매규격</th>\n",
       "      <th>가격(원)</th>\n",
       "      <th>년도-월</th>\n",
       "      <th>비고</th>\n",
       "      <th>시장유형 구분(시장/마트) 코드</th>\n",
       "      <th>시장유형 구분(시장/마트) 이름</th>\n",
       "      <th>자치구 코드</th>\n",
       "      <th>자치구 이름</th>\n",
       "      <th>점검일자</th>\n",
       "    </tr>\n",
       "  </thead>\n",
       "  <tbody>\n",
       "    <tr>\n",
       "      <th>1477</th>\n",
       "      <td>1669024</td>\n",
       "      <td>75</td>\n",
       "      <td>이마트 성수점</td>\n",
       "      <td>320</td>\n",
       "      <td>달걀(30개)</td>\n",
       "      <td>30개</td>\n",
       "      <td>5520</td>\n",
       "      <td>2021-06</td>\n",
       "      <td>국내산신선한란</td>\n",
       "      <td>2</td>\n",
       "      <td>대형마트</td>\n",
       "      <td>200000</td>\n",
       "      <td>성동구</td>\n",
       "      <td>2021-06-24</td>\n",
       "    </tr>\n",
       "  </tbody>\n",
       "</table>\n",
       "</div>"
      ],
      "text/plain": [
       "         일련번호  시장/마트 번호 시장/마트 이름  품목 번호    품목 이름 실판매규격  가격(원)     년도-월  \\\n",
       "1477  1669024        75  이마트 성수점    320  달걀(30개)   30개   5520  2021-06   \n",
       "\n",
       "           비고  시장유형 구분(시장/마트) 코드 시장유형 구분(시장/마트) 이름  자치구 코드 자치구 이름        점검일자  \n",
       "1477  국내산신선한란                  2              대형마트  200000    성동구  2021-06-24  "
      ]
     },
     "execution_count": 46,
     "metadata": {},
     "output_type": "execute_result"
    }
   ],
   "source": [
    "df_egg[df_egg['가격(원)'] < 6000]"
   ]
  },
  {
   "cell_type": "code",
   "execution_count": 47,
   "id": "77341806",
   "metadata": {
    "scrolled": true
   },
   "outputs": [
    {
     "data": {
      "text/plain": [
       "5520"
      ]
     },
     "execution_count": 47,
     "metadata": {},
     "output_type": "execute_result"
    }
   ],
   "source": [
    "# 달걀 최저 가격\n",
    "df_egg['가격(원)'].min()"
   ]
  },
  {
   "cell_type": "markdown",
   "id": "c00a8923",
   "metadata": {},
   "source": [
    "## 우리동네 달걀 가격"
   ]
  },
  {
   "cell_type": "code",
   "execution_count": 58,
   "id": "c7dd8112",
   "metadata": {
    "scrolled": true
   },
   "outputs": [
    {
     "name": "stdout",
     "output_type": "stream",
     "text": [
      "구이름:송파구\n"
     ]
    }
   ],
   "source": [
    "gu = input('구이름:')"
   ]
  },
  {
   "cell_type": "code",
   "execution_count": 59,
   "id": "49c08fb4",
   "metadata": {
    "scrolled": false
   },
   "outputs": [],
   "source": [
    "# 우리구 달걀 가격\n",
    "df_egg_gu = df_egg[df_egg['자치구 이름']==gu][['시장/마트 이름','품목 이름','실판매규격','가격(원)']].drop_duplicates()"
   ]
  },
  {
   "cell_type": "code",
   "execution_count": 60,
   "id": "38d071e4",
   "metadata": {
    "scrolled": true
   },
   "outputs": [
    {
     "data": {
      "image/png": "[encoded data removed]",
      "text/plain": [
       "<Figure size 640x480 with 1 Axes>"
      ]
     },
     "metadata": {},
     "output_type": "display_data"
    }
   ],
   "source": [
    "# 시각화\n",
    "import matplotlib.pyplot as plt\n",
    "plt.rcParams['font.family'] = 'Malgun Gothic'\n",
    "\n",
    "#df_egg_gu.sort_values('가격(원)')\n",
    "x = df_egg_gu['시장/마트 이름']\n",
    "y = df_egg_gu['가격(원)']\n",
    "\n",
    "plt.scatter(x,y)\n",
    "plt.grid(True)\n",
    "plt.title(gu+' 달걀가격(30구)')\n",
    "plt.xticks(rotation=45)\n",
    "plt.show()"
   ]
  },
  {
   "cell_type": "markdown",
   "id": "0c639bb2",
   "metadata": {},
   "source": [
    "## 마트 지점별 달걀 가격"
   ]
  },
  {
   "cell_type": "code",
   "execution_count": 64,
   "id": "8267dd71",
   "metadata": {
    "scrolled": true
   },
   "outputs": [
    {
     "name": "stdout",
     "output_type": "stream",
     "text": [
      "마트이름:백화점\n"
     ]
    }
   ],
   "source": [
    "gu = input('마트이름:')"
   ]
  },
  {
   "cell_type": "code",
   "execution_count": 65,
   "id": "44d64fdc",
   "metadata": {
    "scrolled": false
   },
   "outputs": [],
   "source": [
    "# 마트 지점별 달걀 가격\n",
    "df_egg_mart = df_egg[df_egg['시장/마트 이름'].str.contains(gu)][['시장/마트 이름','품목 이름','실판매규격','가격(원)']].drop_duplicates()"
   ]
  },
  {
   "cell_type": "code",
   "execution_count": 66,
   "id": "2e126c19",
   "metadata": {
    "scrolled": true
   },
   "outputs": [
    {
     "data": {
      "image/png": "[encoded data removed]",
      "text/plain": [
       "<Figure size 640x480 with 1 Axes>"
      ]
     },
     "metadata": {},
     "output_type": "display_data"
    }
   ],
   "source": [
    "# 시각화\n",
    "import matplotlib.pyplot as plt\n",
    "plt.rcParams['font.family'] = 'Malgun Gothic'\n",
    "\n",
    "x = df_egg_mart['시장/마트 이름']\n",
    "y = df_egg_mart['가격(원)']\n",
    "\n",
    "plt.scatter(x,y)\n",
    "plt.xticks(rotation=45)\n",
    "plt.grid(True)\n",
    "plt.title(gu+' 달걀가격(30구)')\n",
    "plt.show()"
   ]
  },
  {
   "cell_type": "code",
   "execution_count": null,
   "id": "0a59c1c4",
   "metadata": {},
   "outputs": [],
   "source": []
  }
 ],
 "metadata": {
  "kernelspec": {
   "display_name": "Python 3 (ipykernel)",
   "language": "python",
   "name": "python3"
  },
  "language_info": {
   "codemirror_mode": {
    "name": "ipython",
    "version": 3
   },
   "file_extension": ".py",
   "mimetype": "text/x-python",
   "name": "python",
   "nbconvert_exporter": "python",
   "pygments_lexer": "ipython3",
   "version": "3.9.13"
  },
  "toc": {
   "base_numbering": 1,
   "nav_menu": {},
   "number_sections": true,
   "sideBar": true,
   "skip_h1_title": false,
   "title_cell": "Table of Contents",
   "title_sidebar": "Contents",
   "toc_cell": false,
   "toc_position": {
    "height": "calc(100% - 180px)",
    "left": "10px",
    "top": "150px",
    "width": "165px"
   },
   "toc_section_display": true,
   "toc_window_display": false
  }
 },
 "nbformat": 4,
 "nbformat_minor": 5
}
