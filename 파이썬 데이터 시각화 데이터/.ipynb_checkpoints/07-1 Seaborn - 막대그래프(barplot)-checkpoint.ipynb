{
 "cells": [
  {
   "cell_type": "markdown",
   "id": "54c2f3c5",
   "metadata": {},
   "source": [
    "[학습목표]<br>\n",
    "seaborn으로 막대그래프를 그릴 수 있다."
   ]
  },
  {
   "cell_type": "code",
   "execution_count": 2,
   "id": "26534e86",
   "metadata": {},
   "outputs": [],
   "source": [
    "import pandas as pd\n",
    "import matplotlib.pyplot as plt\n",
    "import seaborn as sns\n",
    "#seaborn은 matplotlib을 기반으로 만들어져있기 때문에 둘 다 import 해주어야 함"
   ]
  },
  {
   "cell_type": "code",
   "execution_count": 3,
   "id": "e5b3185c",
   "metadata": {},
   "outputs": [],
   "source": [
    "plt.rcParams['font.family']='Malgun Gothic'\n",
    "plt.rcParams['axes.unicode_minus']=False"
   ]
  },
  {
   "cell_type": "markdown",
   "id": "1c2e87f5",
   "metadata": {},
   "source": [
    "# 샘플데이터"
   ]
  },
  {
   "cell_type": "code",
   "execution_count": 4,
   "id": "901dd10c",
   "metadata": {},
   "outputs": [],
   "source": [
    "tips = sns.load_dataset('tips')"
   ]
  },
  {
   "cell_type": "code",
   "execution_count": 5,
   "id": "c324270e",
   "metadata": {
    "scrolled": true
   },
   "outputs": [
    {
     "data": {
      "text/html": [
       "<div>\n",
       "<style scoped>\n",
       "    .dataframe tbody tr th:only-of-type {\n",
       "        vertical-align: middle;\n",
       "    }\n",
       "\n",
       "    .dataframe tbody tr th {\n",
       "        vertical-align: top;\n",
       "    }\n",
       "\n",
       "    .dataframe thead th {\n",
       "        text-align: right;\n",
       "    }\n",
       "</style>\n",
       "<table border=\"1\" class=\"dataframe\">\n",
       "  <thead>\n",
       "    <tr style=\"text-align: right;\">\n",
       "      <th></th>\n",
       "      <th>total_bill</th>\n",
       "      <th>tip</th>\n",
       "      <th>sex</th>\n",
       "      <th>smoker</th>\n",
       "      <th>day</th>\n",
       "      <th>time</th>\n",
       "      <th>size</th>\n",
       "    </tr>\n",
       "  </thead>\n",
       "  <tbody>\n",
       "    <tr>\n",
       "      <th>0</th>\n",
       "      <td>16.99</td>\n",
       "      <td>1.01</td>\n",
       "      <td>Female</td>\n",
       "      <td>No</td>\n",
       "      <td>Sun</td>\n",
       "      <td>Dinner</td>\n",
       "      <td>2</td>\n",
       "    </tr>\n",
       "    <tr>\n",
       "      <th>1</th>\n",
       "      <td>10.34</td>\n",
       "      <td>1.66</td>\n",
       "      <td>Male</td>\n",
       "      <td>No</td>\n",
       "      <td>Sun</td>\n",
       "      <td>Dinner</td>\n",
       "      <td>3</td>\n",
       "    </tr>\n",
       "    <tr>\n",
       "      <th>2</th>\n",
       "      <td>21.01</td>\n",
       "      <td>3.50</td>\n",
       "      <td>Male</td>\n",
       "      <td>No</td>\n",
       "      <td>Sun</td>\n",
       "      <td>Dinner</td>\n",
       "      <td>3</td>\n",
       "    </tr>\n",
       "    <tr>\n",
       "      <th>3</th>\n",
       "      <td>23.68</td>\n",
       "      <td>3.31</td>\n",
       "      <td>Male</td>\n",
       "      <td>No</td>\n",
       "      <td>Sun</td>\n",
       "      <td>Dinner</td>\n",
       "      <td>2</td>\n",
       "    </tr>\n",
       "    <tr>\n",
       "      <th>4</th>\n",
       "      <td>24.59</td>\n",
       "      <td>3.61</td>\n",
       "      <td>Female</td>\n",
       "      <td>No</td>\n",
       "      <td>Sun</td>\n",
       "      <td>Dinner</td>\n",
       "      <td>4</td>\n",
       "    </tr>\n",
       "  </tbody>\n",
       "</table>\n",
       "</div>"
      ],
      "text/plain": [
       "   total_bill   tip     sex smoker  day    time  size\n",
       "0       16.99  1.01  Female     No  Sun  Dinner     2\n",
       "1       10.34  1.66    Male     No  Sun  Dinner     3\n",
       "2       21.01  3.50    Male     No  Sun  Dinner     3\n",
       "3       23.68  3.31    Male     No  Sun  Dinner     2\n",
       "4       24.59  3.61  Female     No  Sun  Dinner     4"
      ]
     },
     "execution_count": 5,
     "metadata": {},
     "output_type": "execute_result"
    }
   ],
   "source": [
    "tips.head()"
   ]
  },
  {
   "cell_type": "code",
   "execution_count": 6,
   "id": "8aa8fb49",
   "metadata": {},
   "outputs": [
    {
     "name": "stdout",
     "output_type": "stream",
     "text": [
      "<class 'pandas.core.frame.DataFrame'>\n",
      "RangeIndex: 244 entries, 0 to 243\n",
      "Data columns (total 7 columns):\n",
      " #   Column      Non-Null Count  Dtype   \n",
      "---  ------      --------------  -----   \n",
      " 0   total_bill  244 non-null    float64 \n",
      " 1   tip         244 non-null    float64 \n",
      " 2   sex         244 non-null    category\n",
      " 3   smoker      244 non-null    category\n",
      " 4   day         244 non-null    category\n",
      " 5   time        244 non-null    category\n",
      " 6   size        244 non-null    int64   \n",
      "dtypes: category(4), float64(2), int64(1)\n",
      "memory usage: 7.4 KB\n"
     ]
    }
   ],
   "source": [
    "tips.info()"
   ]
  },
  {
   "cell_type": "markdown",
   "id": "e54eb31b",
   "metadata": {},
   "source": [
    "# 요일별 팁 평균"
   ]
  },
  {
   "cell_type": "markdown",
   "id": "b4dd82ee",
   "metadata": {},
   "source": [
    "## matplotlib으로 시각화"
   ]
  },
  {
   "cell_type": "markdown",
   "id": "4514f680",
   "metadata": {},
   "source": [
    "### 데이터 가공\n",
    "* 요일별 팁 평균 계산\n",
    "* 그룹핑 : 데이터프레임.groupby(그룹기준컬럼)[통계적용컬럼].통계함수"
   ]
  },
  {
   "cell_type": "code",
   "execution_count": 7,
   "id": "aae1ff08",
   "metadata": {},
   "outputs": [
    {
     "data": {
      "text/plain": [
       "day\n",
       "Thur    2.771452\n",
       "Fri     2.734737\n",
       "Sat     2.993103\n",
       "Sun     3.255132\n",
       "Name: tip, dtype: float64"
      ]
     },
     "execution_count": 7,
     "metadata": {},
     "output_type": "execute_result"
    }
   ],
   "source": [
    "#요일로 그룹핑하여 팁의 평균을 구하기\n",
    "day_tip_mean = tips.groupby('day')['tip'].mean()\n",
    "day_tip_mean"
   ]
  },
  {
   "cell_type": "markdown",
   "id": "48fcc24c",
   "metadata": {},
   "source": [
    "### 데이터 시각화\n",
    "* plt.bar(x,y)"
   ]
  },
  {
   "cell_type": "code",
   "execution_count": 8,
   "id": "59f37166",
   "metadata": {},
   "outputs": [
    {
     "data": {
      "image/png": "[encoded data removed]",
      "text/plain": [
       "<Figure size 640x480 with 1 Axes>"
      ]
     },
     "metadata": {},
     "output_type": "display_data"
    }
   ],
   "source": [
    "#막대그래프\n",
    "plt.bar(day_tip_mean.index, day_tip_mean)\n",
    "#레이블 지정\n",
    "plt.xlabel('day')\n",
    "plt.ylabel('tip')\n",
    "plt.title('요일별 팁 평균', size=15)\n",
    "\n",
    "plt.show()"
   ]
  },
  {
   "cell_type": "markdown",
   "id": "e6185e3e",
   "metadata": {},
   "source": [
    "## seaborn으로 그리기\n",
    "* <b>`sns.barplot(data=데이터프레임명, x=x축컬럼, y=y축컬럼)`</b>\n",
    "* x축데이터로 그룹핑한 y축데이터의 평균값을 계산하여 그래프를 그려준다.\n",
    "* 신뢰구간(CI:Confidence Interval)을 함께 표시<br>"
   ]
  },
  {
   "cell_type": "code",
   "execution_count": 9,
   "id": "671280d8",
   "metadata": {},
   "outputs": [
    {
     "data": {
      "image/png": "[encoded data removed]",
      "text/plain": [
       "<Figure size 640x480 with 1 Axes>"
      ]
     },
     "metadata": {},
     "output_type": "display_data"
    }
   ],
   "source": [
    "sns.barplot(data=tips, x='day', y='tip', ci=None)\n",
    "plt.title('요일별 팁 평균', size=15)\n",
    "plt.show()\n",
    "\n",
    "#matplotlib과의 차이점: 자동으로 그룹핑 및 평균값 계산,\n",
    "#막대별로 색이 다름, 신뢰구간이 표시됨, 레이블 자동 지정"
   ]
  },
  {
   "cell_type": "markdown",
   "id": "09e9c68e",
   "metadata": {},
   "source": [
    "# 요일별 팁 합계"
   ]
  },
  {
   "cell_type": "markdown",
   "id": "693ed77d",
   "metadata": {},
   "source": [
    "## matplotlib으로 그리기"
   ]
  },
  {
   "cell_type": "code",
   "execution_count": 9,
   "id": "cc991622",
   "metadata": {},
   "outputs": [
    {
     "data": {
      "text/plain": [
       "day\n",
       "Thur    171.83\n",
       "Fri      51.96\n",
       "Sat     260.40\n",
       "Sun     247.39\n",
       "Name: tip, dtype: float64"
      ]
     },
     "execution_count": 9,
     "metadata": {},
     "output_type": "execute_result"
    }
   ],
   "source": [
    "day_tip_sum = tips.groupby('day')['tip'].sum()\n",
    "day_tip_sum"
   ]
  },
  {
   "cell_type": "code",
   "execution_count": 10,
   "id": "f22dc80f",
   "metadata": {
    "scrolled": true
   },
   "outputs": [
    {
     "data": {
      "image/png": "[encoded data removed]",
      "text/plain": [
       "<Figure size 432x288 with 1 Axes>"
      ]
     },
     "metadata": {
      "needs_background": "light"
     },
     "output_type": "display_data"
    }
   ],
   "source": [
    "plt.bar(day_tip_sum.index, day_tip_sum)\n",
    "plt.xlabel('day')\n",
    "plt.ylabel('tip')\n",
    "plt.title('요일별 팁 합계', size=15)\n",
    "plt.show()"
   ]
  },
  {
   "cell_type": "markdown",
   "id": "2c1cd6da",
   "metadata": {},
   "source": [
    "## seaborn으로 그리기\n",
    "* estimator = 통계함수"
   ]
  },
  {
   "cell_type": "markdown",
   "id": "548d2ad9",
   "metadata": {},
   "source": [
    "# 요일별 팁 합계를 흡연여부로 비교\n",
    "* hue : y를 그룹핑할 컬럼"
   ]
  },
  {
   "cell_type": "markdown",
   "id": "c73e7b2b",
   "metadata": {},
   "source": [
    "* hue 색상 변경 : palette = 구분:색상 딕셔너리"
   ]
  },
  {
   "cell_type": "markdown",
   "id": "ffb7176b",
   "metadata": {},
   "source": [
    "* pyplot의 메소드로 그리드 추가"
   ]
  },
  {
   "cell_type": "code",
   "execution_count": 14,
   "id": "164415a0",
   "metadata": {
    "scrolled": false
   },
   "outputs": [
    {
     "data": {
      "image/png": "[encoded data removed]",
      "text/plain": [
       "<Figure size 432x288 with 1 Axes>"
      ]
     },
     "metadata": {
      "needs_background": "light"
     },
     "output_type": "display_data"
    }
   ],
   "source": [
    "sns.barplot(data=tips, x='day', y='tip', ci=None, estimator=sum, hue='smoker'\n",
    "           , palette ={'Yes':'gray', 'No':'skyblue'})\n",
    "plt.title('요일별 팁 합계', size=15)\n",
    "plt.grid(axis='y', ls=':')\n",
    "plt.show()"
   ]
  }
 ],
 "metadata": {
  "kernelspec": {
   "display_name": "Python 3 (ipykernel)",
   "language": "python",
   "name": "python3"
  },
  "language_info": {
   "codemirror_mode": {
    "name": "ipython",
    "version": 3
   },
   "file_extension": ".py",
   "mimetype": "text/x-python",
   "name": "python",
   "nbconvert_exporter": "python",
   "pygments_lexer": "ipython3",
   "version": "3.9.13"
  },
  "toc": {
   "base_numbering": 1,
   "nav_menu": {},
   "number_sections": true,
   "sideBar": true,
   "skip_h1_title": false,
   "title_cell": "Table of Contents",
   "title_sidebar": "Contents",
   "toc_cell": false,
   "toc_position": {
    "height": "calc(100% - 180px)",
    "left": "10px",
    "top": "150px",
    "width": "245.76px"
   },
   "toc_section_display": true,
   "toc_window_display": false
  }
 },
 "nbformat": 4,
 "nbformat_minor": 5
}
