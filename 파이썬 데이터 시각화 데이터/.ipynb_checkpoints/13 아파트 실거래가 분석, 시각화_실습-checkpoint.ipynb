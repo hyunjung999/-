{
 "cells": [
  {
   "cell_type": "code",
   "execution_count": 1,
   "id": "30578f97",
   "metadata": {},
   "outputs": [],
   "source": [
    "import pandas as pd\n",
    "import matplotlib.pyplot as plt\n",
    "import seaborn as sns"
   ]
  },
  {
   "cell_type": "code",
   "execution_count": 2,
   "id": "0861f8d2",
   "metadata": {},
   "outputs": [],
   "source": [
    "plt.rcParams['font.family']='Malgun Gothic'\n",
    "plt.rcParams['axes.unicode_minus']=False"
   ]
  },
  {
   "cell_type": "markdown",
   "id": "daa7b959",
   "metadata": {},
   "source": [
    "# 데이터 수집 및 전처리"
   ]
  },
  {
   "cell_type": "markdown",
   "id": "bd5a3d28",
   "metadata": {},
   "source": [
    "## 데이터 수집\n",
    "* 국토교통부 실거래가 공개시스템<br>\n",
    "http://rtdown.molit.go.kr/"
   ]
  },
  {
   "cell_type": "code",
   "execution_count": 3,
   "id": "4ba82a2e",
   "metadata": {},
   "outputs": [
    {
     "data": {
      "text/html": [
       "<div>\n",
       "<style scoped>\n",
       "    .dataframe tbody tr th:only-of-type {\n",
       "        vertical-align: middle;\n",
       "    }\n",
       "\n",
       "    .dataframe tbody tr th {\n",
       "        vertical-align: top;\n",
       "    }\n",
       "\n",
       "    .dataframe thead th {\n",
       "        text-align: right;\n",
       "    }\n",
       "</style>\n",
       "<table border=\"1\" class=\"dataframe\">\n",
       "  <thead>\n",
       "    <tr style=\"text-align: right;\">\n",
       "      <th></th>\n",
       "      <th>시군구</th>\n",
       "      <th>번지</th>\n",
       "      <th>본번</th>\n",
       "      <th>부번</th>\n",
       "      <th>단지명</th>\n",
       "      <th>전용면적(㎡)</th>\n",
       "      <th>계약년월</th>\n",
       "      <th>계약일</th>\n",
       "      <th>거래금액(만원)</th>\n",
       "      <th>층</th>\n",
       "      <th>건축년도</th>\n",
       "      <th>도로명</th>\n",
       "      <th>해제사유발생일</th>\n",
       "      <th>거래유형</th>\n",
       "      <th>중개사소재지</th>\n",
       "    </tr>\n",
       "  </thead>\n",
       "  <tbody>\n",
       "    <tr>\n",
       "      <th>0</th>\n",
       "      <td>강원도 강릉시 견소동</td>\n",
       "      <td>202</td>\n",
       "      <td>202</td>\n",
       "      <td>0</td>\n",
       "      <td>송정한신</td>\n",
       "      <td>59.800</td>\n",
       "      <td>202108</td>\n",
       "      <td>12</td>\n",
       "      <td>15,000</td>\n",
       "      <td>2</td>\n",
       "      <td>1997</td>\n",
       "      <td>경강로2539번길 8</td>\n",
       "      <td>NaN</td>\n",
       "      <td>-</td>\n",
       "      <td>-</td>\n",
       "    </tr>\n",
       "    <tr>\n",
       "      <th>1</th>\n",
       "      <td>강원도 강릉시 견소동</td>\n",
       "      <td>202</td>\n",
       "      <td>202</td>\n",
       "      <td>0</td>\n",
       "      <td>송정한신</td>\n",
       "      <td>84.945</td>\n",
       "      <td>202108</td>\n",
       "      <td>28</td>\n",
       "      <td>25,000</td>\n",
       "      <td>1</td>\n",
       "      <td>1997</td>\n",
       "      <td>경강로2539번길 8</td>\n",
       "      <td>NaN</td>\n",
       "      <td>-</td>\n",
       "      <td>-</td>\n",
       "    </tr>\n",
       "    <tr>\n",
       "      <th>2</th>\n",
       "      <td>강원도 강릉시 견소동</td>\n",
       "      <td>202</td>\n",
       "      <td>202</td>\n",
       "      <td>0</td>\n",
       "      <td>송정한신</td>\n",
       "      <td>39.080</td>\n",
       "      <td>202108</td>\n",
       "      <td>28</td>\n",
       "      <td>12,000</td>\n",
       "      <td>7</td>\n",
       "      <td>1997</td>\n",
       "      <td>경강로2539번길 8</td>\n",
       "      <td>NaN</td>\n",
       "      <td>-</td>\n",
       "      <td>-</td>\n",
       "    </tr>\n",
       "    <tr>\n",
       "      <th>3</th>\n",
       "      <td>강원도 강릉시 견소동</td>\n",
       "      <td>289</td>\n",
       "      <td>289</td>\n",
       "      <td>0</td>\n",
       "      <td>송정해변신도브래뉴아파트</td>\n",
       "      <td>59.990</td>\n",
       "      <td>202108</td>\n",
       "      <td>5</td>\n",
       "      <td>22,700</td>\n",
       "      <td>5</td>\n",
       "      <td>2005</td>\n",
       "      <td>경강로2539번길 22</td>\n",
       "      <td>NaN</td>\n",
       "      <td>-</td>\n",
       "      <td>-</td>\n",
       "    </tr>\n",
       "    <tr>\n",
       "      <th>4</th>\n",
       "      <td>강원도 강릉시 견소동</td>\n",
       "      <td>289</td>\n",
       "      <td>289</td>\n",
       "      <td>0</td>\n",
       "      <td>송정해변신도브래뉴아파트</td>\n",
       "      <td>84.990</td>\n",
       "      <td>202108</td>\n",
       "      <td>9</td>\n",
       "      <td>32,500</td>\n",
       "      <td>6</td>\n",
       "      <td>2005</td>\n",
       "      <td>경강로2539번길 22</td>\n",
       "      <td>NaN</td>\n",
       "      <td>-</td>\n",
       "      <td>-</td>\n",
       "    </tr>\n",
       "    <tr>\n",
       "      <th>...</th>\n",
       "      <td>...</td>\n",
       "      <td>...</td>\n",
       "      <td>...</td>\n",
       "      <td>...</td>\n",
       "      <td>...</td>\n",
       "      <td>...</td>\n",
       "      <td>...</td>\n",
       "      <td>...</td>\n",
       "      <td>...</td>\n",
       "      <td>...</td>\n",
       "      <td>...</td>\n",
       "      <td>...</td>\n",
       "      <td>...</td>\n",
       "      <td>...</td>\n",
       "      <td>...</td>\n",
       "    </tr>\n",
       "    <tr>\n",
       "      <th>56238</th>\n",
       "      <td>충청북도 충주시 호암동</td>\n",
       "      <td>1191</td>\n",
       "      <td>1191</td>\n",
       "      <td>0</td>\n",
       "      <td>호암힐데스하임</td>\n",
       "      <td>84.890</td>\n",
       "      <td>202108</td>\n",
       "      <td>24</td>\n",
       "      <td>41,000</td>\n",
       "      <td>5</td>\n",
       "      <td>2019</td>\n",
       "      <td>호암토성2로 1</td>\n",
       "      <td>NaN</td>\n",
       "      <td>-</td>\n",
       "      <td>-</td>\n",
       "    </tr>\n",
       "    <tr>\n",
       "      <th>56239</th>\n",
       "      <td>충청북도 충주시 호암동</td>\n",
       "      <td>1191</td>\n",
       "      <td>1191</td>\n",
       "      <td>0</td>\n",
       "      <td>호암힐데스하임</td>\n",
       "      <td>99.800</td>\n",
       "      <td>202108</td>\n",
       "      <td>27</td>\n",
       "      <td>52,000</td>\n",
       "      <td>6</td>\n",
       "      <td>2019</td>\n",
       "      <td>호암토성2로 1</td>\n",
       "      <td>NaN</td>\n",
       "      <td>-</td>\n",
       "      <td>-</td>\n",
       "    </tr>\n",
       "    <tr>\n",
       "      <th>56240</th>\n",
       "      <td>충청북도 충주시 호암동</td>\n",
       "      <td>1191</td>\n",
       "      <td>1191</td>\n",
       "      <td>0</td>\n",
       "      <td>호암힐데스하임</td>\n",
       "      <td>84.960</td>\n",
       "      <td>202108</td>\n",
       "      <td>27</td>\n",
       "      <td>42,500</td>\n",
       "      <td>2</td>\n",
       "      <td>2019</td>\n",
       "      <td>호암토성2로 1</td>\n",
       "      <td>NaN</td>\n",
       "      <td>-</td>\n",
       "      <td>-</td>\n",
       "    </tr>\n",
       "    <tr>\n",
       "      <th>56241</th>\n",
       "      <td>충청북도 충주시 호암동</td>\n",
       "      <td>1191</td>\n",
       "      <td>1191</td>\n",
       "      <td>0</td>\n",
       "      <td>호암힐데스하임</td>\n",
       "      <td>120.490</td>\n",
       "      <td>202108</td>\n",
       "      <td>31</td>\n",
       "      <td>58,000</td>\n",
       "      <td>7</td>\n",
       "      <td>2019</td>\n",
       "      <td>호암토성2로 1</td>\n",
       "      <td>NaN</td>\n",
       "      <td>-</td>\n",
       "      <td>-</td>\n",
       "    </tr>\n",
       "    <tr>\n",
       "      <th>56242</th>\n",
       "      <td>충청북도 충주시 호암동</td>\n",
       "      <td>1191</td>\n",
       "      <td>1191</td>\n",
       "      <td>0</td>\n",
       "      <td>호암힐데스하임</td>\n",
       "      <td>84.890</td>\n",
       "      <td>202108</td>\n",
       "      <td>31</td>\n",
       "      <td>44,800</td>\n",
       "      <td>4</td>\n",
       "      <td>2019</td>\n",
       "      <td>호암토성2로 1</td>\n",
       "      <td>NaN</td>\n",
       "      <td>-</td>\n",
       "      <td>-</td>\n",
       "    </tr>\n",
       "  </tbody>\n",
       "</table>\n",
       "<p>56243 rows × 15 columns</p>\n",
       "</div>"
      ],
      "text/plain": [
       "                시군구    번지    본번  부번           단지명  전용면적(㎡)    계약년월  계약일  \\\n",
       "0       강원도 강릉시 견소동   202   202   0          송정한신   59.800  202108   12   \n",
       "1       강원도 강릉시 견소동   202   202   0          송정한신   84.945  202108   28   \n",
       "2       강원도 강릉시 견소동   202   202   0          송정한신   39.080  202108   28   \n",
       "3       강원도 강릉시 견소동   289   289   0  송정해변신도브래뉴아파트   59.990  202108    5   \n",
       "4       강원도 강릉시 견소동   289   289   0  송정해변신도브래뉴아파트   84.990  202108    9   \n",
       "...             ...   ...   ...  ..           ...      ...     ...  ...   \n",
       "56238  충청북도 충주시 호암동  1191  1191   0       호암힐데스하임   84.890  202108   24   \n",
       "56239  충청북도 충주시 호암동  1191  1191   0       호암힐데스하임   99.800  202108   27   \n",
       "56240  충청북도 충주시 호암동  1191  1191   0       호암힐데스하임   84.960  202108   27   \n",
       "56241  충청북도 충주시 호암동  1191  1191   0       호암힐데스하임  120.490  202108   31   \n",
       "56242  충청북도 충주시 호암동  1191  1191   0       호암힐데스하임   84.890  202108   31   \n",
       "\n",
       "      거래금액(만원)  층  건축년도           도로명  해제사유발생일 거래유형 중개사소재지  \n",
       "0       15,000  2  1997   경강로2539번길 8      NaN    -      -  \n",
       "1       25,000  1  1997   경강로2539번길 8      NaN    -      -  \n",
       "2       12,000  7  1997   경강로2539번길 8      NaN    -      -  \n",
       "3       22,700  5  2005  경강로2539번길 22      NaN    -      -  \n",
       "4       32,500  6  2005  경강로2539번길 22      NaN    -      -  \n",
       "...        ... ..   ...           ...      ...  ...    ...  \n",
       "56238   41,000  5  2019      호암토성2로 1      NaN    -      -  \n",
       "56239   52,000  6  2019      호암토성2로 1      NaN    -      -  \n",
       "56240   42,500  2  2019      호암토성2로 1      NaN    -      -  \n",
       "56241   58,000  7  2019      호암토성2로 1      NaN    -      -  \n",
       "56242   44,800  4  2019      호암토성2로 1      NaN    -      -  \n",
       "\n",
       "[56243 rows x 15 columns]"
      ]
     },
     "execution_count": 3,
     "metadata": {},
     "output_type": "execute_result"
    }
   ],
   "source": [
    "df=pd.read_csv('C:/스타터스 교육생공유용/파이썬 교재 및 실습자료/파이썬 데이터 시각화 데이터/data/아파트(매매)__실거래가_20211122131854.csv', encoding='cp949')\n",
    "df"
   ]
  },
  {
   "cell_type": "markdown",
   "id": "45e4260f",
   "metadata": {},
   "source": [
    "## 데이터 전처리"
   ]
  },
  {
   "cell_type": "markdown",
   "id": "40572b26",
   "metadata": {},
   "source": [
    "### 해제사유 발생일\n",
    "* 해제사유 발생일 : 계약이 해지된 건에 대한 해지일"
   ]
  },
  {
   "cell_type": "code",
   "execution_count": 4,
   "id": "e8bc4243",
   "metadata": {},
   "outputs": [],
   "source": [
    "# 해제사유 발생일이 존재하는 데이터 삭제\n",
    "df=df.drop(index=df[df['해제사유발생일'].notnull()].index)"
   ]
  },
  {
   "cell_type": "code",
   "execution_count": 5,
   "id": "bafbba9b",
   "metadata": {},
   "outputs": [
    {
     "data": {
      "text/html": [
       "<div>\n",
       "<style scoped>\n",
       "    .dataframe tbody tr th:only-of-type {\n",
       "        vertical-align: middle;\n",
       "    }\n",
       "\n",
       "    .dataframe tbody tr th {\n",
       "        vertical-align: top;\n",
       "    }\n",
       "\n",
       "    .dataframe thead th {\n",
       "        text-align: right;\n",
       "    }\n",
       "</style>\n",
       "<table border=\"1\" class=\"dataframe\">\n",
       "  <thead>\n",
       "    <tr style=\"text-align: right;\">\n",
       "      <th></th>\n",
       "      <th>시군구</th>\n",
       "      <th>번지</th>\n",
       "      <th>본번</th>\n",
       "      <th>부번</th>\n",
       "      <th>단지명</th>\n",
       "      <th>전용면적(㎡)</th>\n",
       "      <th>계약년월</th>\n",
       "      <th>계약일</th>\n",
       "      <th>거래금액(만원)</th>\n",
       "      <th>층</th>\n",
       "      <th>건축년도</th>\n",
       "      <th>도로명</th>\n",
       "      <th>해제사유발생일</th>\n",
       "      <th>거래유형</th>\n",
       "      <th>중개사소재지</th>\n",
       "    </tr>\n",
       "  </thead>\n",
       "  <tbody>\n",
       "  </tbody>\n",
       "</table>\n",
       "</div>"
      ],
      "text/plain": [
       "Empty DataFrame\n",
       "Columns: [시군구, 번지, 본번, 부번, 단지명, 전용면적(㎡), 계약년월, 계약일, 거래금액(만원), 층, 건축년도, 도로명, 해제사유발생일, 거래유형, 중개사소재지]\n",
       "Index: []"
      ]
     },
     "execution_count": 5,
     "metadata": {},
     "output_type": "execute_result"
    }
   ],
   "source": [
    "df[df['해제사유발생일'].notnull()]"
   ]
  },
  {
   "cell_type": "markdown",
   "id": "af415937",
   "metadata": {},
   "source": [
    "### 사용할 컬럼만 추출\n",
    "* 시군구, 전용면적(㎡), 거래금액(만원)"
   ]
  },
  {
   "cell_type": "code",
   "execution_count": 6,
   "id": "e45c7c5e",
   "metadata": {},
   "outputs": [
    {
     "data": {
      "text/html": [
       "<div>\n",
       "<style scoped>\n",
       "    .dataframe tbody tr th:only-of-type {\n",
       "        vertical-align: middle;\n",
       "    }\n",
       "\n",
       "    .dataframe tbody tr th {\n",
       "        vertical-align: top;\n",
       "    }\n",
       "\n",
       "    .dataframe thead th {\n",
       "        text-align: right;\n",
       "    }\n",
       "</style>\n",
       "<table border=\"1\" class=\"dataframe\">\n",
       "  <thead>\n",
       "    <tr style=\"text-align: right;\">\n",
       "      <th></th>\n",
       "      <th>시군구</th>\n",
       "      <th>전용면적(㎡)</th>\n",
       "      <th>거래금액(만원)</th>\n",
       "    </tr>\n",
       "  </thead>\n",
       "  <tbody>\n",
       "    <tr>\n",
       "      <th>0</th>\n",
       "      <td>강원도 강릉시 견소동</td>\n",
       "      <td>59.800</td>\n",
       "      <td>15,000</td>\n",
       "    </tr>\n",
       "    <tr>\n",
       "      <th>1</th>\n",
       "      <td>강원도 강릉시 견소동</td>\n",
       "      <td>84.945</td>\n",
       "      <td>25,000</td>\n",
       "    </tr>\n",
       "    <tr>\n",
       "      <th>2</th>\n",
       "      <td>강원도 강릉시 견소동</td>\n",
       "      <td>39.080</td>\n",
       "      <td>12,000</td>\n",
       "    </tr>\n",
       "    <tr>\n",
       "      <th>3</th>\n",
       "      <td>강원도 강릉시 견소동</td>\n",
       "      <td>59.990</td>\n",
       "      <td>22,700</td>\n",
       "    </tr>\n",
       "    <tr>\n",
       "      <th>4</th>\n",
       "      <td>강원도 강릉시 견소동</td>\n",
       "      <td>84.990</td>\n",
       "      <td>32,500</td>\n",
       "    </tr>\n",
       "  </tbody>\n",
       "</table>\n",
       "</div>"
      ],
      "text/plain": [
       "           시군구  전용면적(㎡) 거래금액(만원)\n",
       "0  강원도 강릉시 견소동   59.800   15,000\n",
       "1  강원도 강릉시 견소동   84.945   25,000\n",
       "2  강원도 강릉시 견소동   39.080   12,000\n",
       "3  강원도 강릉시 견소동   59.990   22,700\n",
       "4  강원도 강릉시 견소동   84.990   32,500"
      ]
     },
     "execution_count": 6,
     "metadata": {},
     "output_type": "execute_result"
    }
   ],
   "source": [
    "df = df[['시군구', '전용면적(㎡)', '거래금액(만원)']]\n",
    "df.head()"
   ]
  },
  {
   "cell_type": "markdown",
   "id": "e3292658",
   "metadata": {},
   "source": [
    "### 자료형 확인 및 변경"
   ]
  },
  {
   "cell_type": "code",
   "execution_count": 7,
   "id": "a0728a3e",
   "metadata": {
    "scrolled": true
   },
   "outputs": [
    {
     "data": {
      "text/plain": [
       "시군구          object\n",
       "전용면적(㎡)     float64\n",
       "거래금액(만원)     object\n",
       "dtype: object"
      ]
     },
     "execution_count": 7,
     "metadata": {},
     "output_type": "execute_result"
    }
   ],
   "source": [
    "df.dtypes"
   ]
  },
  {
   "cell_type": "code",
   "execution_count": 8,
   "id": "07a92c19",
   "metadata": {},
   "outputs": [],
   "source": [
    "# 전용면적 : int(소수점 무시)\n",
    "df['전용면적(㎡)']=df['전용면적(㎡)'].astype('int64')"
   ]
  },
  {
   "cell_type": "code",
   "execution_count": 9,
   "id": "5c8b0d90",
   "metadata": {},
   "outputs": [],
   "source": [
    "# 거래금액 : int\n",
    "df['거래금액(만원)']=df['거래금액(만원)'].str.replace(',','').astype('int64')"
   ]
  },
  {
   "cell_type": "code",
   "execution_count": 10,
   "id": "a09cdfa3",
   "metadata": {
    "scrolled": false
   },
   "outputs": [
    {
     "data": {
      "text/plain": [
       "시군구         object\n",
       "전용면적(㎡)      int64\n",
       "거래금액(만원)     int64\n",
       "dtype: object"
      ]
     },
     "execution_count": 10,
     "metadata": {},
     "output_type": "execute_result"
    }
   ],
   "source": [
    "df.dtypes"
   ]
  },
  {
   "cell_type": "markdown",
   "id": "88d6b30c",
   "metadata": {},
   "source": [
    "# 시도별 아파트 매매가 데이터 추출"
   ]
  },
  {
   "cell_type": "markdown",
   "id": "f140d82a",
   "metadata": {},
   "source": [
    "## 시도 컬럼 추가"
   ]
  },
  {
   "cell_type": "code",
   "execution_count": 11,
   "id": "adca547e",
   "metadata": {},
   "outputs": [],
   "source": [
    "df['시도'] = df['시군구'].str.split(' ').str[0]"
   ]
  },
  {
   "cell_type": "code",
   "execution_count": 12,
   "id": "ca54912b",
   "metadata": {},
   "outputs": [
    {
     "data": {
      "text/plain": [
       "array(['강원도', '경기도', '경상남도', '경상북도', '광주광역시', '대구광역시', '대전광역시', '부산광역시',\n",
       "       '서울특별시', '세종특별자치시', '울산광역시', '인천광역시', '전라남도', '전라북도', '제주특별자치도',\n",
       "       '충청남도', '충청북도'], dtype=object)"
      ]
     },
     "execution_count": 12,
     "metadata": {},
     "output_type": "execute_result"
    }
   ],
   "source": [
    "df['시도'].unique()"
   ]
  },
  {
   "cell_type": "code",
   "execution_count": 13,
   "id": "08935355",
   "metadata": {},
   "outputs": [
    {
     "data": {
      "text/plain": [
       "17"
      ]
     },
     "execution_count": 13,
     "metadata": {},
     "output_type": "execute_result"
    }
   ],
   "source": [
    "df['시도'].nunique()"
   ]
  },
  {
   "cell_type": "markdown",
   "id": "357eff2b",
   "metadata": {},
   "source": [
    "## 분석할 전용면적 선택"
   ]
  },
  {
   "cell_type": "code",
   "execution_count": 14,
   "id": "5c60dd54",
   "metadata": {},
   "outputs": [
    {
     "data": {
      "text/plain": [
       "84     16709\n",
       "59     13125\n",
       "49      2256\n",
       "39      1288\n",
       "74      1016\n",
       "       ...  \n",
       "243        1\n",
       "214        1\n",
       "230        1\n",
       "207        1\n",
       "222        1\n",
       "Name: 전용면적(㎡), Length: 213, dtype: int64"
      ]
     },
     "execution_count": 14,
     "metadata": {},
     "output_type": "execute_result"
    }
   ],
   "source": [
    "#거래가 가장 많았던 전용면적\n",
    "df['전용면적(㎡)'].value_counts()"
   ]
  },
  {
   "cell_type": "markdown",
   "id": "191f36cc",
   "metadata": {},
   "source": [
    "💡가장 거래가 많았던 84제곱미터로 결정!"
   ]
  },
  {
   "cell_type": "markdown",
   "id": "f7f60906",
   "metadata": {},
   "source": [
    "## 분석할 전용면적 서브셋"
   ]
  },
  {
   "cell_type": "code",
   "execution_count": 15,
   "id": "29e30265",
   "metadata": {},
   "outputs": [
    {
     "data": {
      "text/html": [
       "<div>\n",
       "<style scoped>\n",
       "    .dataframe tbody tr th:only-of-type {\n",
       "        vertical-align: middle;\n",
       "    }\n",
       "\n",
       "    .dataframe tbody tr th {\n",
       "        vertical-align: top;\n",
       "    }\n",
       "\n",
       "    .dataframe thead th {\n",
       "        text-align: right;\n",
       "    }\n",
       "</style>\n",
       "<table border=\"1\" class=\"dataframe\">\n",
       "  <thead>\n",
       "    <tr style=\"text-align: right;\">\n",
       "      <th></th>\n",
       "      <th>시군구</th>\n",
       "      <th>전용면적(㎡)</th>\n",
       "      <th>거래금액(만원)</th>\n",
       "      <th>시도</th>\n",
       "    </tr>\n",
       "  </thead>\n",
       "  <tbody>\n",
       "    <tr>\n",
       "      <th>1</th>\n",
       "      <td>강원도 강릉시 견소동</td>\n",
       "      <td>84</td>\n",
       "      <td>25000</td>\n",
       "      <td>강원도</td>\n",
       "    </tr>\n",
       "    <tr>\n",
       "      <th>4</th>\n",
       "      <td>강원도 강릉시 견소동</td>\n",
       "      <td>84</td>\n",
       "      <td>32500</td>\n",
       "      <td>강원도</td>\n",
       "    </tr>\n",
       "    <tr>\n",
       "      <th>7</th>\n",
       "      <td>강원도 강릉시 견소동</td>\n",
       "      <td>84</td>\n",
       "      <td>31900</td>\n",
       "      <td>강원도</td>\n",
       "    </tr>\n",
       "    <tr>\n",
       "      <th>9</th>\n",
       "      <td>강원도 강릉시 교동</td>\n",
       "      <td>84</td>\n",
       "      <td>41000</td>\n",
       "      <td>강원도</td>\n",
       "    </tr>\n",
       "    <tr>\n",
       "      <th>14</th>\n",
       "      <td>강원도 강릉시 교동</td>\n",
       "      <td>84</td>\n",
       "      <td>37900</td>\n",
       "      <td>강원도</td>\n",
       "    </tr>\n",
       "    <tr>\n",
       "      <th>...</th>\n",
       "      <td>...</td>\n",
       "      <td>...</td>\n",
       "      <td>...</td>\n",
       "      <td>...</td>\n",
       "    </tr>\n",
       "    <tr>\n",
       "      <th>56236</th>\n",
       "      <td>충청북도 충주시 호암동</td>\n",
       "      <td>84</td>\n",
       "      <td>47700</td>\n",
       "      <td>충청북도</td>\n",
       "    </tr>\n",
       "    <tr>\n",
       "      <th>56237</th>\n",
       "      <td>충청북도 충주시 호암동</td>\n",
       "      <td>84</td>\n",
       "      <td>41800</td>\n",
       "      <td>충청북도</td>\n",
       "    </tr>\n",
       "    <tr>\n",
       "      <th>56238</th>\n",
       "      <td>충청북도 충주시 호암동</td>\n",
       "      <td>84</td>\n",
       "      <td>41000</td>\n",
       "      <td>충청북도</td>\n",
       "    </tr>\n",
       "    <tr>\n",
       "      <th>56240</th>\n",
       "      <td>충청북도 충주시 호암동</td>\n",
       "      <td>84</td>\n",
       "      <td>42500</td>\n",
       "      <td>충청북도</td>\n",
       "    </tr>\n",
       "    <tr>\n",
       "      <th>56242</th>\n",
       "      <td>충청북도 충주시 호암동</td>\n",
       "      <td>84</td>\n",
       "      <td>44800</td>\n",
       "      <td>충청북도</td>\n",
       "    </tr>\n",
       "  </tbody>\n",
       "</table>\n",
       "<p>16709 rows × 4 columns</p>\n",
       "</div>"
      ],
      "text/plain": [
       "                시군구  전용면적(㎡)  거래금액(만원)    시도\n",
       "1       강원도 강릉시 견소동       84     25000   강원도\n",
       "4       강원도 강릉시 견소동       84     32500   강원도\n",
       "7       강원도 강릉시 견소동       84     31900   강원도\n",
       "9        강원도 강릉시 교동       84     41000   강원도\n",
       "14       강원도 강릉시 교동       84     37900   강원도\n",
       "...             ...      ...       ...   ...\n",
       "56236  충청북도 충주시 호암동       84     47700  충청북도\n",
       "56237  충청북도 충주시 호암동       84     41800  충청북도\n",
       "56238  충청북도 충주시 호암동       84     41000  충청북도\n",
       "56240  충청북도 충주시 호암동       84     42500  충청북도\n",
       "56242  충청북도 충주시 호암동       84     44800  충청북도\n",
       "\n",
       "[16709 rows x 4 columns]"
      ]
     },
     "execution_count": 15,
     "metadata": {},
     "output_type": "execute_result"
    }
   ],
   "source": [
    "df_84 = df[df['전용면적(㎡)']==84].copy()\n",
    "df_84"
   ]
  },
  {
   "cell_type": "markdown",
   "id": "17d7f62c",
   "metadata": {},
   "source": [
    "## 시도별 평균, 최대, 최소, 중간값 추출"
   ]
  },
  {
   "cell_type": "code",
   "execution_count": 16,
   "id": "de196f41",
   "metadata": {
    "scrolled": true
   },
   "outputs": [
    {
     "data": {
      "text/html": [
       "<div>\n",
       "<style scoped>\n",
       "    .dataframe tbody tr th:only-of-type {\n",
       "        vertical-align: middle;\n",
       "    }\n",
       "\n",
       "    .dataframe tbody tr th {\n",
       "        vertical-align: top;\n",
       "    }\n",
       "\n",
       "    .dataframe thead th {\n",
       "        text-align: right;\n",
       "    }\n",
       "</style>\n",
       "<table border=\"1\" class=\"dataframe\">\n",
       "  <thead>\n",
       "    <tr style=\"text-align: right;\">\n",
       "      <th></th>\n",
       "      <th>평균</th>\n",
       "      <th>최대</th>\n",
       "      <th>최소</th>\n",
       "      <th>중간</th>\n",
       "    </tr>\n",
       "    <tr>\n",
       "      <th>시도</th>\n",
       "      <th></th>\n",
       "      <th></th>\n",
       "      <th></th>\n",
       "      <th></th>\n",
       "    </tr>\n",
       "  </thead>\n",
       "  <tbody>\n",
       "    <tr>\n",
       "      <th>서울특별시</th>\n",
       "      <td>121650.9</td>\n",
       "      <td>384500</td>\n",
       "      <td>29500</td>\n",
       "      <td>109000.0</td>\n",
       "    </tr>\n",
       "    <tr>\n",
       "      <th>세종특별자치시</th>\n",
       "      <td>71412.6</td>\n",
       "      <td>119000</td>\n",
       "      <td>23800</td>\n",
       "      <td>74000.0</td>\n",
       "    </tr>\n",
       "    <tr>\n",
       "      <th>경기도</th>\n",
       "      <td>57935.9</td>\n",
       "      <td>220000</td>\n",
       "      <td>7400</td>\n",
       "      <td>52500.0</td>\n",
       "    </tr>\n",
       "    <tr>\n",
       "      <th>인천광역시</th>\n",
       "      <td>52835.0</td>\n",
       "      <td>130000</td>\n",
       "      <td>16700</td>\n",
       "      <td>47500.0</td>\n",
       "    </tr>\n",
       "    <tr>\n",
       "      <th>대전광역시</th>\n",
       "      <td>45900.6</td>\n",
       "      <td>127000</td>\n",
       "      <td>12500</td>\n",
       "      <td>44435.0</td>\n",
       "    </tr>\n",
       "    <tr>\n",
       "      <th>제주특별자치도</th>\n",
       "      <td>43831.7</td>\n",
       "      <td>95000</td>\n",
       "      <td>13500</td>\n",
       "      <td>42750.0</td>\n",
       "    </tr>\n",
       "    <tr>\n",
       "      <th>부산광역시</th>\n",
       "      <td>43642.9</td>\n",
       "      <td>183000</td>\n",
       "      <td>9400</td>\n",
       "      <td>38000.0</td>\n",
       "    </tr>\n",
       "    <tr>\n",
       "      <th>대구광역시</th>\n",
       "      <td>39517.4</td>\n",
       "      <td>148000</td>\n",
       "      <td>13700</td>\n",
       "      <td>35900.0</td>\n",
       "    </tr>\n",
       "    <tr>\n",
       "      <th>광주광역시</th>\n",
       "      <td>38281.8</td>\n",
       "      <td>104500</td>\n",
       "      <td>10700</td>\n",
       "      <td>34000.0</td>\n",
       "    </tr>\n",
       "    <tr>\n",
       "      <th>울산광역시</th>\n",
       "      <td>36790.1</td>\n",
       "      <td>120000</td>\n",
       "      <td>6900</td>\n",
       "      <td>33000.0</td>\n",
       "    </tr>\n",
       "    <tr>\n",
       "      <th>경상남도</th>\n",
       "      <td>30821.5</td>\n",
       "      <td>109000</td>\n",
       "      <td>5300</td>\n",
       "      <td>28400.0</td>\n",
       "    </tr>\n",
       "    <tr>\n",
       "      <th>충청북도</th>\n",
       "      <td>28915.2</td>\n",
       "      <td>72000</td>\n",
       "      <td>7600</td>\n",
       "      <td>27000.0</td>\n",
       "    </tr>\n",
       "    <tr>\n",
       "      <th>전라북도</th>\n",
       "      <td>26839.7</td>\n",
       "      <td>66500</td>\n",
       "      <td>4200</td>\n",
       "      <td>22800.0</td>\n",
       "    </tr>\n",
       "    <tr>\n",
       "      <th>충청남도</th>\n",
       "      <td>26264.9</td>\n",
       "      <td>94500</td>\n",
       "      <td>3500</td>\n",
       "      <td>23700.0</td>\n",
       "    </tr>\n",
       "    <tr>\n",
       "      <th>강원도</th>\n",
       "      <td>25735.6</td>\n",
       "      <td>72500</td>\n",
       "      <td>7000</td>\n",
       "      <td>23700.0</td>\n",
       "    </tr>\n",
       "    <tr>\n",
       "      <th>경상북도</th>\n",
       "      <td>25636.6</td>\n",
       "      <td>64500</td>\n",
       "      <td>4000</td>\n",
       "      <td>25219.0</td>\n",
       "    </tr>\n",
       "    <tr>\n",
       "      <th>전라남도</th>\n",
       "      <td>23643.1</td>\n",
       "      <td>74000</td>\n",
       "      <td>6000</td>\n",
       "      <td>23000.0</td>\n",
       "    </tr>\n",
       "  </tbody>\n",
       "</table>\n",
       "</div>"
      ],
      "text/plain": [
       "               평균      최대     최소        중간\n",
       "시도                                        \n",
       "서울특별시    121650.9  384500  29500  109000.0\n",
       "세종특별자치시   71412.6  119000  23800   74000.0\n",
       "경기도       57935.9  220000   7400   52500.0\n",
       "인천광역시     52835.0  130000  16700   47500.0\n",
       "대전광역시     45900.6  127000  12500   44435.0\n",
       "제주특별자치도   43831.7   95000  13500   42750.0\n",
       "부산광역시     43642.9  183000   9400   38000.0\n",
       "대구광역시     39517.4  148000  13700   35900.0\n",
       "광주광역시     38281.8  104500  10700   34000.0\n",
       "울산광역시     36790.1  120000   6900   33000.0\n",
       "경상남도      30821.5  109000   5300   28400.0\n",
       "충청북도      28915.2   72000   7600   27000.0\n",
       "전라북도      26839.7   66500   4200   22800.0\n",
       "충청남도      26264.9   94500   3500   23700.0\n",
       "강원도       25735.6   72500   7000   23700.0\n",
       "경상북도      25636.6   64500   4000   25219.0\n",
       "전라남도      23643.1   74000   6000   23000.0"
      ]
     },
     "execution_count": 16,
     "metadata": {},
     "output_type": "execute_result"
    }
   ],
   "source": [
    "df_84_mean = df_84.groupby('시도')['거래금액(만원)'].mean()\n",
    "df_84_max = df_84.groupby('시도')['거래금액(만원)'].max()\n",
    "df_84_min = df_84.groupby('시도')['거래금액(만원)'].min()\n",
    "df_84_median = df_84.groupby('시도')['거래금액(만원)'].median()\n",
    "\n",
    "df_84_price = pd.concat([df_84_mean,df_84_max,df_84_min,df_84_median],axis=1)\n",
    "df_84_price.columns=['평균', '최대', '최소', '중간'] #컬럼명 변경\n",
    "df_84_price = df_84_price.sort_values('평균', ascending=False) #평균값을 기준으로 내림차순 정렬\n",
    "df_84_price['평균'] = round(df_84_price['평균'],1) #평균컬럼 소수점 첫번째 자리까지만 표시\n",
    "df_84_price"
   ]
  },
  {
   "cell_type": "markdown",
   "id": "0cc5d74d",
   "metadata": {},
   "source": [
    "# 시도별 아파트 매매가 현황 시각화\n",
    "* 다중막대그래프"
   ]
  },
  {
   "cell_type": "code",
   "execution_count": 17,
   "id": "2f6e763a",
   "metadata": {},
   "outputs": [
    {
     "data": {
      "text/plain": [
       "array([ 1,  2,  3,  4,  5,  6,  7,  8,  9, 10, 11, 12, 13, 14, 15, 16, 17])"
      ]
     },
     "execution_count": 17,
     "metadata": {},
     "output_type": "execute_result"
    }
   ],
   "source": [
    "import numpy as np\n",
    "\n",
    "x_index = np.arange(1, len(df_84_price)+1)\n",
    "x_index #그래프의 x축으로 사용"
   ]
  },
  {
   "cell_type": "code",
   "execution_count": 18,
   "id": "67fc78cc",
   "metadata": {
    "scrolled": true
   },
   "outputs": [
    {
     "data": {
      "image/png": "[encoded data removed]",
      "text/plain": [
       "<Figure size 1500x500 with 1 Axes>"
      ]
     },
     "metadata": {},
     "output_type": "display_data"
    }
   ],
   "source": [
    "plt.rcParams['figure.figsize']=(15,5)\n",
    "\n",
    "plt.bar(x_index-0.3, df_84_price['최대'], width=0.2, label='최대')\n",
    "plt.bar(x_index-0.1, df_84_price['평균'], width=0.2, label='평균')\n",
    "plt.bar(x_index+0.1, df_84_price['중간'], width=0.2, label='중간')\n",
    "plt.bar(x_index+0.3, df_84_price['최소'], width=0.2, label='최소')\n",
    "\n",
    "plt.legend()\n",
    "plt.xticks(x_index, labels=df_84_price.index, rotation=45)\n",
    "plt.grid(axis='y', ls=':')\n",
    "plt.title('2021년 8월 시도별 아파트 매매가 현황(84㎡)', size=20)\n",
    "plt.ylabel('매매가(만원)')\n",
    "plt.show()"
   ]
  },
  {
   "cell_type": "markdown",
   "id": "545b2fd0",
   "metadata": {},
   "source": [
    "💡서울의 경우 아파트 매매가 간의 편차가 타지역에 비해 크다."
   ]
  },
  {
   "cell_type": "markdown",
   "id": "7138fc5d",
   "metadata": {},
   "source": [
    "# 서울시 아파트 매매가 분포"
   ]
  },
  {
   "cell_type": "markdown",
   "id": "b63a6fc3",
   "metadata": {},
   "source": [
    "## 서울시 서브셋"
   ]
  },
  {
   "cell_type": "code",
   "execution_count": 19,
   "id": "f4297687",
   "metadata": {
    "scrolled": false
   },
   "outputs": [
    {
     "data": {
      "text/html": [
       "<div>\n",
       "<style scoped>\n",
       "    .dataframe tbody tr th:only-of-type {\n",
       "        vertical-align: middle;\n",
       "    }\n",
       "\n",
       "    .dataframe tbody tr th {\n",
       "        vertical-align: top;\n",
       "    }\n",
       "\n",
       "    .dataframe thead th {\n",
       "        text-align: right;\n",
       "    }\n",
       "</style>\n",
       "<table border=\"1\" class=\"dataframe\">\n",
       "  <thead>\n",
       "    <tr style=\"text-align: right;\">\n",
       "      <th></th>\n",
       "      <th>시군구</th>\n",
       "      <th>전용면적(㎡)</th>\n",
       "      <th>거래금액(만원)</th>\n",
       "      <th>시도</th>\n",
       "    </tr>\n",
       "  </thead>\n",
       "  <tbody>\n",
       "    <tr>\n",
       "      <th>35560</th>\n",
       "      <td>서울특별시 강남구 개포동</td>\n",
       "      <td>84</td>\n",
       "      <td>285000</td>\n",
       "      <td>서울특별시</td>\n",
       "    </tr>\n",
       "    <tr>\n",
       "      <th>35561</th>\n",
       "      <td>서울특별시 강남구 개포동</td>\n",
       "      <td>84</td>\n",
       "      <td>275000</td>\n",
       "      <td>서울특별시</td>\n",
       "    </tr>\n",
       "    <tr>\n",
       "      <th>35567</th>\n",
       "      <td>서울특별시 강남구 개포동</td>\n",
       "      <td>84</td>\n",
       "      <td>289000</td>\n",
       "      <td>서울특별시</td>\n",
       "    </tr>\n",
       "    <tr>\n",
       "      <th>35573</th>\n",
       "      <td>서울특별시 강남구 개포동</td>\n",
       "      <td>84</td>\n",
       "      <td>298000</td>\n",
       "      <td>서울특별시</td>\n",
       "    </tr>\n",
       "    <tr>\n",
       "      <th>35583</th>\n",
       "      <td>서울특별시 강남구 개포동</td>\n",
       "      <td>84</td>\n",
       "      <td>77000</td>\n",
       "      <td>서울특별시</td>\n",
       "    </tr>\n",
       "  </tbody>\n",
       "</table>\n",
       "</div>"
      ],
      "text/plain": [
       "                 시군구  전용면적(㎡)  거래금액(만원)     시도\n",
       "35560  서울특별시 강남구 개포동       84    285000  서울특별시\n",
       "35561  서울특별시 강남구 개포동       84    275000  서울특별시\n",
       "35567  서울특별시 강남구 개포동       84    289000  서울특별시\n",
       "35573  서울특별시 강남구 개포동       84    298000  서울특별시\n",
       "35583  서울특별시 강남구 개포동       84     77000  서울특별시"
      ]
     },
     "execution_count": 19,
     "metadata": {},
     "output_type": "execute_result"
    }
   ],
   "source": [
    "df_84_seoul = df_84[df_84['시도']=='서울특별시'].copy()\n",
    "df_84_seoul.head()"
   ]
  },
  {
   "cell_type": "markdown",
   "id": "82ca00d6",
   "metadata": {},
   "source": [
    "## 구 컬럼 추가"
   ]
  },
  {
   "cell_type": "code",
   "execution_count": 20,
   "id": "23d3bf1d",
   "metadata": {
    "scrolled": false
   },
   "outputs": [
    {
     "data": {
      "text/html": [
       "<div>\n",
       "<style scoped>\n",
       "    .dataframe tbody tr th:only-of-type {\n",
       "        vertical-align: middle;\n",
       "    }\n",
       "\n",
       "    .dataframe tbody tr th {\n",
       "        vertical-align: top;\n",
       "    }\n",
       "\n",
       "    .dataframe thead th {\n",
       "        text-align: right;\n",
       "    }\n",
       "</style>\n",
       "<table border=\"1\" class=\"dataframe\">\n",
       "  <thead>\n",
       "    <tr style=\"text-align: right;\">\n",
       "      <th></th>\n",
       "      <th>시군구</th>\n",
       "      <th>전용면적(㎡)</th>\n",
       "      <th>거래금액(만원)</th>\n",
       "      <th>시도</th>\n",
       "      <th>구</th>\n",
       "    </tr>\n",
       "  </thead>\n",
       "  <tbody>\n",
       "    <tr>\n",
       "      <th>35560</th>\n",
       "      <td>서울특별시 강남구 개포동</td>\n",
       "      <td>84</td>\n",
       "      <td>285000</td>\n",
       "      <td>서울특별시</td>\n",
       "      <td>강남구</td>\n",
       "    </tr>\n",
       "    <tr>\n",
       "      <th>35561</th>\n",
       "      <td>서울특별시 강남구 개포동</td>\n",
       "      <td>84</td>\n",
       "      <td>275000</td>\n",
       "      <td>서울특별시</td>\n",
       "      <td>강남구</td>\n",
       "    </tr>\n",
       "    <tr>\n",
       "      <th>35567</th>\n",
       "      <td>서울특별시 강남구 개포동</td>\n",
       "      <td>84</td>\n",
       "      <td>289000</td>\n",
       "      <td>서울특별시</td>\n",
       "      <td>강남구</td>\n",
       "    </tr>\n",
       "    <tr>\n",
       "      <th>35573</th>\n",
       "      <td>서울특별시 강남구 개포동</td>\n",
       "      <td>84</td>\n",
       "      <td>298000</td>\n",
       "      <td>서울특별시</td>\n",
       "      <td>강남구</td>\n",
       "    </tr>\n",
       "    <tr>\n",
       "      <th>35583</th>\n",
       "      <td>서울특별시 강남구 개포동</td>\n",
       "      <td>84</td>\n",
       "      <td>77000</td>\n",
       "      <td>서울특별시</td>\n",
       "      <td>강남구</td>\n",
       "    </tr>\n",
       "  </tbody>\n",
       "</table>\n",
       "</div>"
      ],
      "text/plain": [
       "                 시군구  전용면적(㎡)  거래금액(만원)     시도    구\n",
       "35560  서울특별시 강남구 개포동       84    285000  서울특별시  강남구\n",
       "35561  서울특별시 강남구 개포동       84    275000  서울특별시  강남구\n",
       "35567  서울특별시 강남구 개포동       84    289000  서울특별시  강남구\n",
       "35573  서울특별시 강남구 개포동       84    298000  서울특별시  강남구\n",
       "35583  서울특별시 강남구 개포동       84     77000  서울특별시  강남구"
      ]
     },
     "execution_count": 20,
     "metadata": {},
     "output_type": "execute_result"
    }
   ],
   "source": [
    "# 구이름\n",
    "df_84_seoul['구'] = df_84_seoul['시군구'].str.split(' ').str[1]\n",
    "df_84_seoul.head()"
   ]
  },
  {
   "cell_type": "code",
   "execution_count": 22,
   "id": "a7b84846",
   "metadata": {},
   "outputs": [
    {
     "data": {
      "text/plain": [
       "25"
      ]
     },
     "execution_count": 22,
     "metadata": {},
     "output_type": "execute_result"
    }
   ],
   "source": [
    "df_84_seoul['구'].nunique()"
   ]
  },
  {
   "cell_type": "markdown",
   "id": "cc5656c4",
   "metadata": {},
   "source": [
    "## 박스플롯으로 시각화"
   ]
  },
  {
   "cell_type": "markdown",
   "id": "1762e65f",
   "metadata": {},
   "source": [
    "### 구별 데이터 분리"
   ]
  },
  {
   "cell_type": "code",
   "execution_count": 24,
   "id": "3863ca87",
   "metadata": {},
   "outputs": [
    {
     "data": {
      "text/plain": [
       "array(['강남구', '강동구', '강북구', '강서구', '관악구', '광진구', '구로구', '금천구', '노원구',\n",
       "       '도봉구', '동대문구', '동작구', '마포구', '서대문구', '서초구', '성동구', '성북구', '송파구',\n",
       "       '양천구', '영등포구', '용산구', '은평구', '종로구', '중구', '중랑구'], dtype=object)"
      ]
     },
     "execution_count": 24,
     "metadata": {},
     "output_type": "execute_result"
    }
   ],
   "source": [
    "# 구이름\n",
    "seoul_gu = df_84_seoul['구'].unique()\n",
    "seoul_gu"
   ]
  },
  {
   "cell_type": "code",
   "execution_count": 30,
   "id": "eeb46553",
   "metadata": {},
   "outputs": [],
   "source": [
    "df_seoul_gu = []\n",
    "\n",
    "for i in range(len(seoul_gu)):\n",
    "    df_seoul_gu.append(df_84_seoul.groupby('구')['거래금액(만원)'].get_group(seoul_gu[i]))"
   ]
  },
  {
   "cell_type": "markdown",
   "id": "4ea0530c",
   "metadata": {},
   "source": [
    "### 박스플롯으로 시각화"
   ]
  },
  {
   "cell_type": "code",
   "execution_count": 37,
   "id": "cc28c689",
   "metadata": {
    "scrolled": true
   },
   "outputs": [
    {
     "data": {
      "image/png": "[encoded data removed]",
      "text/plain": [
       "<Figure size 1500x500 with 1 Axes>"
      ]
     },
     "metadata": {},
     "output_type": "display_data"
    }
   ],
   "source": [
    "plt.boxplot(df_seoul_gu, labels=seoul_gu, showmeans=True)\n",
    "plt.xticks(rotation=45)\n",
    "plt.ylabel('매매가(만원)')\n",
    "plt.title('2021년 8월 서울시 아파트 매매가 분포(84㎡)', size=20)\n",
    "plt.show()"
   ]
  },
  {
   "cell_type": "markdown",
   "id": "c5cdabdb",
   "metadata": {},
   "source": [
    "💡서초구의 아파트 매매가 분포가 가장 크고 가격대도 높다. 성동구의 경우 매우 높은 가격에 이루어진 거래가 있다는 것을 확인할 수 있다."
   ]
  },
  {
   "cell_type": "markdown",
   "id": "77e812e8",
   "metadata": {},
   "source": [
    "# 서울시 아파트 구별 평균 매매가, 거래건수"
   ]
  },
  {
   "cell_type": "markdown",
   "id": "f1935601",
   "metadata": {},
   "source": [
    "## 서울시 아파트 구별 평균 매매가"
   ]
  },
  {
   "cell_type": "code",
   "execution_count": 42,
   "id": "3ff1c7bd",
   "metadata": {
    "scrolled": true
   },
   "outputs": [
    {
     "data": {
      "text/plain": [
       "구\n",
       "강남구     166324.5\n",
       "강동구     130831.1\n",
       "강북구      78541.3\n",
       "강서구     107935.7\n",
       "관악구      94022.2\n",
       "광진구     141525.0\n",
       "구로구      89275.4\n",
       "금천구      75415.4\n",
       "노원구      89126.3\n",
       "도봉구      77755.1\n",
       "동대문구    102024.5\n",
       "동작구     136100.0\n",
       "마포구     145163.1\n",
       "서대문구    124358.7\n",
       "서초구     246792.5\n",
       "성동구     152622.2\n",
       "성북구      99480.3\n",
       "송파구     171039.4\n",
       "양천구     107729.2\n",
       "영등포구    115432.1\n",
       "용산구     161473.7\n",
       "은평구      94170.7\n",
       "종로구     143280.0\n",
       "중구      129078.6\n",
       "중랑구      82726.4\n",
       "Name: 거래금액(만원), dtype: float64"
      ]
     },
     "execution_count": 42,
     "metadata": {},
     "output_type": "execute_result"
    }
   ],
   "source": [
    "df_84_seoul_mean = df_84_seoul.groupby('구')['거래금액(만원)'].mean()\n",
    "df_84_seoul_mean = round(df_84_seoul_mean, 1)\n",
    "df_84_seoul_mean"
   ]
  },
  {
   "cell_type": "markdown",
   "id": "89903079",
   "metadata": {},
   "source": [
    "## 서울시 아파트 구별 거래건수"
   ]
  },
  {
   "cell_type": "code",
   "execution_count": 46,
   "id": "4e260e77",
   "metadata": {
    "scrolled": false
   },
   "outputs": [
    {
     "data": {
      "text/plain": [
       "구\n",
       "성북구     104\n",
       "강서구      98\n",
       "강남구      84\n",
       "성동구      72\n",
       "송파구      71\n",
       "동작구      63\n",
       "강동구      61\n",
       "마포구      61\n",
       "은평구      58\n",
       "노원구      57\n",
       "구로구      57\n",
       "영등포구     53\n",
       "중랑구      53\n",
       "서대문구     52\n",
       "도봉구      49\n",
       "동대문구     49\n",
       "양천구      48\n",
       "강북구      46\n",
       "서초구      40\n",
       "관악구      36\n",
       "광진구      32\n",
       "금천구      26\n",
       "용산구      19\n",
       "중구       14\n",
       "종로구      12\n",
       "Name: 거래금액(만원), dtype: int64"
      ]
     },
     "execution_count": 46,
     "metadata": {},
     "output_type": "execute_result"
    }
   ],
   "source": [
    "df_84_seoul_count = df_84_seoul.groupby('구')['거래금액(만원)'].count()\n",
    "df_84_seoul_count.sort_values(ascending=False)"
   ]
  },
  {
   "cell_type": "markdown",
   "id": "b875eb8f",
   "metadata": {
    "scrolled": false
   },
   "source": [
    "💡이중y축 그래프를 그리기 위해선 x축을 통일시켜야한다."
   ]
  },
  {
   "cell_type": "code",
   "execution_count": 54,
   "id": "e2d7541c",
   "metadata": {
    "scrolled": true
   },
   "outputs": [
    {
     "data": {
      "text/html": [
       "<div>\n",
       "<style scoped>\n",
       "    .dataframe tbody tr th:only-of-type {\n",
       "        vertical-align: middle;\n",
       "    }\n",
       "\n",
       "    .dataframe tbody tr th {\n",
       "        vertical-align: top;\n",
       "    }\n",
       "\n",
       "    .dataframe thead th {\n",
       "        text-align: right;\n",
       "    }\n",
       "</style>\n",
       "<table border=\"1\" class=\"dataframe\">\n",
       "  <thead>\n",
       "    <tr style=\"text-align: right;\">\n",
       "      <th></th>\n",
       "      <th>평균매매가(만원)</th>\n",
       "      <th>거래건수</th>\n",
       "    </tr>\n",
       "    <tr>\n",
       "      <th>구</th>\n",
       "      <th></th>\n",
       "      <th></th>\n",
       "    </tr>\n",
       "  </thead>\n",
       "  <tbody>\n",
       "    <tr>\n",
       "      <th>서초구</th>\n",
       "      <td>246792.5</td>\n",
       "      <td>40</td>\n",
       "    </tr>\n",
       "    <tr>\n",
       "      <th>송파구</th>\n",
       "      <td>171039.4</td>\n",
       "      <td>71</td>\n",
       "    </tr>\n",
       "    <tr>\n",
       "      <th>강남구</th>\n",
       "      <td>166324.5</td>\n",
       "      <td>84</td>\n",
       "    </tr>\n",
       "    <tr>\n",
       "      <th>용산구</th>\n",
       "      <td>161473.7</td>\n",
       "      <td>19</td>\n",
       "    </tr>\n",
       "    <tr>\n",
       "      <th>성동구</th>\n",
       "      <td>152622.2</td>\n",
       "      <td>72</td>\n",
       "    </tr>\n",
       "    <tr>\n",
       "      <th>마포구</th>\n",
       "      <td>145163.1</td>\n",
       "      <td>61</td>\n",
       "    </tr>\n",
       "    <tr>\n",
       "      <th>종로구</th>\n",
       "      <td>143280.0</td>\n",
       "      <td>12</td>\n",
       "    </tr>\n",
       "    <tr>\n",
       "      <th>광진구</th>\n",
       "      <td>141525.0</td>\n",
       "      <td>32</td>\n",
       "    </tr>\n",
       "    <tr>\n",
       "      <th>동작구</th>\n",
       "      <td>136100.0</td>\n",
       "      <td>63</td>\n",
       "    </tr>\n",
       "    <tr>\n",
       "      <th>강동구</th>\n",
       "      <td>130831.1</td>\n",
       "      <td>61</td>\n",
       "    </tr>\n",
       "    <tr>\n",
       "      <th>중구</th>\n",
       "      <td>129078.6</td>\n",
       "      <td>14</td>\n",
       "    </tr>\n",
       "    <tr>\n",
       "      <th>서대문구</th>\n",
       "      <td>124358.7</td>\n",
       "      <td>52</td>\n",
       "    </tr>\n",
       "    <tr>\n",
       "      <th>영등포구</th>\n",
       "      <td>115432.1</td>\n",
       "      <td>53</td>\n",
       "    </tr>\n",
       "    <tr>\n",
       "      <th>강서구</th>\n",
       "      <td>107935.7</td>\n",
       "      <td>98</td>\n",
       "    </tr>\n",
       "    <tr>\n",
       "      <th>양천구</th>\n",
       "      <td>107729.2</td>\n",
       "      <td>48</td>\n",
       "    </tr>\n",
       "    <tr>\n",
       "      <th>동대문구</th>\n",
       "      <td>102024.5</td>\n",
       "      <td>49</td>\n",
       "    </tr>\n",
       "    <tr>\n",
       "      <th>성북구</th>\n",
       "      <td>99480.3</td>\n",
       "      <td>104</td>\n",
       "    </tr>\n",
       "    <tr>\n",
       "      <th>은평구</th>\n",
       "      <td>94170.7</td>\n",
       "      <td>58</td>\n",
       "    </tr>\n",
       "    <tr>\n",
       "      <th>관악구</th>\n",
       "      <td>94022.2</td>\n",
       "      <td>36</td>\n",
       "    </tr>\n",
       "    <tr>\n",
       "      <th>구로구</th>\n",
       "      <td>89275.4</td>\n",
       "      <td>57</td>\n",
       "    </tr>\n",
       "    <tr>\n",
       "      <th>노원구</th>\n",
       "      <td>89126.3</td>\n",
       "      <td>57</td>\n",
       "    </tr>\n",
       "    <tr>\n",
       "      <th>중랑구</th>\n",
       "      <td>82726.4</td>\n",
       "      <td>53</td>\n",
       "    </tr>\n",
       "    <tr>\n",
       "      <th>강북구</th>\n",
       "      <td>78541.3</td>\n",
       "      <td>46</td>\n",
       "    </tr>\n",
       "    <tr>\n",
       "      <th>도봉구</th>\n",
       "      <td>77755.1</td>\n",
       "      <td>49</td>\n",
       "    </tr>\n",
       "    <tr>\n",
       "      <th>금천구</th>\n",
       "      <td>75415.4</td>\n",
       "      <td>26</td>\n",
       "    </tr>\n",
       "  </tbody>\n",
       "</table>\n",
       "</div>"
      ],
      "text/plain": [
       "      평균매매가(만원)  거래건수\n",
       "구                    \n",
       "서초구    246792.5    40\n",
       "송파구    171039.4    71\n",
       "강남구    166324.5    84\n",
       "용산구    161473.7    19\n",
       "성동구    152622.2    72\n",
       "마포구    145163.1    61\n",
       "종로구    143280.0    12\n",
       "광진구    141525.0    32\n",
       "동작구    136100.0    63\n",
       "강동구    130831.1    61\n",
       "중구     129078.6    14\n",
       "서대문구   124358.7    52\n",
       "영등포구   115432.1    53\n",
       "강서구    107935.7    98\n",
       "양천구    107729.2    48\n",
       "동대문구   102024.5    49\n",
       "성북구     99480.3   104\n",
       "은평구     94170.7    58\n",
       "관악구     94022.2    36\n",
       "구로구     89275.4    57\n",
       "노원구     89126.3    57\n",
       "중랑구     82726.4    53\n",
       "강북구     78541.3    46\n",
       "도봉구     77755.1    49\n",
       "금천구     75415.4    26"
      ]
     },
     "execution_count": 54,
     "metadata": {},
     "output_type": "execute_result"
    }
   ],
   "source": [
    "df_84_seoul_mean_count = pd.concat([df_84_seoul_mean, df_84_seoul_count], axis=1)\n",
    "df_84_seoul_mean_count.columns=['평균매매가(만원)', '거래건수']\n",
    "df_84_seoul_mean_count= df_84_seoul_mean_count.sort_values('평균매매가(만원)', ascending=False)\n",
    "df_84_seoul_mean_count"
   ]
  },
  {
   "cell_type": "code",
   "execution_count": 69,
   "id": "ea956db2",
   "metadata": {
    "scrolled": true
   },
   "outputs": [
    {
     "data": {
      "image/png": "[encoded data removed]",
      "text/plain": [
       "<Figure size 1500x500 with 2 Axes>"
      ]
     },
     "metadata": {},
     "output_type": "display_data"
    }
   ],
   "source": [
    "fig, ax1 = plt.subplots()\n",
    "\n",
    "ax1.bar(df_84_seoul_mean_count.index, df_84_seoul_mean_count['평균매매가(만원)'], label='평균매매가')\n",
    "plt.xticks(rotation=45)\n",
    "\n",
    "ax2 = ax1.twinx() # 이중축\n",
    "ax2.plot(df_84_seoul_mean_count['거래건수'], 'k^--', mfc='r', mec='r', label='거래건수')\n",
    "\n",
    "ax1.legend(loc='upper left', edgecolor='k')\n",
    "ax2.legend(loc='upper right', edgecolor='k')\n",
    "\n",
    "ax1.set_ylabel('평균매매가(만원)')\n",
    "ax2.set_ylabel('거래건수')\n",
    "plt.title('2021년 8월 서울시 아파트 평균매매가, 거래건수(84㎡)', size=20)\n",
    "\n",
    "plt.show()"
   ]
  },
  {
   "cell_type": "markdown",
   "id": "77182f73",
   "metadata": {},
   "source": [
    "💡2021년 8월 서울시 아파트 평균매매가는 서초구가 가장 높았고, 거래건수는 성북구와 강서구가 많았다."
   ]
  }
 ],
 "metadata": {
  "kernelspec": {
   "display_name": "Python 3 (ipykernel)",
   "language": "python",
   "name": "python3"
  },
  "language_info": {
   "codemirror_mode": {
    "name": "ipython",
    "version": 3
   },
   "file_extension": ".py",
   "mimetype": "text/x-python",
   "name": "python",
   "nbconvert_exporter": "python",
   "pygments_lexer": "ipython3",
   "version": "3.9.13"
  },
  "toc": {
   "base_numbering": 1,
   "nav_menu": {},
   "number_sections": true,
   "sideBar": true,
   "skip_h1_title": false,
   "title_cell": "Table of Contents",
   "title_sidebar": "Contents",
   "toc_cell": false,
   "toc_position": {
    "height": "calc(100% - 180px)",
    "left": "10px",
    "top": "150px",
    "width": "190px"
   },
   "toc_section_display": true,
   "toc_window_display": false
  }
 },
 "nbformat": 4,
 "nbformat_minor": 5
}
