{
 "cells": [
  {
   "cell_type": "markdown",
   "id": "0824fa7a",
   "metadata": {},
   "source": [
    "* 라이브러리 임포트"
   ]
  },
  {
   "cell_type": "code",
   "execution_count": 1,
   "id": "eae41e45",
   "metadata": {},
   "outputs": [],
   "source": [
    "import pandas as pd\n",
    "import matplotlib.pyplot as plt\n",
    "import seaborn as sns"
   ]
  },
  {
   "cell_type": "code",
   "execution_count": 2,
   "id": "878ffb15",
   "metadata": {},
   "outputs": [],
   "source": [
    "plt.rcParams['font.family']='Malgun Gothic'\n",
    "plt.rcParams['axes.unicode_minus']=False"
   ]
  },
  {
   "cell_type": "markdown",
   "id": "b9c2b606",
   "metadata": {},
   "source": [
    "# 데이터 수집\n",
    "* 상가상권정보<br>\n",
    "https://www.data.go.kr/data/15083033/fileData.do"
   ]
  },
  {
   "cell_type": "markdown",
   "id": "39d15536",
   "metadata": {},
   "source": [
    "## 데이터프레임 생성\n",
    "* 17개 파일의 데이터를 각각 데이터프레임으로 만든 후 합친다."
   ]
  },
  {
   "cell_type": "markdown",
   "id": "d14d3ac4",
   "metadata": {},
   "source": [
    "### 17개의 파일을 각각 데이터프레임으로 만들기\n",
    "* column에 NaN값이나 여러 type의 데이터가 섞여 있으면 DtypeWarning 발생<br>\n",
    "dtype option으로 타입을 명시해주거나 low_memory = False로 지정해 주면 경고 메시지가 출력되지 않는다."
   ]
  },
  {
   "cell_type": "code",
   "execution_count": 3,
   "id": "eb1ab453",
   "metadata": {
    "scrolled": false
   },
   "outputs": [],
   "source": [
    "df1 = pd.read_csv('data/소상공인시장진흥공단_상가(상권)정보_강원_202109.csv')"
   ]
  },
  {
   "cell_type": "code",
   "execution_count": 4,
   "id": "9d924b52",
   "metadata": {
    "scrolled": true
   },
   "outputs": [],
   "source": [
    "df2 = pd.read_csv('data/소상공인시장진흥공단_상가(상권)정보_경기_202109.csv')"
   ]
  },
  {
   "cell_type": "code",
   "execution_count": 5,
   "id": "984f01cc",
   "metadata": {
    "scrolled": false
   },
   "outputs": [],
   "source": [
    "df3 = pd.read_csv('data/소상공인시장진흥공단_상가(상권)정보_경남_202109.csv')"
   ]
  },
  {
   "cell_type": "code",
   "execution_count": 6,
   "id": "096efdd9",
   "metadata": {},
   "outputs": [
    {
     "name": "stderr",
     "output_type": "stream",
     "text": [
      "C:\\Users\\neulu\\AppData\\Local\\Temp\\ipykernel_21028\\4086427500.py:1: DtypeWarning: Columns (35) have mixed types. Specify dtype option on import or set low_memory=False.\n",
      "  df4 = pd.read_csv('data/소상공인시장진흥공단_상가(상권)정보_경북_202109.csv')\n"
     ]
    }
   ],
   "source": [
    "df4 = pd.read_csv('data/소상공인시장진흥공단_상가(상권)정보_경북_202109.csv')"
   ]
  },
  {
   "cell_type": "code",
   "execution_count": 7,
   "id": "379de689",
   "metadata": {},
   "outputs": [
    {
     "name": "stderr",
     "output_type": "stream",
     "text": [
      "C:\\Users\\neulu\\AppData\\Local\\Temp\\ipykernel_21028\\4146615270.py:1: DtypeWarning: Columns (35) have mixed types. Specify dtype option on import or set low_memory=False.\n",
      "  df5 = pd.read_csv('data/소상공인시장진흥공단_상가(상권)정보_광주_202109.csv')\n"
     ]
    }
   ],
   "source": [
    "df5 = pd.read_csv('data/소상공인시장진흥공단_상가(상권)정보_광주_202109.csv')"
   ]
  },
  {
   "cell_type": "code",
   "execution_count": 8,
   "id": "c4b50467",
   "metadata": {
    "scrolled": true
   },
   "outputs": [
    {
     "name": "stderr",
     "output_type": "stream",
     "text": [
      "C:\\Users\\neulu\\AppData\\Local\\Temp\\ipykernel_21028\\4272118517.py:1: DtypeWarning: Columns (35) have mixed types. Specify dtype option on import or set low_memory=False.\n",
      "  df6 = pd.read_csv('data/소상공인시장진흥공단_상가(상권)정보_대구_202109.csv')\n"
     ]
    }
   ],
   "source": [
    "df6 = pd.read_csv('data/소상공인시장진흥공단_상가(상권)정보_대구_202109.csv')"
   ]
  },
  {
   "cell_type": "code",
   "execution_count": 9,
   "id": "e5e1b3f0",
   "metadata": {},
   "outputs": [],
   "source": [
    "df7 = pd.read_csv('data/소상공인시장진흥공단_상가(상권)정보_대전_202109.csv')"
   ]
  },
  {
   "cell_type": "code",
   "execution_count": 10,
   "id": "b2397624",
   "metadata": {},
   "outputs": [],
   "source": [
    "df8 = pd.read_csv('data/소상공인시장진흥공단_상가(상권)정보_부산_202109.csv')"
   ]
  },
  {
   "cell_type": "code",
   "execution_count": 11,
   "id": "47095681",
   "metadata": {},
   "outputs": [],
   "source": [
    "df9 = pd.read_csv('data/소상공인시장진흥공단_상가(상권)정보_서울_202109.csv')"
   ]
  },
  {
   "cell_type": "code",
   "execution_count": 12,
   "id": "543f612d",
   "metadata": {},
   "outputs": [],
   "source": [
    "df10 = pd.read_csv('data/소상공인시장진흥공단_상가(상권)정보_세종_202109.csv')"
   ]
  },
  {
   "cell_type": "code",
   "execution_count": 13,
   "id": "cc3f556c",
   "metadata": {},
   "outputs": [
    {
     "name": "stderr",
     "output_type": "stream",
     "text": [
      "C:\\Users\\neulu\\AppData\\Local\\Temp\\ipykernel_21028\\4118380753.py:1: DtypeWarning: Columns (35) have mixed types. Specify dtype option on import or set low_memory=False.\n",
      "  df11 = pd.read_csv('data/소상공인시장진흥공단_상가(상권)정보_울산_202109.csv')\n"
     ]
    }
   ],
   "source": [
    "df11 = pd.read_csv('data/소상공인시장진흥공단_상가(상권)정보_울산_202109.csv')"
   ]
  },
  {
   "cell_type": "code",
   "execution_count": 14,
   "id": "c6a86c97",
   "metadata": {},
   "outputs": [],
   "source": [
    "df12 = pd.read_csv('data/소상공인시장진흥공단_상가(상권)정보_인천_202109.csv')"
   ]
  },
  {
   "cell_type": "code",
   "execution_count": 15,
   "id": "e7f5e589",
   "metadata": {},
   "outputs": [
    {
     "name": "stderr",
     "output_type": "stream",
     "text": [
      "C:\\Users\\neulu\\AppData\\Local\\Temp\\ipykernel_21028\\3492479529.py:1: DtypeWarning: Columns (35) have mixed types. Specify dtype option on import or set low_memory=False.\n",
      "  df13 = pd.read_csv('data/소상공인시장진흥공단_상가(상권)정보_전남_202109.csv')\n"
     ]
    }
   ],
   "source": [
    "df13 = pd.read_csv('data/소상공인시장진흥공단_상가(상권)정보_전남_202109.csv')   "
   ]
  },
  {
   "cell_type": "code",
   "execution_count": 16,
   "id": "d6dac421",
   "metadata": {},
   "outputs": [
    {
     "name": "stderr",
     "output_type": "stream",
     "text": [
      "C:\\Users\\neulu\\AppData\\Local\\Temp\\ipykernel_21028\\1283157121.py:1: DtypeWarning: Columns (35) have mixed types. Specify dtype option on import or set low_memory=False.\n",
      "  df14 = pd.read_csv('data/소상공인시장진흥공단_상가(상권)정보_전북_202109.csv')\n"
     ]
    }
   ],
   "source": [
    "df14 = pd.read_csv('data/소상공인시장진흥공단_상가(상권)정보_전북_202109.csv')"
   ]
  },
  {
   "cell_type": "code",
   "execution_count": 17,
   "id": "b995dd85",
   "metadata": {},
   "outputs": [
    {
     "name": "stderr",
     "output_type": "stream",
     "text": [
      "C:\\Users\\neulu\\AppData\\Local\\Temp\\ipykernel_21028\\2855960813.py:1: DtypeWarning: Columns (35) have mixed types. Specify dtype option on import or set low_memory=False.\n",
      "  df15 = pd.read_csv('data/소상공인시장진흥공단_상가(상권)정보_제주_202109.csv')\n"
     ]
    }
   ],
   "source": [
    "df15 = pd.read_csv('data/소상공인시장진흥공단_상가(상권)정보_제주_202109.csv')"
   ]
  },
  {
   "cell_type": "code",
   "execution_count": 18,
   "id": "e89d5885",
   "metadata": {},
   "outputs": [
    {
     "name": "stderr",
     "output_type": "stream",
     "text": [
      "C:\\Users\\neulu\\AppData\\Local\\Temp\\ipykernel_21028\\3915843117.py:1: DtypeWarning: Columns (35) have mixed types. Specify dtype option on import or set low_memory=False.\n",
      "  df16 = pd.read_csv('data/소상공인시장진흥공단_상가(상권)정보_충남_202109.csv')\n"
     ]
    }
   ],
   "source": [
    "df16 = pd.read_csv('data/소상공인시장진흥공단_상가(상권)정보_충남_202109.csv')"
   ]
  },
  {
   "cell_type": "code",
   "execution_count": 19,
   "id": "85dafb89",
   "metadata": {},
   "outputs": [
    {
     "name": "stderr",
     "output_type": "stream",
     "text": [
      "C:\\Users\\neulu\\AppData\\Local\\Temp\\ipykernel_21028\\2074920294.py:1: DtypeWarning: Columns (35) have mixed types. Specify dtype option on import or set low_memory=False.\n",
      "  df17 = pd.read_csv('data/소상공인시장진흥공단_상가(상권)정보_충북_202109.csv')\n"
     ]
    }
   ],
   "source": [
    "df17 = pd.read_csv('data/소상공인시장진흥공단_상가(상권)정보_충북_202109.csv')  "
   ]
  },
  {
   "cell_type": "markdown",
   "id": "5611221d",
   "metadata": {},
   "source": [
    "### 데이터프레임 연결하기\n",
    "* pd.concat(데이터프레임리스트) : 행 방향으로 연결\n",
    "* pd.concat(데이터프레임리스트, axis=1) : 열 방향으로 연결\n",
    "* 인덱스 재지정 : ignore_index = True "
   ]
  },
  {
   "cell_type": "code",
   "execution_count": 20,
   "id": "2bc32eeb",
   "metadata": {
    "scrolled": false
   },
   "outputs": [],
   "source": [
    "# 데이터프레임 합치기 : [df1,df2,df3,df4,df5,df6,df7,df8,df9,df10,df11,df12,df13,df14,df15,df16,df17]\n",
    "df = pd.concat([df1,df2,df3,df4,df5,df6,df7,df8,df9,df10,df11,df12,df13,df14,df15,df16,df17], ignore_index=True)"
   ]
  },
  {
   "cell_type": "markdown",
   "id": "9da43dcd",
   "metadata": {},
   "source": [
    "💡동일한 인덱스가 중복되어서 처리됨"
   ]
  },
  {
   "cell_type": "code",
   "execution_count": 21,
   "id": "ffa04e06",
   "metadata": {
    "scrolled": true
   },
   "outputs": [
    {
     "data": {
      "text/plain": [
       "39"
      ]
     },
     "execution_count": 21,
     "metadata": {},
     "output_type": "execute_result"
    }
   ],
   "source": [
    "len(df.columns)"
   ]
  },
  {
   "cell_type": "code",
   "execution_count": 22,
   "id": "15ccafa9",
   "metadata": {},
   "outputs": [],
   "source": [
    "# 컬럼갯수 최대 지정\n",
    "pd.options.display.max_columns=39"
   ]
  },
  {
   "cell_type": "code",
   "execution_count": 23,
   "id": "8ee2b579",
   "metadata": {
    "scrolled": false
   },
   "outputs": [
    {
     "data": {
      "text/html": [
       "<div>\n",
       "<style scoped>\n",
       "    .dataframe tbody tr th:only-of-type {\n",
       "        vertical-align: middle;\n",
       "    }\n",
       "\n",
       "    .dataframe tbody tr th {\n",
       "        vertical-align: top;\n",
       "    }\n",
       "\n",
       "    .dataframe thead th {\n",
       "        text-align: right;\n",
       "    }\n",
       "</style>\n",
       "<table border=\"1\" class=\"dataframe\">\n",
       "  <thead>\n",
       "    <tr style=\"text-align: right;\">\n",
       "      <th></th>\n",
       "      <th>상가업소번호</th>\n",
       "      <th>상호명</th>\n",
       "      <th>지점명</th>\n",
       "      <th>상권업종대분류코드</th>\n",
       "      <th>상권업종대분류명</th>\n",
       "      <th>상권업종중분류코드</th>\n",
       "      <th>상권업종중분류명</th>\n",
       "      <th>상권업종소분류코드</th>\n",
       "      <th>상권업종소분류명</th>\n",
       "      <th>표준산업분류코드</th>\n",
       "      <th>표준산업분류명</th>\n",
       "      <th>시도코드</th>\n",
       "      <th>시도명</th>\n",
       "      <th>시군구코드</th>\n",
       "      <th>시군구명</th>\n",
       "      <th>행정동코드</th>\n",
       "      <th>행정동명</th>\n",
       "      <th>법정동코드</th>\n",
       "      <th>법정동명</th>\n",
       "      <th>지번코드</th>\n",
       "      <th>대지구분코드</th>\n",
       "      <th>대지구분명</th>\n",
       "      <th>지번본번지</th>\n",
       "      <th>지번부번지</th>\n",
       "      <th>지번주소</th>\n",
       "      <th>도로명코드</th>\n",
       "      <th>도로명</th>\n",
       "      <th>건물본번지</th>\n",
       "      <th>건물부번지</th>\n",
       "      <th>건물관리번호</th>\n",
       "      <th>건물명</th>\n",
       "      <th>도로명주소</th>\n",
       "      <th>구우편번호</th>\n",
       "      <th>신우편번호</th>\n",
       "      <th>동정보</th>\n",
       "      <th>층정보</th>\n",
       "      <th>호정보</th>\n",
       "      <th>경도</th>\n",
       "      <th>위도</th>\n",
       "    </tr>\n",
       "  </thead>\n",
       "  <tbody>\n",
       "    <tr>\n",
       "      <th>0</th>\n",
       "      <td>25033300</td>\n",
       "      <td>동그라미중고타이어</td>\n",
       "      <td>NaN</td>\n",
       "      <td>D</td>\n",
       "      <td>소매</td>\n",
       "      <td>D23</td>\n",
       "      <td>자동차/자동차용품</td>\n",
       "      <td>D23A04</td>\n",
       "      <td>타이어판매</td>\n",
       "      <td>G45211</td>\n",
       "      <td>자동차 타이어 및 튜브 판매업</td>\n",
       "      <td>42</td>\n",
       "      <td>강원도</td>\n",
       "      <td>42150</td>\n",
       "      <td>강릉시</td>\n",
       "      <td>4215057100</td>\n",
       "      <td>포남1동</td>\n",
       "      <td>4.215011e+09</td>\n",
       "      <td>포남동</td>\n",
       "      <td>4215011100110960006</td>\n",
       "      <td>1</td>\n",
       "      <td>대지</td>\n",
       "      <td>1096</td>\n",
       "      <td>6.0</td>\n",
       "      <td>강원도 강릉시 포남동 1096-6</td>\n",
       "      <td>4.215032e+11</td>\n",
       "      <td>강원도 강릉시 가작로</td>\n",
       "      <td>270</td>\n",
       "      <td>NaN</td>\n",
       "      <td>4215011100110960006010791</td>\n",
       "      <td>NaN</td>\n",
       "      <td>강원도 강릉시 가작로 270</td>\n",
       "      <td>210110.0</td>\n",
       "      <td>25488.0</td>\n",
       "      <td>1</td>\n",
       "      <td>NaN</td>\n",
       "      <td>NaN</td>\n",
       "      <td>128.904472</td>\n",
       "      <td>37.770252</td>\n",
       "    </tr>\n",
       "  </tbody>\n",
       "</table>\n",
       "</div>"
      ],
      "text/plain": [
       "     상가업소번호        상호명  지점명 상권업종대분류코드 상권업종대분류명 상권업종중분류코드   상권업종중분류명 상권업종소분류코드  \\\n",
       "0  25033300  동그라미중고타이어  NaN         D       소매       D23  자동차/자동차용품    D23A04   \n",
       "\n",
       "  상권업종소분류명 표준산업분류코드           표준산업분류명  시도코드  시도명  시군구코드 시군구명       행정동코드  \\\n",
       "0    타이어판매   G45211  자동차 타이어 및 튜브 판매업    42  강원도  42150  강릉시  4215057100   \n",
       "\n",
       "   행정동명         법정동코드 법정동명                 지번코드  대지구분코드 대지구분명  지번본번지  지번부번지  \\\n",
       "0  포남1동  4.215011e+09  포남동  4215011100110960006       1    대지   1096    6.0   \n",
       "\n",
       "                 지번주소         도로명코드          도로명  건물본번지  건물부번지  \\\n",
       "0  강원도 강릉시 포남동 1096-6  4.215032e+11  강원도 강릉시 가작로    270    NaN   \n",
       "\n",
       "                      건물관리번호  건물명            도로명주소     구우편번호    신우편번호 동정보  \\\n",
       "0  4215011100110960006010791  NaN  강원도 강릉시 가작로 270  210110.0  25488.0   1   \n",
       "\n",
       "   층정보  호정보          경도         위도  \n",
       "0  NaN  NaN  128.904472  37.770252  "
      ]
     },
     "execution_count": 23,
     "metadata": {},
     "output_type": "execute_result"
    }
   ],
   "source": [
    "df.head(1)"
   ]
  },
  {
   "cell_type": "markdown",
   "id": "ee629ef4",
   "metadata": {},
   "source": [
    "# 데이터 확인 및 전처리"
   ]
  },
  {
   "cell_type": "markdown",
   "id": "a1073e6d",
   "metadata": {},
   "source": [
    "## 데이터 크기"
   ]
  },
  {
   "cell_type": "code",
   "execution_count": 24,
   "id": "295a8747",
   "metadata": {
    "scrolled": false
   },
   "outputs": [
    {
     "data": {
      "text/plain": [
       "(2245938, 39)"
      ]
     },
     "execution_count": 24,
     "metadata": {},
     "output_type": "execute_result"
    }
   ],
   "source": [
    "df.shape"
   ]
  },
  {
   "cell_type": "markdown",
   "id": "ee11660d",
   "metadata": {},
   "source": [
    "## 데이터프레임 정보"
   ]
  },
  {
   "cell_type": "code",
   "execution_count": 25,
   "id": "26deceba",
   "metadata": {
    "scrolled": false
   },
   "outputs": [
    {
     "name": "stdout",
     "output_type": "stream",
     "text": [
      "<class 'pandas.core.frame.DataFrame'>\n",
      "RangeIndex: 2245938 entries, 0 to 2245937\n",
      "Data columns (total 39 columns):\n",
      " #   Column     Dtype  \n",
      "---  ------     -----  \n",
      " 0   상가업소번호     int64  \n",
      " 1   상호명        object \n",
      " 2   지점명        object \n",
      " 3   상권업종대분류코드  object \n",
      " 4   상권업종대분류명   object \n",
      " 5   상권업종중분류코드  object \n",
      " 6   상권업종중분류명   object \n",
      " 7   상권업종소분류코드  object \n",
      " 8   상권업종소분류명   object \n",
      " 9   표준산업분류코드   object \n",
      " 10  표준산업분류명    object \n",
      " 11  시도코드       int64  \n",
      " 12  시도명        object \n",
      " 13  시군구코드      int64  \n",
      " 14  시군구명       object \n",
      " 15  행정동코드      int64  \n",
      " 16  행정동명       object \n",
      " 17  법정동코드      float64\n",
      " 18  법정동명       object \n",
      " 19  지번코드       int64  \n",
      " 20  대지구분코드     int64  \n",
      " 21  대지구분명      object \n",
      " 22  지번본번지      int64  \n",
      " 23  지번부번지      float64\n",
      " 24  지번주소       object \n",
      " 25  도로명코드      float64\n",
      " 26  도로명        object \n",
      " 27  건물본번지      int64  \n",
      " 28  건물부번지      float64\n",
      " 29  건물관리번호     object \n",
      " 30  건물명        object \n",
      " 31  도로명주소      object \n",
      " 32  구우편번호      float64\n",
      " 33  신우편번호      float64\n",
      " 34  동정보        object \n",
      " 35  층정보        object \n",
      " 36  호정보        object \n",
      " 37  경도         float64\n",
      " 38  위도         float64\n",
      "dtypes: float64(8), int64(8), object(23)\n",
      "memory usage: 668.3+ MB\n"
     ]
    }
   ],
   "source": [
    "df.info()"
   ]
  },
  {
   "cell_type": "markdown",
   "id": "ebe3c78a",
   "metadata": {},
   "source": [
    "## 서브셋 만들기"
   ]
  },
  {
   "cell_type": "code",
   "execution_count": 26,
   "id": "6277c5e3",
   "metadata": {
    "scrolled": false
   },
   "outputs": [
    {
     "data": {
      "text/plain": [
       "Index(['상가업소번호', '상호명', '지점명', '상권업종대분류코드', '상권업종대분류명', '상권업종중분류코드',\n",
       "       '상권업종중분류명', '상권업종소분류코드', '상권업종소분류명', '표준산업분류코드', '표준산업분류명', '시도코드',\n",
       "       '시도명', '시군구코드', '시군구명', '행정동코드', '행정동명', '법정동코드', '법정동명', '지번코드',\n",
       "       '대지구분코드', '대지구분명', '지번본번지', '지번부번지', '지번주소', '도로명코드', '도로명', '건물본번지',\n",
       "       '건물부번지', '건물관리번호', '건물명', '도로명주소', '구우편번호', '신우편번호', '동정보', '층정보',\n",
       "       '호정보', '경도', '위도'],\n",
       "      dtype='object')"
      ]
     },
     "execution_count": 26,
     "metadata": {},
     "output_type": "execute_result"
    }
   ],
   "source": [
    "# 컬럼명 가져오기\n",
    "df.columns"
   ]
  },
  {
   "cell_type": "markdown",
   "id": "6275a936",
   "metadata": {},
   "source": [
    "### 필요한 컬럼만 추출하여 서브셋 만들기\n",
    "* 서브셋을 만들 때는 copy()기능을 사용하는 것을 권장"
   ]
  },
  {
   "cell_type": "code",
   "execution_count": 27,
   "id": "428c80d3",
   "metadata": {
    "scrolled": false
   },
   "outputs": [],
   "source": [
    "df_store = df[['상호명','상권업종대분류명','상권업종중분류명','상권업종소분류명','시도명','시군구명','행정동명','법정동명','경도','위도']].copy()"
   ]
  },
  {
   "cell_type": "code",
   "execution_count": 28,
   "id": "ba2fd4f5",
   "metadata": {},
   "outputs": [
    {
     "data": {
      "text/html": [
       "<div>\n",
       "<style scoped>\n",
       "    .dataframe tbody tr th:only-of-type {\n",
       "        vertical-align: middle;\n",
       "    }\n",
       "\n",
       "    .dataframe tbody tr th {\n",
       "        vertical-align: top;\n",
       "    }\n",
       "\n",
       "    .dataframe thead th {\n",
       "        text-align: right;\n",
       "    }\n",
       "</style>\n",
       "<table border=\"1\" class=\"dataframe\">\n",
       "  <thead>\n",
       "    <tr style=\"text-align: right;\">\n",
       "      <th></th>\n",
       "      <th>상호명</th>\n",
       "      <th>상권업종대분류명</th>\n",
       "      <th>상권업종중분류명</th>\n",
       "      <th>상권업종소분류명</th>\n",
       "      <th>시도명</th>\n",
       "      <th>시군구명</th>\n",
       "      <th>행정동명</th>\n",
       "      <th>법정동명</th>\n",
       "      <th>경도</th>\n",
       "      <th>위도</th>\n",
       "    </tr>\n",
       "  </thead>\n",
       "  <tbody>\n",
       "    <tr>\n",
       "      <th>0</th>\n",
       "      <td>동그라미중고타이어</td>\n",
       "      <td>소매</td>\n",
       "      <td>자동차/자동차용품</td>\n",
       "      <td>타이어판매</td>\n",
       "      <td>강원도</td>\n",
       "      <td>강릉시</td>\n",
       "      <td>포남1동</td>\n",
       "      <td>포남동</td>\n",
       "      <td>128.904472</td>\n",
       "      <td>37.770252</td>\n",
       "    </tr>\n",
       "    <tr>\n",
       "      <th>1</th>\n",
       "      <td>세인트존스호텔Ohcrab</td>\n",
       "      <td>숙박</td>\n",
       "      <td>호텔/콘도</td>\n",
       "      <td>호텔/콘도</td>\n",
       "      <td>강원도</td>\n",
       "      <td>강릉시</td>\n",
       "      <td>초당동</td>\n",
       "      <td>강문동</td>\n",
       "      <td>128.920908</td>\n",
       "      <td>37.791299</td>\n",
       "    </tr>\n",
       "    <tr>\n",
       "      <th>2</th>\n",
       "      <td>평창라마다호텔</td>\n",
       "      <td>숙박</td>\n",
       "      <td>호텔/콘도</td>\n",
       "      <td>호텔/콘도</td>\n",
       "      <td>강원도</td>\n",
       "      <td>평창군</td>\n",
       "      <td>대관령면</td>\n",
       "      <td>대관령면</td>\n",
       "      <td>128.717971</td>\n",
       "      <td>37.660051</td>\n",
       "    </tr>\n",
       "    <tr>\n",
       "      <th>3</th>\n",
       "      <td>호텔탑스텐스카이라운지</td>\n",
       "      <td>숙박</td>\n",
       "      <td>호텔/콘도</td>\n",
       "      <td>호텔/콘도</td>\n",
       "      <td>강원도</td>\n",
       "      <td>강릉시</td>\n",
       "      <td>옥계면</td>\n",
       "      <td>옥계면</td>\n",
       "      <td>129.052902</td>\n",
       "      <td>37.654680</td>\n",
       "    </tr>\n",
       "    <tr>\n",
       "      <th>4</th>\n",
       "      <td>족발야시장</td>\n",
       "      <td>음식</td>\n",
       "      <td>한식</td>\n",
       "      <td>족발/보쌈전문</td>\n",
       "      <td>강원도</td>\n",
       "      <td>강릉시</td>\n",
       "      <td>교1동</td>\n",
       "      <td>교동</td>\n",
       "      <td>128.878636</td>\n",
       "      <td>37.765339</td>\n",
       "    </tr>\n",
       "  </tbody>\n",
       "</table>\n",
       "</div>"
      ],
      "text/plain": [
       "             상호명 상권업종대분류명   상권업종중분류명 상권업종소분류명  시도명 시군구명  행정동명  법정동명  \\\n",
       "0      동그라미중고타이어       소매  자동차/자동차용품    타이어판매  강원도  강릉시  포남1동   포남동   \n",
       "1  세인트존스호텔Ohcrab       숙박      호텔/콘도    호텔/콘도  강원도  강릉시   초당동   강문동   \n",
       "2        평창라마다호텔       숙박      호텔/콘도    호텔/콘도  강원도  평창군  대관령면  대관령면   \n",
       "3    호텔탑스텐스카이라운지       숙박      호텔/콘도    호텔/콘도  강원도  강릉시   옥계면   옥계면   \n",
       "4          족발야시장       음식         한식  족발/보쌈전문  강원도  강릉시   교1동    교동   \n",
       "\n",
       "           경도         위도  \n",
       "0  128.904472  37.770252  \n",
       "1  128.920908  37.791299  \n",
       "2  128.717971  37.660051  \n",
       "3  129.052902  37.654680  \n",
       "4  128.878636  37.765339  "
      ]
     },
     "execution_count": 28,
     "metadata": {},
     "output_type": "execute_result"
    }
   ],
   "source": [
    "df_store.head()"
   ]
  },
  {
   "cell_type": "markdown",
   "id": "d65cffc9",
   "metadata": {},
   "source": [
    "### 서브셋 데이터 확인"
   ]
  },
  {
   "cell_type": "code",
   "execution_count": 29,
   "id": "e8c75001",
   "metadata": {},
   "outputs": [
    {
     "data": {
      "text/plain": [
       "(2245938, 10)"
      ]
     },
     "execution_count": 29,
     "metadata": {},
     "output_type": "execute_result"
    }
   ],
   "source": [
    "# 데이터 크기\n",
    "df_store.shape"
   ]
  },
  {
   "cell_type": "code",
   "execution_count": 30,
   "id": "fc42a0db",
   "metadata": {
    "scrolled": false
   },
   "outputs": [
    {
     "name": "stdout",
     "output_type": "stream",
     "text": [
      "<class 'pandas.core.frame.DataFrame'>\n",
      "RangeIndex: 2245938 entries, 0 to 2245937\n",
      "Data columns (total 10 columns):\n",
      " #   Column    Dtype  \n",
      "---  ------    -----  \n",
      " 0   상호명       object \n",
      " 1   상권업종대분류명  object \n",
      " 2   상권업종중분류명  object \n",
      " 3   상권업종소분류명  object \n",
      " 4   시도명       object \n",
      " 5   시군구명      object \n",
      " 6   행정동명      object \n",
      " 7   법정동명      object \n",
      " 8   경도        float64\n",
      " 9   위도        float64\n",
      "dtypes: float64(2), object(8)\n",
      "memory usage: 171.4+ MB\n"
     ]
    }
   ],
   "source": [
    "# 데이터 정보(메모리 용량이 줄어듦)\n",
    "df_store.info()"
   ]
  },
  {
   "cell_type": "markdown",
   "id": "acf6fe85",
   "metadata": {},
   "source": [
    "### 결측치분석/처리"
   ]
  },
  {
   "cell_type": "code",
   "execution_count": 31,
   "id": "4c415f88",
   "metadata": {
    "scrolled": true
   },
   "outputs": [
    {
     "data": {
      "text/plain": [
       "상호명             2\n",
       "상권업종대분류명        0\n",
       "상권업종중분류명        0\n",
       "상권업종소분류명        0\n",
       "시도명             0\n",
       "시군구명            0\n",
       "행정동명        11839\n",
       "법정동명         1453\n",
       "경도              0\n",
       "위도              0\n",
       "dtype: int64"
      ]
     },
     "execution_count": 31,
     "metadata": {},
     "output_type": "execute_result"
    }
   ],
   "source": [
    "df_store.isnull().sum()"
   ]
  },
  {
   "cell_type": "markdown",
   "id": "a8d6554a",
   "metadata": {},
   "source": [
    "💡별도의 결측치 처리X"
   ]
  },
  {
   "cell_type": "markdown",
   "id": "32da55b4",
   "metadata": {},
   "source": [
    "## 상권업종분류"
   ]
  },
  {
   "cell_type": "code",
   "execution_count": 32,
   "id": "3332dc0a",
   "metadata": {},
   "outputs": [
    {
     "name": "stdout",
     "output_type": "stream",
     "text": [
      "['소매' '숙박' '음식' '학문/교육' '생활서비스' '부동산' '관광/여가/오락' '스포츠']\n",
      "8\n"
     ]
    }
   ],
   "source": [
    "print(df_store['상권업종대분류명'].unique())\n",
    "print(df_store['상권업종대분류명'].nunique())"
   ]
  },
  {
   "cell_type": "code",
   "execution_count": 33,
   "id": "0ee4079d",
   "metadata": {},
   "outputs": [
    {
     "data": {
      "text/plain": [
       "89"
      ]
     },
     "execution_count": 33,
     "metadata": {},
     "output_type": "execute_result"
    }
   ],
   "source": [
    "df_store['상권업종중분류명'].nunique()"
   ]
  },
  {
   "cell_type": "code",
   "execution_count": 34,
   "id": "57266f14",
   "metadata": {},
   "outputs": [
    {
     "data": {
      "text/plain": [
       "716"
      ]
     },
     "execution_count": 34,
     "metadata": {},
     "output_type": "execute_result"
    }
   ],
   "source": [
    "df_store['상권업종소분류명'].nunique()"
   ]
  },
  {
   "cell_type": "markdown",
   "id": "0164fb18",
   "metadata": {},
   "source": [
    "### 상권업종분류표"
   ]
  },
  {
   "cell_type": "code",
   "execution_count": 35,
   "id": "fd52bf5d",
   "metadata": {},
   "outputs": [],
   "source": [
    "df_store_class = df_store[['상권업종대분류명','상권업종중분류명','상권업종소분류명']].drop_duplicates().sort_values(['상권업종대분류명','상권업종중분류명','상권업종소분류명'])"
   ]
  },
  {
   "cell_type": "code",
   "execution_count": 36,
   "id": "6f3d4a93",
   "metadata": {},
   "outputs": [
    {
     "data": {
      "text/html": [
       "<div>\n",
       "<style scoped>\n",
       "    .dataframe tbody tr th:only-of-type {\n",
       "        vertical-align: middle;\n",
       "    }\n",
       "\n",
       "    .dataframe tbody tr th {\n",
       "        vertical-align: top;\n",
       "    }\n",
       "\n",
       "    .dataframe thead th {\n",
       "        text-align: right;\n",
       "    }\n",
       "</style>\n",
       "<table border=\"1\" class=\"dataframe\">\n",
       "  <thead>\n",
       "    <tr style=\"text-align: right;\">\n",
       "      <th></th>\n",
       "      <th>상권업종대분류명</th>\n",
       "      <th>상권업종중분류명</th>\n",
       "      <th>상권업종소분류명</th>\n",
       "    </tr>\n",
       "  </thead>\n",
       "  <tbody>\n",
       "    <tr>\n",
       "      <th>8094</th>\n",
       "      <td>관광/여가/오락</td>\n",
       "      <td>PC/오락/당구/볼링등</td>\n",
       "      <td>기원</td>\n",
       "    </tr>\n",
       "    <tr>\n",
       "      <th>2885</th>\n",
       "      <td>관광/여가/오락</td>\n",
       "      <td>PC/오락/당구/볼링등</td>\n",
       "      <td>당구장</td>\n",
       "    </tr>\n",
       "    <tr>\n",
       "      <th>4683</th>\n",
       "      <td>관광/여가/오락</td>\n",
       "      <td>PC/오락/당구/볼링등</td>\n",
       "      <td>볼링장</td>\n",
       "    </tr>\n",
       "    <tr>\n",
       "      <th>44597</th>\n",
       "      <td>관광/여가/오락</td>\n",
       "      <td>PC/오락/당구/볼링등</td>\n",
       "      <td>비디오감상실</td>\n",
       "    </tr>\n",
       "    <tr>\n",
       "      <th>53746</th>\n",
       "      <td>관광/여가/오락</td>\n",
       "      <td>PC/오락/당구/볼링등</td>\n",
       "      <td>오락용사격장</td>\n",
       "    </tr>\n",
       "    <tr>\n",
       "      <th>...</th>\n",
       "      <td>...</td>\n",
       "      <td>...</td>\n",
       "      <td>...</td>\n",
       "    </tr>\n",
       "    <tr>\n",
       "      <th>140419</th>\n",
       "      <td>학문/교육</td>\n",
       "      <td>학원기타</td>\n",
       "      <td>학원-모델</td>\n",
       "    </tr>\n",
       "    <tr>\n",
       "      <th>101249</th>\n",
       "      <td>학문/교육</td>\n",
       "      <td>학원기타</td>\n",
       "      <td>학원-실내운전</td>\n",
       "    </tr>\n",
       "    <tr>\n",
       "      <th>11474</th>\n",
       "      <td>학문/교육</td>\n",
       "      <td>학원기타</td>\n",
       "      <td>학원-심리변론</td>\n",
       "    </tr>\n",
       "    <tr>\n",
       "      <th>162249</th>\n",
       "      <td>학문/교육</td>\n",
       "      <td>학원기타</td>\n",
       "      <td>학원-역학</td>\n",
       "    </tr>\n",
       "    <tr>\n",
       "      <th>115129</th>\n",
       "      <td>학문/교육</td>\n",
       "      <td>학원기타</td>\n",
       "      <td>학원-침술</td>\n",
       "    </tr>\n",
       "  </tbody>\n",
       "</table>\n",
       "<p>716 rows × 3 columns</p>\n",
       "</div>"
      ],
      "text/plain": [
       "        상권업종대분류명      상권업종중분류명 상권업종소분류명\n",
       "8094    관광/여가/오락  PC/오락/당구/볼링등       기원\n",
       "2885    관광/여가/오락  PC/오락/당구/볼링등      당구장\n",
       "4683    관광/여가/오락  PC/오락/당구/볼링등      볼링장\n",
       "44597   관광/여가/오락  PC/오락/당구/볼링등   비디오감상실\n",
       "53746   관광/여가/오락  PC/오락/당구/볼링등   오락용사격장\n",
       "...          ...           ...      ...\n",
       "140419     학문/교육          학원기타    학원-모델\n",
       "101249     학문/교육          학원기타  학원-실내운전\n",
       "11474      학문/교육          학원기타  학원-심리변론\n",
       "162249     학문/교육          학원기타    학원-역학\n",
       "115129     학문/교육          학원기타    학원-침술\n",
       "\n",
       "[716 rows x 3 columns]"
      ]
     },
     "execution_count": 36,
     "metadata": {},
     "output_type": "execute_result"
    }
   ],
   "source": [
    "# 상권업종 분류표 모두보기(최대 행 수 지정)\n",
    "pd.options.display.max_rows=20\n",
    "df_store_class"
   ]
  }
 ],
 "metadata": {
  "kernelspec": {
   "display_name": "Python 3 (ipykernel)",
   "language": "python",
   "name": "python3"
  },
  "language_info": {
   "codemirror_mode": {
    "name": "ipython",
    "version": 3
   },
   "file_extension": ".py",
   "mimetype": "text/x-python",
   "name": "python",
   "nbconvert_exporter": "python",
   "pygments_lexer": "ipython3",
   "version": "3.9.13"
  },
  "toc": {
   "base_numbering": 1,
   "nav_menu": {},
   "number_sections": true,
   "sideBar": true,
   "skip_h1_title": false,
   "title_cell": "Table of Contents",
   "title_sidebar": "Contents",
   "toc_cell": false,
   "toc_position": {
    "height": "calc(100% - 180px)",
    "left": "10px",
    "top": "150px",
    "width": "165px"
   },
   "toc_section_display": true,
   "toc_window_display": false
  }
 },
 "nbformat": 4,
 "nbformat_minor": 5
}
